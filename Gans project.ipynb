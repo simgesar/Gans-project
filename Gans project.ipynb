{
 "cells": [
  {
   "cell_type": "code",
   "execution_count": 3,
   "metadata": {
    "colab": {
     "base_uri": "https://localhost:8080/"
    },
    "id": "h7XGRW58Onq4",
    "outputId": "06035ada-1ef2-4c65-a285-61994611f6aa",
    "tags": []
   },
   "outputs": [
    {
     "name": "stdout",
     "output_type": "stream",
     "text": [
      "Requirement already satisfied: beautifulsoup4 in /Users/simgesargin/opt/anaconda3/lib/python3.9/site-packages (4.12.0)\n",
      "Requirement already satisfied: soupsieve>1.2 in /Users/simgesargin/opt/anaconda3/lib/python3.9/site-packages (from beautifulsoup4) (2.3.1)\n"
     ]
    }
   ],
   "source": [
    "!pip install --upgrade beautifulsoup4"
   ]
  },
  {
   "cell_type": "code",
   "execution_count": 1,
   "metadata": {
    "id": "09E5mZ6mjM-J",
    "tags": []
   },
   "outputs": [],
   "source": [
    "#import libraries\n",
    "from bs4 import BeautifulSoup\n",
    "import requests\n",
    "import pandas as pd\n",
    "import re"
   ]
  },
  {
   "cell_type": "code",
   "execution_count": 2,
   "metadata": {
    "id": "EfulSS0rj9Gd",
    "tags": []
   },
   "outputs": [],
   "source": [
    "#url\n",
    "url = \"https://en.wikipedia.org/wiki/Berlin\""
   ]
  },
  {
   "cell_type": "code",
   "execution_count": 15,
   "metadata": {
    "colab": {
     "base_uri": "https://localhost:8080/"
    },
    "id": "6ToaJ81GkC0r",
    "outputId": "4973d63e-4efe-4105-f8da-be2f6be04be5",
    "tags": []
   },
   "outputs": [],
   "source": [
    "#download html with a get request\n",
    "response = requests.get(url)\n"
   ]
  },
  {
   "cell_type": "code",
   "execution_count": 21,
   "metadata": {
    "id": "6ZaT16qaP2yJ",
    "tags": []
   },
   "outputs": [],
   "source": [
    "def recreate_wiki(cities):\n",
    "  \n",
    "  list_for_df = []\n",
    "  \n",
    "  \n",
    "  for city in cities:\n",
    "    \n",
    "    url = f'https://en.wikipedia.org/wiki/{city}'\n",
    "    r = requests.get(url)\n",
    "    soup = BeautifulSoup(r.content, 'html.parser')\n",
    "\n",
    "   \n",
    "    response_dict = {}\n",
    "\n",
    "    \n",
    "    response_dict['city'] = soup.select(\".firstHeading\")[0].get_text()\n",
    "    response_dict['country'] = soup.select(\".infobox-data\")[0].get_text()\n",
    "    response_dict['latitude'] = soup.select(\".latitude\")[0].get_text()\n",
    "    response_dict['longitude'] = soup.select(\".longitude\")[0].get_text()\n",
    "    \n",
    "    if soup.select_one('.infobox-label:-soup-contains(\"Elevation\")'):\n",
    "      response_dict['elevation'] = soup.select_one('.infobox-label:-soup-contains(\"Elevation\")').find_next(class_='infobox-data').get_text()\n",
    "    response_dict['website'] = soup.select_one('.infobox-label:-soup-contains(\"Website\")').find_next(class_='infobox-data').get_text()\n",
    "    if soup.select_one('th.infobox-header:-soup-contains(\"Population\")'):\n",
    "        response_dict['population'] = soup.select_one('th.infobox-header:-soup-contains(\"Population\")').parent.find_next_sibling().find(text=re.compile(r'\\d+'))\n",
    "    \n",
    "   \n",
    "    list_for_df.append(response_dict)\n",
    "  \n",
    "\n",
    "  cities_df = pd.DataFrame(list_for_df)\n",
    "\n",
    "\n",
    "  cities_df['latitude'] = cities_df['latitude'].str.split('″').str[0].str.replace('°', '.', regex=False).str.replace('′', '', regex=False)\n",
    "\n",
    "  cities_df['longitude'] = cities_df['longitude'].str.split('″').str[0].str.replace('°', '.', regex=False).str.replace('′', '', regex=False)\n",
    "\n",
    "  cities_df.insert(4, 'elevation_in_meters', cities_df['elevation'].str.split('m').str[0].str.strip())\n",
    "\n",
    "\n",
    "  return cities_df\n"
   ]
  },
  {
   "cell_type": "code",
   "execution_count": 19,
   "metadata": {
    "colab": {
     "base_uri": "https://localhost:8080/",
     "height": 206
    },
    "id": "vPj5D3KfTZk2",
    "outputId": "41f95d79-a85f-47cb-d03d-5b4ee98a0814",
    "tags": []
   },
   "outputs": [
    {
     "name": "stderr",
     "output_type": "stream",
     "text": [
      "/var/folders/h8/kd6k0w0116jcc2334rqg7g900000gn/T/ipykernel_5984/1674666230.py:29: DeprecationWarning: The 'text' argument to find()-type methods is deprecated. Use 'string' instead.\n",
      "  response_dict['population'] = soup.select_one('th.infobox-header:-soup-contains(\"Population\")').parent.find_next_sibling().find(text=re.compile(r'\\d+'))\n"
     ]
    },
    {
     "data": {
      "text/html": [
       "<div>\n",
       "<style scoped>\n",
       "    .dataframe tbody tr th:only-of-type {\n",
       "        vertical-align: middle;\n",
       "    }\n",
       "\n",
       "    .dataframe tbody tr th {\n",
       "        vertical-align: top;\n",
       "    }\n",
       "\n",
       "    .dataframe thead th {\n",
       "        text-align: right;\n",
       "    }\n",
       "</style>\n",
       "<table border=\"1\" class=\"dataframe\">\n",
       "  <thead>\n",
       "    <tr style=\"text-align: right;\">\n",
       "      <th></th>\n",
       "      <th>city</th>\n",
       "      <th>country</th>\n",
       "      <th>latitude</th>\n",
       "      <th>longitude</th>\n",
       "      <th>elevation_in_meters</th>\n",
       "      <th>website</th>\n",
       "      <th>population</th>\n",
       "      <th>elevation</th>\n",
       "    </tr>\n",
       "  </thead>\n",
       "  <tbody>\n",
       "    <tr>\n",
       "      <th>0</th>\n",
       "      <td>Istanbul</td>\n",
       "      <td>Turkey</td>\n",
       "      <td>41.0049</td>\n",
       "      <td>28.5718</td>\n",
       "      <td>NaN</td>\n",
       "      <td>ibb.istanbul (in Turkish)www.istanbul.gov.tr (...</td>\n",
       "      <td>15,907,951</td>\n",
       "      <td>NaN</td>\n",
       "    </tr>\n",
       "    <tr>\n",
       "      <th>1</th>\n",
       "      <td>Berlin</td>\n",
       "      <td>Germany</td>\n",
       "      <td>52.3112</td>\n",
       "      <td>13.2418</td>\n",
       "      <td>34</td>\n",
       "      <td>berlin.de</td>\n",
       "      <td>3,677,472</td>\n",
       "      <td>34 m (112 ft)</td>\n",
       "    </tr>\n",
       "    <tr>\n",
       "      <th>2</th>\n",
       "      <td>Hamburg</td>\n",
       "      <td>Germany</td>\n",
       "      <td>53.33N</td>\n",
       "      <td>10.00E</td>\n",
       "      <td>NaN</td>\n",
       "      <td>hamburg.com</td>\n",
       "      <td>1,906,411</td>\n",
       "      <td>NaN</td>\n",
       "    </tr>\n",
       "    <tr>\n",
       "      <th>3</th>\n",
       "      <td>London</td>\n",
       "      <td>United Kingdom</td>\n",
       "      <td>51.3026</td>\n",
       "      <td>0.739</td>\n",
       "      <td>36 ft (11</td>\n",
       "      <td>www.london.gov.uk</td>\n",
       "      <td>8,799,800</td>\n",
       "      <td>36 ft (11 m)</td>\n",
       "    </tr>\n",
       "    <tr>\n",
       "      <th>4</th>\n",
       "      <td>Manchester</td>\n",
       "      <td>United Kingdom</td>\n",
       "      <td>53.2846</td>\n",
       "      <td>2.1443</td>\n",
       "      <td>38</td>\n",
       "      <td>manchester.gov.uk</td>\n",
       "      <td>551,938</td>\n",
       "      <td>38 m (125 ft)</td>\n",
       "    </tr>\n",
       "    <tr>\n",
       "      <th>5</th>\n",
       "      <td>Barcelona</td>\n",
       "      <td>Spain</td>\n",
       "      <td>41.23N</td>\n",
       "      <td>2.11E</td>\n",
       "      <td>12</td>\n",
       "      <td>www.barcelona.cat</td>\n",
       "      <td>1,620,343</td>\n",
       "      <td>12 m (39 ft)</td>\n",
       "    </tr>\n",
       "  </tbody>\n",
       "</table>\n",
       "</div>"
      ],
      "text/plain": [
       "         city          country latitude longitude elevation_in_meters  \\\n",
       "0    Istanbul           Turkey  41.0049   28.5718                 NaN   \n",
       "1      Berlin          Germany  52.3112   13.2418                  34   \n",
       "2     Hamburg          Germany   53.33N    10.00E                 NaN   \n",
       "3      London   United Kingdom  51.3026     0.739           36 ft (11   \n",
       "4  Manchester   United Kingdom  53.2846    2.1443                  38   \n",
       "5   Barcelona            Spain   41.23N     2.11E                  12   \n",
       "\n",
       "                                             website  population  \\\n",
       "0  ibb.istanbul (in Turkish)www.istanbul.gov.tr (...  15,907,951   \n",
       "1                                          berlin.de   3,677,472   \n",
       "2                                        hamburg.com   1,906,411   \n",
       "3                                 www.london.gov.uk    8,799,800   \n",
       "4                                  manchester.gov.uk     551,938   \n",
       "5                                 www.barcelona.cat    1,620,343   \n",
       "\n",
       "       elevation  \n",
       "0            NaN  \n",
       "1  34 m (112 ft)  \n",
       "2            NaN  \n",
       "3   36 ft (11 m)  \n",
       "4  38 m (125 ft)  \n",
       "5   12 m (39 ft)  "
      ]
     },
     "execution_count": 19,
     "metadata": {},
     "output_type": "execute_result"
    }
   ],
   "source": [
    "\n",
    "list_of_cities = ['Istanbul','Berlin', 'Hamburg', 'London', 'Manchester', 'Barcelona']\n",
    "recreate_wiki(list_of_cities)"
   ]
  },
  {
   "cell_type": "code",
   "execution_count": null,
   "metadata": {},
   "outputs": [],
   "source": []
  },
  {
   "cell_type": "code",
   "execution_count": 14,
   "metadata": {},
   "outputs": [
    {
     "name": "stdout",
     "output_type": "stream",
     "text": [
      "Requirement already satisfied: sqlalchemy in /Users/simgesargin/opt/anaconda3/lib/python3.9/site-packages (1.4.39)\n"
     ]
    }
   ],
   "source": [
    "!pip install sqlalchemy\n",
    "import sqlalchemy"
   ]
  },
  {
   "cell_type": "code",
   "execution_count": 16,
   "metadata": {
    "tags": []
   },
   "outputs": [
    {
     "data": {
      "text/plain": [
       "['Istanbul', 'Berlin', 'Hamburg', 'London', 'Manchester', 'Barcelona']"
      ]
     },
     "execution_count": 16,
     "metadata": {},
     "output_type": "execute_result"
    }
   ],
   "source": [
    "list_of_cities"
   ]
  },
  {
   "cell_type": "code",
   "execution_count": 23,
   "metadata": {},
   "outputs": [
    {
     "name": "stdout",
     "output_type": "stream",
     "text": [
      "           City Country Weather  Temperature\n",
      "0  Ludwigsfelde      DE    Rain       284.79\n",
      "1  Büyükçekmece      TR    Rain       283.30\n"
     ]
    }
   ],
   "source": [
    "lat = [52.3112, 41.0049]\n",
    "lon = [13.2418, 28.5718]\n",
    "API_key = \"xx\"\n",
    "\n",
    "list_for_df_airports = []\n",
    "\n",
    "for i in range(len(lat)):\n",
    "    url = f\"http://api.openweathermap.org/data/2.5/forecast?lat={lat[i]}&lon={lon[i]}&appid={API_key}\"\n",
    "    response = requests.get(url)\n",
    "    weather_data = response.json()\n",
    "    list_for_df_airports.append(weather_data)\n",
    "\n",
    "df_list = []\n",
    "\n",
    "for city_data in list_for_df_airports:\n",
    "    city_name = city_data[\"city\"][\"name\"]\n",
    "    city_country = city_data[\"city\"][\"country\"]\n",
    "    city_weather = city_data[\"list\"][0][\"weather\"][0][\"main\"]\n",
    "    city_temp = city_data[\"list\"][0][\"main\"][\"temp\"]\n",
    "    df_list.append([city_name, city_country, city_weather, city_temp])\n",
    "\n",
    "df = pd.DataFrame(df_list, columns=[\"City\", \"Country\", \"Weather\", \"Temperature\"])\n",
    "print(df)"
   ]
  },
  {
   "cell_type": "code",
   "execution_count": null,
   "metadata": {},
   "outputs": [],
   "source": [
    "import my_API_key_arrivals\n"
   ]
  },
  {
   "cell_type": "code",
   "execution_count": null,
   "metadata": {},
   "outputs": [],
   "source": [
    "url = \"https://aerodatabox.p.rapidapi.com/airports/search/location\"\n",
    "\n",
    "querystring = {\"lat\":\"52.31\",\"lon\":\"13.24\",\"radiusKm\":\"50\",\"limit\":\"10\",\"withFlightInfoOnly\":\"true\"}\n",
    "\n",
    "headers = {\n",
    "\t\"X-RapidAPI-Key\": \" my_API_key_arrivals.API_key_arriv\",\n",
    "\t\"X-RapidAPI-Host\": \"aerodatabox.p.rapidapi.com\"\n",
    "}\n",
    "\n",
    "response = requests.request(\"GET\", url, headers=headers, params=querystring)"
   ]
  },
  {
   "cell_type": "code",
   "execution_count": null,
   "metadata": {},
   "outputs": [],
   "source": [
    "response.json()\n"
   ]
  },
  {
   "cell_type": "code",
   "execution_count": 24,
   "metadata": {
    "tags": []
   },
   "outputs": [],
   "source": [
    "lat = [52.3112, 51.3026]\n",
    "lon = [13.2418, 0.739]\n",
    "\n",
    "list_for_df_airports = []\n",
    "\n",
    "for i in range(len(lat)):\n",
    "    url = \"https://aerodatabox.p.rapidapi.com/airports/search/location\"\n",
    "\n",
    "    querystring = {\"lat\":lat[i],\"lon\":lon[i],\"radiusKm\":\"50\",\"limit\":\"10\",\"withFlightInfoOnly\":\"true\"}\n",
    "\n",
    "    headers = {\n",
    "        \"X-RapidAPI-Key\": \"0c9614578fmsh8ee8e2e2dc7d010p1f952bjsn77ac9569fedc\",\n",
    "        \"X-RapidAPI-Host\": \"aerodatabox.p.rapidapi.com\"\n",
    "    }\n",
    "\n",
    "    response = requests.request(\"GET\", url, headers=headers, params=querystring)\n",
    "    \n",
    "    list_for_df_airports.append(response.json()['items'])"
   ]
  },
  {
   "cell_type": "code",
   "execution_count": null,
   "metadata": {},
   "outputs": [],
   "source": [
    "list_for_df_airports"
   ]
  },
  {
   "cell_type": "code",
   "execution_count": null,
   "metadata": {},
   "outputs": [],
   "source": [
    "airpot_dict = {}\n",
    "airpot_dict['icao'] = list_for_df_airports[0][0]['icao']\n",
    "airpot_dict['name'] = list_for_df_airports[0][0]['name']\n",
    "\n",
    "airpot_dict"
   ]
  },
  {
   "cell_type": "code",
   "execution_count": null,
   "metadata": {},
   "outputs": [],
   "source": [
    "list_for_df = []\n",
    "\n",
    "for i in list_for_df_airports:\n",
    "    airpots_dict = {}\n",
    "    \n",
    "    airpots_dict['icao'] = i[0]['icao']\n",
    "    airpots_dict['name'] = i[0]['name']\n",
    "    list_for_df.append(airpots_dict)"
   ]
  },
  {
   "cell_type": "code",
   "execution_count": 25,
   "metadata": {
    "tags": []
   },
   "outputs": [
    {
     "name": "stdout",
     "output_type": "stream",
     "text": [
      "           City Country Weather  Temperature\n",
      "0  Ludwigsfelde      DE  Clouds       287.22\n",
      "1  Büyükçekmece      TR    Rain       284.34\n"
     ]
    }
   ],
   "source": [
    "lat = [52.3112, 41.0049]\n",
    "lon = [13.2418, 28.5718]\n",
    "API_key = \"8194d44d7c480cb9934f928a232574b4\"\n",
    "\n",
    "list_for_df_airports = []\n",
    "\n",
    "for i in range(len(lat)):\n",
    "    url = f\"http://api.openweathermap.org/data/2.5/forecast?lat={lat[i]}&lon={lon[i]}&appid={API_key}\"\n",
    "    response = requests.get(url)\n",
    "    weather_data = response.json()\n",
    "    list_for_df_airports.append(weather_data)\n",
    "\n",
    "df_list = []\n",
    "\n",
    "for city_data in list_for_df_airports:\n",
    "    city_name = city_data[\"city\"][\"name\"]\n",
    "    city_country = city_data[\"city\"][\"country\"]\n",
    "    city_weather = city_data[\"list\"][0][\"weather\"][0][\"main\"]\n",
    "    city_temp = city_data[\"list\"][0][\"main\"][\"temp\"]\n",
    "    df_list.append([city_name, city_country, city_weather, city_temp])\n",
    "\n",
    "df = pd.DataFrame(df_list, columns=[\"City\", \"Country\", \"Weather\", \"Temperature\"])\n",
    "print(df)"
   ]
  },
  {
   "cell_type": "code",
   "execution_count": 33,
   "metadata": {
    "tags": []
   },
   "outputs": [
    {
     "name": "stdout",
     "output_type": "stream",
     "text": [
      "{\"searchBy\":{\"lat\":52.31,\"lon\":13.24},\"items\":[{\"icao\":\"EDDB\",\"iata\":\"BER\",\"name\":\"Berlin, Berlin Brandenburg\",\"shortName\":\"Brandenburg\",\"municipalityName\":\"Berlin\",\"location\":{\"lat\":52.35139,\"lon\":13.493889},\"countryCode\":\"DE\"}]}\n"
     ]
    }
   ],
   "source": [
    "url = \"https://aerodatabox.p.rapidapi.com/airports/search/location\"\n",
    "\n",
    "querystring = {\"lat\":\"52.31\",\"lon\":\"13.24\",\"radiusKm\":\"50\",\"limit\":\"10\",\"withFlightInfoOnly\":\"true\"}\n",
    "\n",
    "headers = {\n",
    "\t\"X-RapidAPI-Key\": \"0c9614578fmsh8ee8e2e2dc7d010p1f952bjsn77ac9569fedc\",\n",
    "\t\"X-RapidAPI-Host\": \"aerodatabox.p.rapidapi.com\"\n",
    "}\n",
    "\n",
    "response = requests.request(\"GET\", url, headers=headers, params=querystring)\n",
    "\n",
    "print(response.text)"
   ]
  },
  {
   "cell_type": "code",
   "execution_count": 34,
   "metadata": {
    "tags": []
   },
   "outputs": [],
   "source": [
    "#DataFrame with flights data for more than one city/airport (for loop)\n",
    "lat = [41.0049, 52.3112]\n",
    "lon = [28.5718,13.2418]\n",
    "\n",
    "list_for_df_airports = []\n",
    "\n",
    "for i in range(len(lat)): \n",
    "    url = \"https://aerodatabox.p.rapidapi.com/airports/search/location\"\n",
    "\n",
    "    querystring = {\"lat\":lat[i],\"lon\":lon[i],\"radiusKm\":\"50\",\"limit\":\"10\",\"withFlightInfoOnly\":\"true\"}\n",
    "\n",
    "    headers = {\n",
    "        \"X-RapidAPI-Key\": \"0c9614578fmsh8ee8e2e2dc7d010p1f952bjsn77ac9569fedc\",\n",
    "        \"X-RapidAPI-Host\": \"aerodatabox.p.rapidapi.com\"\n",
    "    }\n",
    "\n",
    "    response = requests.request(\"GET\", url, headers=headers, params=querystring)\n",
    "    list_for_df_airports.append(response.json()['items'])"
   ]
  },
  {
   "cell_type": "code",
   "execution_count": 35,
   "metadata": {
    "tags": []
   },
   "outputs": [
    {
     "data": {
      "text/plain": [
       "{'icao': 'LTFM',\n",
       " 'name': 'Istanbul',\n",
       " 'location': {'lat': 41.275276, 'lon': 28.751944},\n",
       " 'countryCode': 'TR'}"
      ]
     },
     "execution_count": 35,
     "metadata": {},
     "output_type": "execute_result"
    }
   ],
   "source": [
    "airport_dict = {}\n",
    "airport_dict[\"icao\"] = list_for_df_airports[0][0][\"icao\"]\n",
    "airport_dict['name'] = list_for_df_airports[0][0][\"name\"]\n",
    "airport_dict[\"location\"] = list_for_df_airports[0][0][\"location\"]\n",
    "airport_dict[\"countryCode\"] = list_for_df_airports[0][0][\"countryCode\"]\n",
    "airport_dict"
   ]
  },
  {
   "cell_type": "code",
   "execution_count": 36,
   "metadata": {
    "tags": []
   },
   "outputs": [],
   "source": [
    "list_for_df = []\n",
    "\n",
    "for i in list_for_df_airports:\n",
    "    airport_dict = {}\n",
    "    airport_dict['icao'] = i[0][\"icao\"]\n",
    "    airport_dict['name'] = i[0][\"name\"]\n",
    "    airport_dict[\"location\"] = i[0][\"location\"]\n",
    "    airport_dict[\"countryCode\"] = i[0][\"countryCode\"]\n",
    "    list_for_df.append(airport_dict)"
   ]
  },
  {
   "cell_type": "code",
   "execution_count": 37,
   "metadata": {
    "tags": []
   },
   "outputs": [
    {
     "data": {
      "text/html": [
       "<div>\n",
       "<style scoped>\n",
       "    .dataframe tbody tr th:only-of-type {\n",
       "        vertical-align: middle;\n",
       "    }\n",
       "\n",
       "    .dataframe tbody tr th {\n",
       "        vertical-align: top;\n",
       "    }\n",
       "\n",
       "    .dataframe thead th {\n",
       "        text-align: right;\n",
       "    }\n",
       "</style>\n",
       "<table border=\"1\" class=\"dataframe\">\n",
       "  <thead>\n",
       "    <tr style=\"text-align: right;\">\n",
       "      <th></th>\n",
       "      <th>icao</th>\n",
       "      <th>name</th>\n",
       "      <th>location</th>\n",
       "      <th>countryCode</th>\n",
       "    </tr>\n",
       "  </thead>\n",
       "  <tbody>\n",
       "    <tr>\n",
       "      <th>0</th>\n",
       "      <td>LTFM</td>\n",
       "      <td>Istanbul</td>\n",
       "      <td>{'lat': 41.275276, 'lon': 28.751944}</td>\n",
       "      <td>TR</td>\n",
       "    </tr>\n",
       "    <tr>\n",
       "      <th>1</th>\n",
       "      <td>EDDB</td>\n",
       "      <td>Berlin, Berlin Brandenburg</td>\n",
       "      <td>{'lat': 52.35139, 'lon': 13.493889}</td>\n",
       "      <td>DE</td>\n",
       "    </tr>\n",
       "  </tbody>\n",
       "</table>\n",
       "</div>"
      ],
      "text/plain": [
       "   icao                        name                              location  \\\n",
       "0  LTFM                    Istanbul  {'lat': 41.275276, 'lon': 28.751944}   \n",
       "1  EDDB  Berlin, Berlin Brandenburg   {'lat': 52.35139, 'lon': 13.493889}   \n",
       "\n",
       "  countryCode  \n",
       "0          TR  \n",
       "1          DE  "
      ]
     },
     "execution_count": 37,
     "metadata": {},
     "output_type": "execute_result"
    }
   ],
   "source": [
    "airports_df = pd.DataFrame(list_for_df)\n",
    "airports_df"
   ]
  },
  {
   "cell_type": "code",
   "execution_count": null,
   "metadata": {
    "tags": []
   },
   "outputs": [],
   "source": [
    "url = \"https://aerodatabox.p.rapidapi.com/flights/airports/icao/EHAM/2022-10-04T20:00/2022-10-05T08:00\"\n",
    "\n",
    "querystring = {\"withLeg\":\"true\",\"direction\":\"Arrival\",\"withCancelled\":\"false\",\"withCodeshared\":\"false\",\"withCargo\":\"false\",\"withPrivate\":\"false\",\"withLocation\":\"true\"}\n",
    "\n",
    "headers = {\n",
    "\t\"X-RapidAPI-Key\": \"0c9614578fmsh8ee8e2e2dc7d010p1f952bjsn77ac9569fedc\",\n",
    "\t\"X-RapidAPI-Host\": \"aerodatabox.p.rapidapi.com\"\n",
    "}\n",
    "\n",
    "response = requests.request(\"GET\", url, headers=headers, params=querystring)\n",
    "\n",
    "print(response.text)"
   ]
  },
  {
   "cell_type": "code",
   "execution_count": 40,
   "metadata": {
    "tags": []
   },
   "outputs": [],
   "source": [
    "from IPython.display import JSON "
   ]
  },
  {
   "cell_type": "code",
   "execution_count": 41,
   "metadata": {
    "tags": []
   },
   "outputs": [
    {
     "data": {
      "application/json": {
       "arrivals": [
        {
         "aircraft": {
          "modeS": "3C6D43",
          "model": "Embraer 190",
          "reg": "D-AKJC"
         },
         "airline": {
          "name": "KLM"
         },
         "arrival": {
          "actualTimeLocal": "2022-10-04 20:54+02:00",
          "actualTimeUtc": "2022-10-04 18:54Z",
          "baggageBelt": "11",
          "quality": [
           "Basic",
           "Live"
          ],
          "revisedTime": {
           "local": "2022-10-04 20:54+02:00",
           "utc": "2022-10-04 18:54Z"
          },
          "runwayTime": {
           "local": "2022-10-04 20:54+02:00",
           "utc": "2022-10-04 18:54Z"
          },
          "runwayTimeLocal": "2022-10-04 20:54+02:00",
          "runwayTimeUtc": "2022-10-04 18:54Z",
          "scheduledTime": {
           "local": "2022-10-04 19:50+02:00",
           "utc": "2022-10-04 17:50Z"
          },
          "scheduledTimeLocal": "2022-10-04 19:50+02:00",
          "scheduledTimeUtc": "2022-10-04 17:50Z",
          "terminal": "2"
         },
         "callSign": "KLM87N",
         "codeshareStatus": "IsOperator",
         "departure": {
          "actualTimeLocal": "2022-10-04 19:25+02:00",
          "actualTimeUtc": "2022-10-04 17:25Z",
          "airport": {
           "iata": "GOT",
           "icao": "ESGG",
           "name": "Goteborg"
          },
          "checkInDesk": "22-26",
          "gate": "15",
          "quality": [
           "Basic",
           "Live"
          ],
          "revisedTime": {
           "local": "2022-10-04 19:25+02:00",
           "utc": "2022-10-04 17:25Z"
          },
          "scheduledTime": {
           "local": "2022-10-04 18:15+02:00",
           "utc": "2022-10-04 16:15Z"
          },
          "scheduledTimeLocal": "2022-10-04 18:15+02:00",
          "scheduledTimeUtc": "2022-10-04 16:15Z",
          "terminal": "1"
         },
         "isCargo": false,
         "number": "KL 1162",
         "status": "Arrived"
        },
        {
         "aircraft": {
          "model": "Boeing 737-800 (winglets)"
         },
         "airline": {
          "name": "KLM"
         },
         "arrival": {
          "actualTimeLocal": "2022-10-04 20:57+02:00",
          "actualTimeUtc": "2022-10-04 18:57Z",
          "baggageBelt": "12",
          "quality": [
           "Basic",
           "Live"
          ],
          "revisedTime": {
           "local": "2022-10-04 20:57+02:00",
           "utc": "2022-10-04 18:57Z"
          },
          "runwayTime": {
           "local": "2022-10-04 20:57+02:00",
           "utc": "2022-10-04 18:57Z"
          },
          "runwayTimeLocal": "2022-10-04 20:57+02:00",
          "runwayTimeUtc": "2022-10-04 18:57Z",
          "scheduledTime": {
           "local": "2022-10-04 19:50+02:00",
           "utc": "2022-10-04 17:50Z"
          },
          "scheduledTimeLocal": "2022-10-04 19:50+02:00",
          "scheduledTimeUtc": "2022-10-04 17:50Z",
          "terminal": "2"
         },
         "codeshareStatus": "IsOperator",
         "departure": {
          "airport": {
           "iata": "BLL",
           "icao": "EKBI",
           "name": "Billund"
          },
          "quality": [
           "Basic"
          ],
          "scheduledTime": {
           "local": "2022-10-04 18:35+02:00",
           "utc": "2022-10-04 16:35Z"
          },
          "scheduledTimeLocal": "2022-10-04 18:35+02:00",
          "scheduledTimeUtc": "2022-10-04 16:35Z"
         },
         "isCargo": false,
         "number": "KL 1348",
         "status": "Arrived"
        },
        {
         "aircraft": {
          "model": "Boeing 737-800 (winglets)"
         },
         "airline": {
          "name": "KLM"
         },
         "arrival": {
          "actualTimeLocal": "2022-10-04 20:34+02:00",
          "actualTimeUtc": "2022-10-04 18:34Z",
          "baggageBelt": "10",
          "quality": [
           "Basic",
           "Live"
          ],
          "revisedTime": {
           "local": "2022-10-04 20:34+02:00",
           "utc": "2022-10-04 18:34Z"
          },
          "runwayTime": {
           "local": "2022-10-04 20:34+02:00",
           "utc": "2022-10-04 18:34Z"
          },
          "runwayTimeLocal": "2022-10-04 20:34+02:00",
          "runwayTimeUtc": "2022-10-04 18:34Z",
          "scheduledTime": {
           "local": "2022-10-04 19:55+02:00",
           "utc": "2022-10-04 17:55Z"
          },
          "scheduledTimeLocal": "2022-10-04 19:55+02:00",
          "scheduledTimeUtc": "2022-10-04 17:55Z",
          "terminal": "2"
         },
         "codeshareStatus": "IsOperator",
         "departure": {
          "actualTimeLocal": "2022-10-04 18:28+03:00",
          "actualTimeUtc": "2022-10-04 15:28Z",
          "airport": {
           "iata": "ATH",
           "icao": "LGAV",
           "name": "Athens"
          },
          "checkInDesk": "79---83",
          "gate": "B13",
          "quality": [
           "Basic",
           "Live"
          ],
          "revisedTime": {
           "local": "2022-10-04 18:28+03:00",
           "utc": "2022-10-04 15:28Z"
          },
          "scheduledTime": {
           "local": "2022-10-04 17:20+03:00",
           "utc": "2022-10-04 14:20Z"
          },
          "scheduledTimeLocal": "2022-10-04 17:20+03:00",
          "scheduledTimeUtc": "2022-10-04 14:20Z",
          "terminal": "D"
         },
         "isCargo": false,
         "number": "KL 1576",
         "status": "Arrived"
        },
        {
         "aircraft": {
          "modeS": "484EE5",
          "model": "Boeing 737-800 (winglets)",
          "reg": "PH-HSE"
         },
         "airline": {
          "name": "KLM"
         },
         "arrival": {
          "actualTimeLocal": "2022-10-04 20:00+02:00",
          "actualTimeUtc": "2022-10-04 18:00Z",
          "baggageBelt": "10",
          "quality": [
           "Basic",
           "Live"
          ],
          "revisedTime": {
           "local": "2022-10-04 20:00+02:00",
           "utc": "2022-10-04 18:00Z"
          },
          "runwayTime": {
           "local": "2022-10-04 20:00+02:00",
           "utc": "2022-10-04 18:00Z"
          },
          "runwayTimeLocal": "2022-10-04 20:00+02:00",
          "runwayTimeUtc": "2022-10-04 18:00Z",
          "scheduledTime": {
           "local": "2022-10-04 19:35+02:00",
           "utc": "2022-10-04 17:35Z"
          },
          "scheduledTimeLocal": "2022-10-04 19:35+02:00",
          "scheduledTimeUtc": "2022-10-04 17:35Z",
          "terminal": "2"
         },
         "callSign": "KLM1614",
         "codeshareStatus": "IsOperator",
         "departure": {
          "airport": {
           "iata": "IST",
           "icao": "LTFM",
           "name": "Istanbul"
          },
          "quality": [
           "Basic"
          ],
          "scheduledTime": {
           "local": "2022-10-04 17:00+03:00",
           "utc": "2022-10-04 14:00Z"
          },
          "scheduledTimeLocal": "2022-10-04 17:00+03:00",
          "scheduledTimeUtc": "2022-10-04 14:00Z"
         },
         "isCargo": false,
         "number": "KL 1614",
         "status": "Arrived"
        },
        {
         "aircraft": {
          "model": "Embraer 195-E2"
         },
         "airline": {
          "name": "KLM"
         },
         "arrival": {
          "actualTimeLocal": "2022-10-04 20:15+02:00",
          "actualTimeUtc": "2022-10-04 18:15Z",
          "baggageBelt": "11",
          "quality": [
           "Basic",
           "Live"
          ],
          "revisedTime": {
           "local": "2022-10-04 20:15+02:00",
           "utc": "2022-10-04 18:15Z"
          },
          "runwayTime": {
           "local": "2022-10-04 20:15+02:00",
           "utc": "2022-10-04 18:15Z"
          },
          "runwayTimeLocal": "2022-10-04 20:15+02:00",
          "runwayTimeUtc": "2022-10-04 18:15Z",
          "scheduledTime": {
           "local": "2022-10-04 19:55+02:00",
           "utc": "2022-10-04 17:55Z"
          },
          "scheduledTimeLocal": "2022-10-04 19:55+02:00",
          "scheduledTimeUtc": "2022-10-04 17:55Z",
          "terminal": "2"
         },
         "codeshareStatus": "IsOperator",
         "departure": {
          "airport": {
           "iata": "KRK",
           "icao": "EPKK",
           "name": "Kraków"
          },
          "quality": [
           "Basic"
          ],
          "scheduledTime": {
           "local": "2022-10-04 17:55+02:00",
           "utc": "2022-10-04 15:55Z"
          },
          "scheduledTimeLocal": "2022-10-04 17:55+02:00",
          "scheduledTimeUtc": "2022-10-04 15:55Z"
         },
         "isCargo": false,
         "number": "KL 1996",
         "status": "Arrived"
        },
        {
         "aircraft": {
          "modeS": "4ACA09",
          "model": "Boeing 737-800 (winglets)",
          "reg": "SE-RPI"
         },
         "airline": {
          "name": "Norwegian Air International"
         },
         "arrival": {
          "actualTimeLocal": "2022-10-04 21:05+02:00",
          "actualTimeUtc": "2022-10-04 19:05Z",
          "baggageBelt": "16",
          "quality": [
           "Basic",
           "Live"
          ],
          "revisedTime": {
           "local": "2022-10-04 21:05+02:00",
           "utc": "2022-10-04 19:05Z"
          },
          "runwayTime": {
           "local": "2022-10-04 21:05+02:00",
           "utc": "2022-10-04 19:05Z"
          },
          "runwayTimeLocal": "2022-10-04 21:05+02:00",
          "runwayTimeUtc": "2022-10-04 19:05Z",
          "scheduledTime": {
           "local": "2022-10-04 20:50+02:00",
           "utc": "2022-10-04 18:50Z"
          },
          "scheduledTimeLocal": "2022-10-04 20:50+02:00",
          "scheduledTimeUtc": "2022-10-04 18:50Z",
          "terminal": "3"
         },
         "callSign": "NSZ1NE",
         "codeshareStatus": "IsOperator",
         "departure": {
          "actualTimeLocal": "2022-10-04 19:04+02:00",
          "actualTimeUtc": "2022-10-04 17:04Z",
          "airport": {
           "iata": "ARN",
           "icao": "ESSA",
           "name": "Stockholm"
          },
          "checkInDesk": "10-17",
          "gate": "15A",
          "quality": [
           "Basic",
           "Live"
          ],
          "revisedTime": {
           "local": "2022-10-04 19:04+02:00",
           "utc": "2022-10-04 17:04Z"
          },
          "scheduledTime": {
           "local": "2022-10-04 18:50+02:00",
           "utc": "2022-10-04 16:50Z"
          },
          "scheduledTimeLocal": "2022-10-04 18:50+02:00",
          "scheduledTimeUtc": "2022-10-04 16:50Z",
          "terminal": "5"
         },
         "isCargo": false,
         "number": "D8 4531",
         "status": "Arrived"
        },
        {
         "aircraft": {
          "modeS": "4853D4",
          "model": "Boeing 737-800 (winglets)",
          "reg": "PH-HXK"
         },
         "airline": {
          "name": "Transavia"
         },
         "arrival": {
          "actualTimeLocal": "2022-10-04 21:25+02:00",
          "actualTimeUtc": "2022-10-04 19:25Z",
          "baggageBelt": "16",
          "quality": [
           "Basic",
           "Live"
          ],
          "revisedTime": {
           "local": "2022-10-04 21:25+02:00",
           "utc": "2022-10-04 19:25Z"
          },
          "runwayTime": {
           "local": "2022-10-04 21:25+02:00",
           "utc": "2022-10-04 19:25Z"
          },
          "runwayTimeLocal": "2022-10-04 21:25+02:00",
          "runwayTimeUtc": "2022-10-04 19:25Z",
          "scheduledTime": {
           "local": "2022-10-04 20:35+02:00",
           "utc": "2022-10-04 18:35Z"
          },
          "scheduledTimeLocal": "2022-10-04 20:35+02:00",
          "scheduledTimeUtc": "2022-10-04 18:35Z",
          "terminal": "3"
         },
         "callSign": "TRA5802",
         "codeshareStatus": "IsOperator",
         "departure": {
          "actualTimeLocal": "2022-10-04 19:11+03:00",
          "actualTimeUtc": "2022-10-04 16:11Z",
          "airport": {
           "iata": "ATH",
           "icao": "LGAV",
           "name": "Athens"
          },
          "checkInDesk": "123--126",
          "gate": "B26",
          "quality": [
           "Basic",
           "Live"
          ],
          "revisedTime": {
           "local": "2022-10-04 19:11+03:00",
           "utc": "2022-10-04 16:11Z"
          },
          "scheduledTime": {
           "local": "2022-10-04 14:30+03:00",
           "utc": "2022-10-04 11:30Z"
          },
          "scheduledTimeLocal": "2022-10-04 14:30+03:00",
          "scheduledTimeUtc": "2022-10-04 11:30Z",
          "terminal": "D"
         },
         "isCargo": false,
         "number": "HV 5802",
         "status": "Arrived"
        },
        {
         "aircraft": {
          "modeS": "486491",
          "model": "Embraer 195-E2",
          "reg": "PH-NXH"
         },
         "airline": {
          "name": "KLM"
         },
         "arrival": {
          "actualTimeLocal": "2022-10-04 20:36+02:00",
          "actualTimeUtc": "2022-10-04 18:36Z",
          "baggageBelt": "12",
          "quality": [
           "Basic",
           "Live"
          ],
          "revisedTime": {
           "local": "2022-10-04 20:36+02:00",
           "utc": "2022-10-04 18:36Z"
          },
          "runwayTime": {
           "local": "2022-10-04 20:36+02:00",
           "utc": "2022-10-04 18:36Z"
          },
          "runwayTimeLocal": "2022-10-04 20:36+02:00",
          "runwayTimeUtc": "2022-10-04 18:36Z",
          "scheduledTime": {
           "local": "2022-10-04 20:50+02:00",
           "utc": "2022-10-04 18:50Z"
          },
          "scheduledTimeLocal": "2022-10-04 20:50+02:00",
          "scheduledTimeUtc": "2022-10-04 18:50Z",
          "terminal": "2"
         },
         "callSign": "KLM1024",
         "codeshareStatus": "IsOperator",
         "departure": {
          "actualTimeLocal": "2022-10-04 18:55+01:00",
          "actualTimeUtc": "2022-10-04 17:55Z",
          "airport": {
           "iata": "LHR",
           "icao": "EGLL",
           "name": "London"
          },
          "checkInDesk": "B",
          "quality": [
           "Basic",
           "Live"
          ],
          "revisedTime": {
           "local": "2022-10-04 18:55+01:00",
           "utc": "2022-10-04 17:55Z"
          },
          "scheduledTime": {
           "local": "2022-10-04 18:35+01:00",
           "utc": "2022-10-04 17:35Z"
          },
          "scheduledTimeLocal": "2022-10-04 18:35+01:00",
          "scheduledTimeUtc": "2022-10-04 17:35Z",
          "terminal": "3"
         },
         "isCargo": false,
         "number": "KL 1024",
         "status": "Arrived"
        },
        {
         "aircraft": {
          "model": "Boeing 737-800 (winglets)"
         },
         "airline": {
          "name": "KLM"
         },
         "arrival": {
          "actualTimeLocal": "2022-10-04 20:51+02:00",
          "actualTimeUtc": "2022-10-04 18:51Z",
          "baggageBelt": "12",
          "quality": [
           "Basic",
           "Live"
          ],
          "revisedTime": {
           "local": "2022-10-04 20:51+02:00",
           "utc": "2022-10-04 18:51Z"
          },
          "runwayTime": {
           "local": "2022-10-04 20:51+02:00",
           "utc": "2022-10-04 18:51Z"
          },
          "runwayTimeLocal": "2022-10-04 20:51+02:00",
          "runwayTimeUtc": "2022-10-04 18:51Z",
          "scheduledTime": {
           "local": "2022-10-04 20:40+02:00",
           "utc": "2022-10-04 18:40Z"
          },
          "scheduledTimeLocal": "2022-10-04 20:40+02:00",
          "scheduledTimeUtc": "2022-10-04 18:40Z",
          "terminal": "2"
         },
         "codeshareStatus": "IsOperator",
         "departure": {
          "actualTimeLocal": "2022-10-04 19:35+02:00",
          "actualTimeUtc": "2022-10-04 17:35Z",
          "airport": {
           "iata": "CPH",
           "icao": "EKCH",
           "name": "Copenhagen"
          },
          "gate": "A11",
          "quality": [
           "Basic",
           "Live"
          ],
          "revisedTime": {
           "local": "2022-10-04 19:35+02:00",
           "utc": "2022-10-04 17:35Z"
          },
          "scheduledTime": {
           "local": "2022-10-04 19:10+02:00",
           "utc": "2022-10-04 17:10Z"
          },
          "scheduledTimeLocal": "2022-10-04 19:10+02:00",
          "scheduledTimeUtc": "2022-10-04 17:10Z",
          "terminal": "2"
         },
         "isCargo": false,
         "number": "KL 1134",
         "status": "Arrived"
        },
        {
         "aircraft": {
          "model": "Boeing 737-800 (winglets)"
         },
         "airline": {
          "name": "KLM"
         },
         "arrival": {
          "actualTimeLocal": "2022-10-04 20:02+02:00",
          "actualTimeUtc": "2022-10-04 18:02Z",
          "baggageBelt": "9",
          "quality": [
           "Basic",
           "Live"
          ],
          "revisedTime": {
           "local": "2022-10-04 20:02+02:00",
           "utc": "2022-10-04 18:02Z"
          },
          "runwayTime": {
           "local": "2022-10-04 20:02+02:00",
           "utc": "2022-10-04 18:02Z"
          },
          "runwayTimeLocal": "2022-10-04 20:02+02:00",
          "runwayTimeUtc": "2022-10-04 18:02Z",
          "scheduledTime": {
           "local": "2022-10-04 20:15+02:00",
           "utc": "2022-10-04 18:15Z"
          },
          "scheduledTimeLocal": "2022-10-04 20:15+02:00",
          "scheduledTimeUtc": "2022-10-04 18:15Z",
          "terminal": "2"
         },
         "codeshareStatus": "IsOperator",
         "departure": {
          "airport": {
           "iata": "CDG",
           "icao": "LFPG",
           "name": "Paris"
          },
          "quality": [
           "Basic"
          ],
          "scheduledTime": {
           "local": "2022-10-04 18:50+02:00",
           "utc": "2022-10-04 16:50Z"
          },
          "scheduledTimeLocal": "2022-10-04 18:50+02:00",
          "scheduledTimeUtc": "2022-10-04 16:50Z",
          "terminal": "2F"
         },
         "isCargo": false,
         "number": "KL 1244",
         "status": "Arrived"
        },
        {
         "aircraft": {
          "model": "Boeing 737-800 (winglets)"
         },
         "airline": {
          "name": "KLM"
         },
         "arrival": {
          "actualTimeLocal": "2022-10-04 20:28+02:00",
          "actualTimeUtc": "2022-10-04 18:28Z",
          "baggageBelt": "9",
          "quality": [
           "Basic",
           "Live"
          ],
          "revisedTime": {
           "local": "2022-10-04 20:28+02:00",
           "utc": "2022-10-04 18:28Z"
          },
          "runwayTime": {
           "local": "2022-10-04 20:28+02:00",
           "utc": "2022-10-04 18:28Z"
          },
          "runwayTimeLocal": "2022-10-04 20:28+02:00",
          "runwayTimeUtc": "2022-10-04 18:28Z",
          "scheduledTime": {
           "local": "2022-10-04 20:05+02:00",
           "utc": "2022-10-04 18:05Z"
          },
          "scheduledTimeLocal": "2022-10-04 20:05+02:00",
          "scheduledTimeUtc": "2022-10-04 18:05Z",
          "terminal": "2"
         },
         "codeshareStatus": "IsOperator",
         "departure": {
          "actualTimeLocal": "2022-10-04 18:05+03:00",
          "actualTimeUtc": "2022-10-04 15:05Z",
          "airport": {
           "iata": "OTP",
           "icao": "LROP",
           "name": "Bucharest"
          },
          "quality": [
           "Basic",
           "Live"
          ],
          "revisedTime": {
           "local": "2022-10-04 18:05+03:00",
           "utc": "2022-10-04 15:05Z"
          },
          "scheduledTime": {
           "local": "2022-10-04 18:05+03:00",
           "utc": "2022-10-04 15:05Z"
          },
          "scheduledTimeLocal": "2022-10-04 18:05+03:00",
          "scheduledTimeUtc": "2022-10-04 15:05Z"
         },
         "isCargo": false,
         "number": "KL 1376",
         "status": "Arrived"
        },
        {
         "aircraft": {
          "model": "Boeing 737-800 (winglets)"
         },
         "airline": {
          "name": "KLM"
         },
         "arrival": {
          "actualTimeLocal": "2022-10-04 20:24+02:00",
          "actualTimeUtc": "2022-10-04 18:24Z",
          "baggageBelt": "13",
          "quality": [
           "Basic",
           "Live"
          ],
          "revisedTime": {
           "local": "2022-10-04 20:24+02:00",
           "utc": "2022-10-04 18:24Z"
          },
          "runwayTime": {
           "local": "2022-10-04 20:24+02:00",
           "utc": "2022-10-04 18:24Z"
          },
          "runwayTimeLocal": "2022-10-04 20:24+02:00",
          "runwayTimeUtc": "2022-10-04 18:24Z",
          "scheduledTime": {
           "local": "2022-10-04 20:20+02:00",
           "utc": "2022-10-04 18:20Z"
          },
          "scheduledTimeLocal": "2022-10-04 20:20+02:00",
          "scheduledTimeUtc": "2022-10-04 18:20Z",
          "terminal": "2"
         },
         "codeshareStatus": "IsOperator",
         "departure": {
          "actualTimeLocal": "2022-10-04 18:20+01:00",
          "actualTimeUtc": "2022-10-04 17:20Z",
          "airport": {
           "iata": "BHX",
           "icao": "EGBB",
           "name": "Birmingham"
          },
          "quality": [
           "Basic",
           "Live"
          ],
          "revisedTime": {
           "local": "2022-10-04 18:20+01:00",
           "utc": "2022-10-04 17:20Z"
          },
          "runwayTime": {
           "local": "2022-10-04 18:44+01:00",
           "utc": "2022-10-04 17:44Z"
          },
          "runwayTimeLocal": "2022-10-04 18:44+01:00",
          "runwayTimeUtc": "2022-10-04 17:44Z",
          "scheduledTime": {
           "local": "2022-10-04 18:05+01:00",
           "utc": "2022-10-04 17:05Z"
          },
          "scheduledTimeLocal": "2022-10-04 18:05+01:00",
          "scheduledTimeUtc": "2022-10-04 17:05Z"
         },
         "isCargo": false,
         "number": "KL 1432",
         "status": "Arrived"
        },
        {
         "aircraft": {
          "model": "Boeing 737-800 (winglets)"
         },
         "airline": {
          "name": "KLM"
         },
         "arrival": {
          "actualTimeLocal": "2022-10-04 20:17+02:00",
          "actualTimeUtc": "2022-10-04 18:17Z",
          "baggageBelt": "9",
          "quality": [
           "Basic",
           "Live"
          ],
          "revisedTime": {
           "local": "2022-10-04 20:17+02:00",
           "utc": "2022-10-04 18:17Z"
          },
          "runwayTime": {
           "local": "2022-10-04 20:17+02:00",
           "utc": "2022-10-04 18:17Z"
          },
          "runwayTimeLocal": "2022-10-04 20:17+02:00",
          "runwayTimeUtc": "2022-10-04 18:17Z",
          "scheduledTime": {
           "local": "2022-10-04 20:15+02:00",
           "utc": "2022-10-04 18:15Z"
          },
          "scheduledTimeLocal": "2022-10-04 20:15+02:00",
          "scheduledTimeUtc": "2022-10-04 18:15Z",
          "terminal": "2"
         },
         "codeshareStatus": "IsOperator",
         "departure": {
          "actualTimeLocal": "2022-10-04 18:00+02:00",
          "actualTimeUtc": "2022-10-04 16:00Z",
          "airport": {
           "iata": "FCO",
           "icao": "LIRF",
           "name": "Rome"
          },
          "quality": [
           "Basic",
           "Live"
          ],
          "revisedTime": {
           "local": "2022-10-04 18:00+02:00",
           "utc": "2022-10-04 16:00Z"
          },
          "scheduledTime": {
           "local": "2022-10-04 17:40+02:00",
           "utc": "2022-10-04 15:40Z"
          },
          "scheduledTimeLocal": "2022-10-04 17:40+02:00",
          "scheduledTimeUtc": "2022-10-04 15:40Z",
          "terminal": "1"
         },
         "isCargo": false,
         "number": "KL 1604",
         "status": "Arrived"
        },
        {
         "aircraft": {
          "modeS": "484B31",
          "model": "Embraer 190",
          "reg": "PH-EZD"
         },
         "airline": {
          "name": "KLM"
         },
         "arrival": {
          "actualTimeLocal": "2022-10-04 20:30+02:00",
          "actualTimeUtc": "2022-10-04 18:30Z",
          "baggageBelt": "11",
          "quality": [
           "Basic",
           "Live"
          ],
          "revisedTime": {
           "local": "2022-10-04 20:30+02:00",
           "utc": "2022-10-04 18:30Z"
          },
          "runwayTime": {
           "local": "2022-10-04 20:30+02:00",
           "utc": "2022-10-04 18:30Z"
          },
          "runwayTimeLocal": "2022-10-04 20:30+02:00",
          "runwayTimeUtc": "2022-10-04 18:30Z",
          "scheduledTime": {
           "local": "2022-10-04 20:30+02:00",
           "utc": "2022-10-04 18:30Z"
          },
          "scheduledTimeLocal": "2022-10-04 20:30+02:00",
          "scheduledTimeUtc": "2022-10-04 18:30Z",
          "terminal": "2"
         },
         "callSign": "KLM1774",
         "codeshareStatus": "IsOperator",
         "departure": {
          "actualTimeLocal": "2022-10-04 19:20+02:00",
          "actualTimeUtc": "2022-10-04 17:20Z",
          "airport": {
           "iata": "FRA",
           "icao": "EDDF",
           "name": "Frankfurt-am-Main"
          },
          "checkInDesk": "801-804",
          "gate": "E26",
          "quality": [
           "Basic",
           "Live"
          ],
          "revisedTime": {
           "local": "2022-10-04 19:20+02:00",
           "utc": "2022-10-04 17:20Z"
          },
          "scheduledTime": {
           "local": "2022-10-04 19:20+02:00",
           "utc": "2022-10-04 17:20Z"
          },
          "scheduledTimeLocal": "2022-10-04 19:20+02:00",
          "scheduledTimeUtc": "2022-10-04 17:20Z",
          "terminal": "2"
         },
         "isCargo": false,
         "number": "KL 1774",
         "status": "Arrived"
        },
        {
         "aircraft": {
          "modeS": "484559",
          "model": "Boeing 737-800 (winglets)",
          "reg": "PH-BGB"
         },
         "airline": {
          "name": "KLM"
         },
         "arrival": {
          "actualTimeLocal": "2022-10-04 20:26+02:00",
          "actualTimeUtc": "2022-10-04 18:26Z",
          "baggageBelt": "8",
          "quality": [
           "Basic",
           "Live"
          ],
          "revisedTime": {
           "local": "2022-10-04 20:26+02:00",
           "utc": "2022-10-04 18:26Z"
          },
          "runwayTime": {
           "local": "2022-10-04 20:26+02:00",
           "utc": "2022-10-04 18:26Z"
          },
          "runwayTimeLocal": "2022-10-04 20:26+02:00",
          "runwayTimeUtc": "2022-10-04 18:26Z",
          "scheduledTime": {
           "local": "2022-10-04 20:35+02:00",
           "utc": "2022-10-04 18:35Z"
          },
          "scheduledTimeLocal": "2022-10-04 20:35+02:00",
          "scheduledTimeUtc": "2022-10-04 18:35Z",
          "terminal": "2"
         },
         "callSign": "KLM1832",
         "codeshareStatus": "IsOperator",
         "departure": {
          "airport": {
           "iata": "BER",
           "icao": "EDDB",
           "name": "Berlin"
          },
          "quality": [
           "Basic"
          ],
          "scheduledTime": {
           "local": "2022-10-04 19:05+02:00",
           "utc": "2022-10-04 17:05Z"
          },
          "scheduledTimeLocal": "2022-10-04 19:05+02:00",
          "scheduledTimeUtc": "2022-10-04 17:05Z",
          "terminal": "1"
         },
         "isCargo": false,
         "number": "KL 1832",
         "status": "Arrived"
        },
        {
         "aircraft": {
          "model": "Embraer 195-E2"
         },
         "airline": {
          "name": "KLM"
         },
         "arrival": {
          "actualTimeLocal": "2022-10-04 21:01+02:00",
          "actualTimeUtc": "2022-10-04 19:01Z",
          "baggageBelt": "9",
          "quality": [
           "Basic",
           "Live"
          ],
          "revisedTime": {
           "local": "2022-10-04 21:01+02:00",
           "utc": "2022-10-04 19:01Z"
          },
          "runwayTime": {
           "local": "2022-10-04 21:01+02:00",
           "utc": "2022-10-04 19:01Z"
          },
          "runwayTimeLocal": "2022-10-04 21:01+02:00",
          "runwayTimeUtc": "2022-10-04 19:01Z",
          "scheduledTime": {
           "local": "2022-10-04 20:55+02:00",
           "utc": "2022-10-04 18:55Z"
          },
          "scheduledTimeLocal": "2022-10-04 20:55+02:00",
          "scheduledTimeUtc": "2022-10-04 18:55Z",
          "terminal": "2"
         },
         "codeshareStatus": "IsOperator",
         "departure": {
          "actualTimeLocal": "2022-10-04 19:38+02:00",
          "actualTimeUtc": "2022-10-04 17:38Z",
          "airport": {
           "iata": "GVA",
           "icao": "LSGG",
           "name": "Geneva"
          },
          "checkInDesk": "81-84",
          "gate": "A8",
          "quality": [
           "Basic",
           "Live"
          ],
          "revisedTime": {
           "local": "2022-10-04 19:38+02:00",
           "utc": "2022-10-04 17:38Z"
          },
          "scheduledTime": {
           "local": "2022-10-04 19:15+02:00",
           "utc": "2022-10-04 17:15Z"
          },
          "scheduledTimeLocal": "2022-10-04 19:15+02:00",
          "scheduledTimeUtc": "2022-10-04 17:15Z",
          "terminal": "1"
         },
         "isCargo": false,
         "number": "KL 1934",
         "status": "Arrived"
        },
        {
         "aircraft": {
          "model": "Embraer 195-E2"
         },
         "airline": {
          "name": "KLM"
         },
         "arrival": {
          "actualTimeLocal": "2022-10-04 20:47+02:00",
          "actualTimeUtc": "2022-10-04 18:47Z",
          "baggageBelt": "8",
          "quality": [
           "Basic",
           "Live"
          ],
          "revisedTime": {
           "local": "2022-10-04 20:47+02:00",
           "utc": "2022-10-04 18:47Z"
          },
          "runwayTime": {
           "local": "2022-10-04 20:47+02:00",
           "utc": "2022-10-04 18:47Z"
          },
          "runwayTimeLocal": "2022-10-04 20:47+02:00",
          "runwayTimeUtc": "2022-10-04 18:47Z",
          "scheduledTime": {
           "local": "2022-10-04 20:10+02:00",
           "utc": "2022-10-04 18:10Z"
          },
          "scheduledTimeLocal": "2022-10-04 20:10+02:00",
          "scheduledTimeUtc": "2022-10-04 18:10Z",
          "terminal": "2"
         },
         "codeshareStatus": "IsOperator",
         "departure": {
          "actualTimeLocal": "2022-10-04 18:40+01:00",
          "actualTimeUtc": "2022-10-04 17:40Z",
          "airport": {
           "iata": "DUB",
           "icao": "EIDW",
           "name": "Dublin"
          },
          "checkInDesk": "1006-1010",
          "gate": "224",
          "quality": [
           "Basic",
           "Live"
          ],
          "revisedTime": {
           "local": "2022-10-04 18:40+01:00",
           "utc": "2022-10-04 17:40Z"
          },
          "scheduledTime": {
           "local": "2022-10-04 17:25+01:00",
           "utc": "2022-10-04 16:25Z"
          },
          "scheduledTimeLocal": "2022-10-04 17:25+01:00",
          "scheduledTimeUtc": "2022-10-04 16:25Z",
          "terminal": "1"
         },
         "isCargo": false,
         "number": "KL 938",
         "status": "Arrived"
        },
        {
         "aircraft": {
          "model": "Embraer 190"
         },
         "airline": {
          "name": "KLM"
         },
         "arrival": {
          "actualTimeLocal": "2022-10-04 20:03+02:00",
          "actualTimeUtc": "2022-10-04 18:03Z",
          "baggageBelt": "13",
          "quality": [
           "Basic",
           "Live"
          ],
          "revisedTime": {
           "local": "2022-10-04 20:03+02:00",
           "utc": "2022-10-04 18:03Z"
          },
          "runwayTime": {
           "local": "2022-10-04 20:03+02:00",
           "utc": "2022-10-04 18:03Z"
          },
          "runwayTimeLocal": "2022-10-04 20:03+02:00",
          "runwayTimeUtc": "2022-10-04 18:03Z",
          "scheduledTime": {
           "local": "2022-10-04 20:15+02:00",
           "utc": "2022-10-04 18:15Z"
          },
          "scheduledTimeLocal": "2022-10-04 20:15+02:00",
          "scheduledTimeUtc": "2022-10-04 18:15Z",
          "terminal": "2"
         },
         "codeshareStatus": "IsOperator",
         "departure": {
          "airport": {
           "iata": "BHD",
           "icao": "EGAC",
           "name": "Belfast"
          },
          "quality": [
           "Basic"
          ],
          "scheduledTime": {
           "local": "2022-10-04 17:40+01:00",
           "utc": "2022-10-04 16:40Z"
          },
          "scheduledTimeLocal": "2022-10-04 17:40+01:00",
          "scheduledTimeUtc": "2022-10-04 16:40Z"
         },
         "isCargo": false,
         "number": "KL 948",
         "status": "Arrived"
        },
        {
         "aircraft": {
          "model": "Bombardier CRJ900"
         },
         "airline": {
          "name": "Lufthansa"
         },
         "arrival": {
          "actualTimeLocal": "2022-10-04 20:41+02:00",
          "actualTimeUtc": "2022-10-04 18:41Z",
          "baggageBelt": "2",
          "quality": [
           "Basic",
           "Live"
          ],
          "revisedTime": {
           "local": "2022-10-04 20:41+02:00",
           "utc": "2022-10-04 18:41Z"
          },
          "runwayTime": {
           "local": "2022-10-04 20:41+02:00",
           "utc": "2022-10-04 18:41Z"
          },
          "runwayTimeLocal": "2022-10-04 20:41+02:00",
          "runwayTimeUtc": "2022-10-04 18:41Z",
          "scheduledTime": {
           "local": "2022-10-04 20:35+02:00",
           "utc": "2022-10-04 18:35Z"
          },
          "scheduledTimeLocal": "2022-10-04 20:35+02:00",
          "scheduledTimeUtc": "2022-10-04 18:35Z",
          "terminal": "1"
         },
         "codeshareStatus": "IsOperator",
         "departure": {
          "actualTimeLocal": "2022-10-04 19:05+02:00",
          "actualTimeUtc": "2022-10-04 17:05Z",
          "airport": {
           "iata": "MUC",
           "icao": "EDDM",
           "name": "Munich"
          },
          "quality": [
           "Basic",
           "Live"
          ],
          "revisedTime": {
           "local": "2022-10-04 19:05+02:00",
           "utc": "2022-10-04 17:05Z"
          },
          "scheduledTime": {
           "local": "2022-10-04 19:05+02:00",
           "utc": "2022-10-04 17:05Z"
          },
          "scheduledTimeLocal": "2022-10-04 19:05+02:00",
          "scheduledTimeUtc": "2022-10-04 17:05Z",
          "terminal": "2"
         },
         "isCargo": false,
         "number": "LH 2308",
         "status": "Arrived"
        },
        {
         "aircraft": {
          "model": "Boeing 767-300 (winglets)"
         },
         "airline": {
          "name": "TUIfly Netherlands"
         },
         "arrival": {
          "actualTimeLocal": "2022-10-04 21:07+02:00",
          "actualTimeUtc": "2022-10-04 19:07Z",
          "baggageBelt": "22",
          "quality": [
           "Basic",
           "Live"
          ],
          "revisedTime": {
           "local": "2022-10-04 21:07+02:00",
           "utc": "2022-10-04 19:07Z"
          },
          "runwayTime": {
           "local": "2022-10-04 21:07+02:00",
           "utc": "2022-10-04 19:07Z"
          },
          "runwayTimeLocal": "2022-10-04 21:07+02:00",
          "runwayTimeUtc": "2022-10-04 19:07Z",
          "scheduledTime": {
           "local": "2022-10-04 20:55+02:00",
           "utc": "2022-10-04 18:55Z"
          },
          "scheduledTimeLocal": "2022-10-04 20:55+02:00",
          "scheduledTimeUtc": "2022-10-04 18:55Z",
          "terminal": "4"
         },
         "codeshareStatus": "IsOperator",
         "departure": {
          "actualTimeLocal": "2022-10-04 15:43+01:00",
          "actualTimeUtc": "2022-10-04 14:43Z",
          "airport": {
           "iata": "FUE",
           "icao": "GCFV",
           "name": "Fuerteventura Island"
          },
          "checkInDesk": "59-64",
          "gate": "A21",
          "quality": [
           "Basic",
           "Live"
          ],
          "revisedTime": {
           "local": "2022-10-04 15:43+01:00",
           "utc": "2022-10-04 14:43Z"
          },
          "scheduledTime": {
           "local": "2022-10-04 15:40+01:00",
           "utc": "2022-10-04 14:40Z"
          },
          "scheduledTimeLocal": "2022-10-04 15:40+01:00",
          "scheduledTimeUtc": "2022-10-04 14:40Z",
          "terminal": "1"
         },
         "isCargo": false,
         "number": "OR 1585",
         "status": "Arrived"
        },
        {
         "aircraft": {
          "model": "Airbus A319"
         },
         "airline": {
          "name": "easyJet"
         },
         "arrival": {
          "actualTimeLocal": "2022-10-04 20:44+02:00",
          "actualTimeUtc": "2022-10-04 18:44Z",
          "baggageBelt": "20",
          "quality": [
           "Basic",
           "Live"
          ],
          "revisedTime": {
           "local": "2022-10-04 20:44+02:00",
           "utc": "2022-10-04 18:44Z"
          },
          "runwayTime": {
           "local": "2022-10-04 20:44+02:00",
           "utc": "2022-10-04 18:44Z"
          },
          "runwayTimeLocal": "2022-10-04 20:44+02:00",
          "runwayTimeUtc": "2022-10-04 18:44Z",
          "scheduledTime": {
           "local": "2022-10-04 20:55+02:00",
           "utc": "2022-10-04 18:55Z"
          },
          "scheduledTimeLocal": "2022-10-04 20:55+02:00",
          "scheduledTimeUtc": "2022-10-04 18:55Z",
          "terminal": "4"
         },
         "codeshareStatus": "IsOperator",
         "departure": {
          "actualTimeLocal": "2022-10-04 18:35+01:00",
          "actualTimeUtc": "2022-10-04 17:35Z",
          "airport": {
           "iata": "LGW",
           "icao": "EGKK",
           "name": "London"
          },
          "gate": "567",
          "quality": [
           "Basic",
           "Live"
          ],
          "revisedTime": {
           "local": "2022-10-04 18:35+01:00",
           "utc": "2022-10-04 17:35Z"
          },
          "scheduledTime": {
           "local": "2022-10-04 18:35+01:00",
           "utc": "2022-10-04 17:35Z"
          },
          "scheduledTimeLocal": "2022-10-04 18:35+01:00",
          "scheduledTimeUtc": "2022-10-04 17:35Z",
          "terminal": "N"
         },
         "isCargo": false,
         "number": "U2 8881",
         "status": "Arrived"
        },
        {
         "aircraft": {
          "model": "Boeing 737-800 (winglets)"
         },
         "airline": {
          "name": "Corendon Air"
         },
         "arrival": {
          "actualTimeLocal": "2022-10-04 20:22+02:00",
          "actualTimeUtc": "2022-10-04 18:22Z",
          "baggageBelt": "22",
          "quality": [
           "Basic",
           "Live"
          ],
          "revisedTime": {
           "local": "2022-10-04 20:22+02:00",
           "utc": "2022-10-04 18:22Z"
          },
          "runwayTime": {
           "local": "2022-10-04 20:22+02:00",
           "utc": "2022-10-04 18:22Z"
          },
          "runwayTimeLocal": "2022-10-04 20:22+02:00",
          "runwayTimeUtc": "2022-10-04 18:22Z",
          "scheduledTime": {
           "local": "2022-10-04 20:25+02:00",
           "utc": "2022-10-04 18:25Z"
          },
          "scheduledTimeLocal": "2022-10-04 20:25+02:00",
          "scheduledTimeUtc": "2022-10-04 18:25Z",
          "terminal": "4"
         },
         "codeshareStatus": "IsOperator",
         "departure": {
          "actualTimeLocal": "2022-10-04 17:15+03:00",
          "actualTimeUtc": "2022-10-04 14:15Z",
          "airport": {
           "iata": "AYT",
           "icao": "LTAI",
           "name": "Antalya"
          },
          "checkInDesk": "218-220",
          "quality": [
           "Basic",
           "Live"
          ],
          "revisedTime": {
           "local": "2022-10-04 17:15+03:00",
           "utc": "2022-10-04 14:15Z"
          },
          "scheduledTime": {
           "local": "2022-10-04 17:15+03:00",
           "utc": "2022-10-04 14:15Z"
          },
          "scheduledTimeLocal": "2022-10-04 17:15+03:00",
          "scheduledTimeUtc": "2022-10-04 14:15Z",
          "terminal": "2"
         },
         "isCargo": false,
         "number": "XC 1921",
         "status": "Arrived"
        },
        {
         "aircraft": {
          "model": "Airbus A320"
         },
         "airline": {
          "name": "Air Arabia Maroc"
         },
         "arrival": {
          "actualTimeLocal": "2022-10-04 21:22+02:00",
          "actualTimeUtc": "2022-10-04 19:22Z",
          "baggageBelt": "17",
          "quality": [
           "Basic",
           "Live"
          ],
          "revisedTime": {
           "local": "2022-10-04 21:22+02:00",
           "utc": "2022-10-04 19:22Z"
          },
          "runwayTime": {
           "local": "2022-10-04 21:22+02:00",
           "utc": "2022-10-04 19:22Z"
          },
          "runwayTimeLocal": "2022-10-04 21:22+02:00",
          "runwayTimeUtc": "2022-10-04 19:22Z",
          "scheduledTime": {
           "local": "2022-10-04 21:40+02:00",
           "utc": "2022-10-04 19:40Z"
          },
          "scheduledTimeLocal": "2022-10-04 21:40+02:00",
          "scheduledTimeUtc": "2022-10-04 19:40Z",
          "terminal": "3"
         },
         "codeshareStatus": "IsOperator",
         "departure": {
          "airport": {
           "iata": "NDR",
           "icao": "GMMW",
           "name": "Nador"
          },
          "quality": [
           "Basic"
          ],
          "scheduledTime": {
           "local": "2022-10-04 17:25+01:00",
           "utc": "2022-10-04 16:25Z"
          },
          "scheduledTimeLocal": "2022-10-04 17:25+01:00",
          "scheduledTimeUtc": "2022-10-04 16:25Z"
         },
         "isCargo": false,
         "number": "3O 121",
         "status": "Arrived"
        },
        {
         "aircraft": {
          "model": "Airbus A320"
         },
         "airline": {
          "name": "Vueling"
         },
         "arrival": {
          "actualTimeLocal": "2022-10-04 20:42+02:00",
          "actualTimeUtc": "2022-10-04 18:42Z",
          "baggageBelt": "4",
          "quality": [
           "Basic",
           "Live"
          ],
          "revisedTime": {
           "local": "2022-10-04 20:42+02:00",
           "utc": "2022-10-04 18:42Z"
          },
          "runwayTime": {
           "local": "2022-10-04 20:42+02:00",
           "utc": "2022-10-04 18:42Z"
          },
          "runwayTimeLocal": "2022-10-04 20:42+02:00",
          "runwayTimeUtc": "2022-10-04 18:42Z",
          "scheduledTime": {
           "local": "2022-10-04 20:55+02:00",
           "utc": "2022-10-04 18:55Z"
          },
          "scheduledTimeLocal": "2022-10-04 20:55+02:00",
          "scheduledTimeUtc": "2022-10-04 18:55Z",
          "terminal": "1"
         },
         "codeshareStatus": "IsOperator",
         "departure": {
          "actualTimeLocal": "2022-10-04 18:35+02:00",
          "actualTimeUtc": "2022-10-04 16:35Z",
          "airport": {
           "iata": "BCN",
           "icao": "LEBL",
           "name": "Barcelona"
          },
          "checkInDesk": "401-512",
          "gate": "B44",
          "quality": [
           "Basic",
           "Live"
          ],
          "revisedTime": {
           "local": "2022-10-04 18:35+02:00",
           "utc": "2022-10-04 16:35Z"
          },
          "scheduledTime": {
           "local": "2022-10-04 18:25+02:00",
           "utc": "2022-10-04 16:25Z"
          },
          "scheduledTimeLocal": "2022-10-04 18:25+02:00",
          "scheduledTimeUtc": "2022-10-04 16:25Z",
          "terminal": "1"
         },
         "isCargo": false,
         "number": "VY 8304",
         "status": "Arrived"
        },
        {
         "aircraft": {
          "modeS": "346352",
          "model": "Airbus A321-200 (Sharklets)",
          "reg": "EC-NIJ"
         },
         "airline": {
          "name": "Vueling"
         },
         "arrival": {
          "actualTimeLocal": "2022-10-04 20:07+02:00",
          "actualTimeUtc": "2022-10-04 18:07Z",
          "baggageBelt": "6",
          "quality": [
           "Basic",
           "Live"
          ],
          "revisedTime": {
           "local": "2022-10-04 20:07+02:00",
           "utc": "2022-10-04 18:07Z"
          },
          "runwayTime": {
           "local": "2022-10-04 20:07+02:00",
           "utc": "2022-10-04 18:07Z"
          },
          "runwayTimeLocal": "2022-10-04 20:07+02:00",
          "runwayTimeUtc": "2022-10-04 18:07Z",
          "scheduledTime": {
           "local": "2022-10-04 20:20+02:00",
           "utc": "2022-10-04 18:20Z"
          },
          "scheduledTimeLocal": "2022-10-04 20:20+02:00",
          "scheduledTimeUtc": "2022-10-04 18:20Z",
          "terminal": "1"
         },
         "callSign": "VLG8378",
         "codeshareStatus": "IsOperator",
         "departure": {
          "actualTimeLocal": "2022-10-04 17:52+02:00",
          "actualTimeUtc": "2022-10-04 15:52Z",
          "airport": {
           "iata": "SCQ",
           "icao": "LEST",
           "name": "Santiago de Compostela"
          },
          "checkInDesk": "7-12",
          "gate": "A6",
          "quality": [
           "Basic",
           "Live"
          ],
          "revisedTime": {
           "local": "2022-10-04 17:52+02:00",
           "utc": "2022-10-04 15:52Z"
          },
          "scheduledTime": {
           "local": "2022-10-04 17:50+02:00",
           "utc": "2022-10-04 15:50Z"
          },
          "scheduledTimeLocal": "2022-10-04 17:50+02:00",
          "scheduledTimeUtc": "2022-10-04 15:50Z",
          "terminal": "1"
         },
         "isCargo": false,
         "number": "VY 8378",
         "status": "Arrived"
        },
        {
         "aircraft": {
          "model": "Airbus A320"
         },
         "airline": {
          "name": "EasyJet Europe"
         },
         "arrival": {
          "actualTimeLocal": "2022-10-04 20:32+02:00",
          "actualTimeUtc": "2022-10-04 18:32Z",
          "baggageBelt": "18",
          "quality": [
           "Basic",
           "Live"
          ],
          "revisedTime": {
           "local": "2022-10-04 20:32+02:00",
           "utc": "2022-10-04 18:32Z"
          },
          "runwayTime": {
           "local": "2022-10-04 20:32+02:00",
           "utc": "2022-10-04 18:32Z"
          },
          "runwayTimeLocal": "2022-10-04 20:32+02:00",
          "runwayTimeUtc": "2022-10-04 18:32Z",
          "scheduledTime": {
           "local": "2022-10-04 21:00+02:00",
           "utc": "2022-10-04 19:00Z"
          },
          "scheduledTimeLocal": "2022-10-04 21:00+02:00",
          "scheduledTimeUtc": "2022-10-04 19:00Z",
          "terminal": "3"
         },
         "codeshareStatus": "IsOperator",
         "departure": {
          "airport": {
           "iata": "BER",
           "icao": "EDDB",
           "name": "Berlin"
          },
          "quality": []
         },
         "isCargo": false,
         "number": "EC 4567",
         "status": "Arrived"
        },
        {
         "aircraft": {
          "model": "Airbus A319"
         },
         "airline": {
          "name": "EasyJet Europe"
         },
         "arrival": {
          "actualTimeLocal": "2022-10-04 21:10+02:00",
          "actualTimeUtc": "2022-10-04 19:10Z",
          "baggageBelt": "19",
          "quality": [
           "Basic",
           "Live"
          ],
          "revisedTime": {
           "local": "2022-10-04 21:10+02:00",
           "utc": "2022-10-04 19:10Z"
          },
          "runwayTime": {
           "local": "2022-10-04 21:10+02:00",
           "utc": "2022-10-04 19:10Z"
          },
          "runwayTimeLocal": "2022-10-04 21:10+02:00",
          "runwayTimeUtc": "2022-10-04 19:10Z",
          "scheduledTime": {
           "local": "2022-10-04 21:20+02:00",
           "utc": "2022-10-04 19:20Z"
          },
          "scheduledTimeLocal": "2022-10-04 21:20+02:00",
          "scheduledTimeUtc": "2022-10-04 19:20Z",
          "terminal": "4"
         },
         "codeshareStatus": "IsOperator",
         "departure": {
          "airport": {
           "iata": "BFS",
           "icao": "EGAA",
           "name": "Belfast"
          },
          "quality": []
         },
         "isCargo": false,
         "number": "EC 6771",
         "status": "Arrived"
        },
        {
         "aircraft": {
          "model": "Airbus A319"
         },
         "airline": {
          "name": "EasyJet Europe"
         },
         "arrival": {
          "actualTimeLocal": "2022-10-04 22:29+02:00",
          "actualTimeUtc": "2022-10-04 20:29Z",
          "baggageBelt": "22",
          "quality": [
           "Basic",
           "Live"
          ],
          "revisedTime": {
           "local": "2022-10-04 22:29+02:00",
           "utc": "2022-10-04 20:29Z"
          },
          "runwayTime": {
           "local": "2022-10-04 22:29+02:00",
           "utc": "2022-10-04 20:29Z"
          },
          "runwayTimeLocal": "2022-10-04 22:29+02:00",
          "runwayTimeUtc": "2022-10-04 20:29Z",
          "scheduledTime": {
           "local": "2022-10-04 21:05+02:00",
           "utc": "2022-10-04 19:05Z"
          },
          "scheduledTimeLocal": "2022-10-04 21:05+02:00",
          "scheduledTimeUtc": "2022-10-04 19:05Z",
          "terminal": "4"
         },
         "codeshareStatus": "IsOperator",
         "departure": {
          "airport": {
           "iata": "LIN",
           "icao": "LIML",
           "name": "Milan"
          },
          "quality": []
         },
         "isCargo": false,
         "number": "EC 7940",
         "status": "Arrived"
        },
        {
         "aircraft": {
          "model": "Airbus A320"
         },
         "airline": {
          "name": "EasyJet Europe"
         },
         "arrival": {
          "actualTimeLocal": "2022-10-04 20:45+02:00",
          "actualTimeUtc": "2022-10-04 18:45Z",
          "baggageBelt": "19",
          "quality": [
           "Basic",
           "Live"
          ],
          "revisedTime": {
           "local": "2022-10-04 20:45+02:00",
           "utc": "2022-10-04 18:45Z"
          },
          "runwayTime": {
           "local": "2022-10-04 20:45+02:00",
           "utc": "2022-10-04 18:45Z"
          },
          "runwayTimeLocal": "2022-10-04 20:45+02:00",
          "runwayTimeUtc": "2022-10-04 18:45Z",
          "scheduledTime": {
           "local": "2022-10-04 21:00+02:00",
           "utc": "2022-10-04 19:00Z"
          },
          "scheduledTimeLocal": "2022-10-04 21:00+02:00",
          "scheduledTimeUtc": "2022-10-04 19:00Z",
          "terminal": "4"
         },
         "codeshareStatus": "IsOperator",
         "departure": {
          "actualTimeLocal": "2022-10-04 18:05+02:00",
          "actualTimeUtc": "2022-10-04 16:05Z",
          "airport": {
           "iata": "ALC",
           "icao": "LEAL",
           "name": "Alicante"
          },
          "checkInDesk": "118-121",
          "gate": "C47",
          "quality": [
           "Basic",
           "Live"
          ],
          "revisedTime": {
           "local": "2022-10-04 18:05+02:00",
           "utc": "2022-10-04 16:05Z"
          },
          "scheduledTime": {
           "local": "2022-10-04 18:15+02:00",
           "utc": "2022-10-04 16:15Z"
          },
          "scheduledTimeLocal": "2022-10-04 18:15+02:00",
          "scheduledTimeUtc": "2022-10-04 16:15Z",
          "terminal": "N"
         },
         "isCargo": false,
         "number": "EC 7944",
         "status": "Arrived"
        },
        {
         "aircraft": {
          "model": "Boeing 737-800 (winglets)"
         },
         "airline": {
          "name": "Ryanair"
         },
         "arrival": {
          "actualTimeLocal": "2022-10-04 21:30+02:00",
          "actualTimeUtc": "2022-10-04 19:30Z",
          "baggageBelt": "19",
          "quality": [
           "Basic",
           "Live"
          ],
          "revisedTime": {
           "local": "2022-10-04 21:30+02:00",
           "utc": "2022-10-04 19:30Z"
          },
          "runwayTime": {
           "local": "2022-10-04 21:30+02:00",
           "utc": "2022-10-04 19:30Z"
          },
          "runwayTimeLocal": "2022-10-04 21:30+02:00",
          "runwayTimeUtc": "2022-10-04 19:30Z",
          "scheduledTime": {
           "local": "2022-10-04 21:20+02:00",
           "utc": "2022-10-04 19:20Z"
          },
          "scheduledTimeLocal": "2022-10-04 21:20+02:00",
          "scheduledTimeUtc": "2022-10-04 19:20Z",
          "terminal": "4"
         },
         "codeshareStatus": "IsOperator",
         "departure": {
          "actualTimeLocal": "2022-10-04 18:31+02:00",
          "actualTimeUtc": "2022-10-04 16:31Z",
          "airport": {
           "iata": "AGP",
           "icao": "LEMG",
           "name": "Málaga"
          },
          "checkInDesk": "363-372",
          "gate": "D47",
          "quality": [
           "Basic",
           "Live"
          ],
          "revisedTime": {
           "local": "2022-10-04 18:31+02:00",
           "utc": "2022-10-04 16:31Z"
          },
          "scheduledTime": {
           "local": "2022-10-04 18:25+02:00",
           "utc": "2022-10-04 16:25Z"
          },
          "scheduledTimeLocal": "2022-10-04 18:25+02:00",
          "scheduledTimeUtc": "2022-10-04 16:25Z",
          "terminal": "PAX"
         },
         "isCargo": false,
         "number": "FR 2334",
         "status": "Arrived"
        },
        {
         "aircraft": {
          "model": "Boeing 737-800 (winglets)"
         },
         "airline": {
          "name": "Norwegian Air Shuttle"
         },
         "arrival": {
          "actualTimeLocal": "2022-10-04 20:49+02:00",
          "actualTimeUtc": "2022-10-04 18:49Z",
          "baggageBelt": "17",
          "quality": [
           "Basic",
           "Live"
          ],
          "revisedTime": {
           "local": "2022-10-04 20:49+02:00",
           "utc": "2022-10-04 18:49Z"
          },
          "runwayTime": {
           "local": "2022-10-04 20:49+02:00",
           "utc": "2022-10-04 18:49Z"
          },
          "runwayTimeLocal": "2022-10-04 20:49+02:00",
          "runwayTimeUtc": "2022-10-04 18:49Z",
          "scheduledTime": {
           "local": "2022-10-04 21:00+02:00",
           "utc": "2022-10-04 19:00Z"
          },
          "scheduledTimeLocal": "2022-10-04 21:00+02:00",
          "scheduledTimeUtc": "2022-10-04 19:00Z",
          "terminal": "3"
         },
         "codeshareStatus": "IsOperator",
         "departure": {
          "actualTimeLocal": "2022-10-04 19:09+02:00",
          "actualTimeUtc": "2022-10-04 17:09Z",
          "airport": {
           "iata": "OSL",
           "icao": "ENGM",
           "name": "Oslo"
          },
          "checkInDesk": "123",
          "gate": "D6",
          "quality": [
           "Basic",
           "Live"
          ],
          "revisedTime": {
           "local": "2022-10-04 19:09+02:00",
           "utc": "2022-10-04 17:09Z"
          },
          "scheduledTime": {
           "local": "2022-10-04 19:05+02:00",
           "utc": "2022-10-04 17:05Z"
          },
          "scheduledTimeLocal": "2022-10-04 19:05+02:00",
          "scheduledTimeUtc": "2022-10-04 17:05Z"
         },
         "isCargo": false,
         "number": "DY 1258",
         "status": "Arrived"
        },
        {
         "aircraft": {
          "modeS": "4008F2",
          "model": "Airbus A319",
          "reg": "G-EUPY"
         },
         "airline": {
          "name": "British Airways"
         },
         "arrival": {
          "actualTimeLocal": "2022-10-04 21:59+02:00",
          "actualTimeUtc": "2022-10-04 19:59Z",
          "baggageBelt": "6",
          "quality": [
           "Basic",
           "Live"
          ],
          "revisedTime": {
           "local": "2022-10-04 21:59+02:00",
           "utc": "2022-10-04 19:59Z"
          },
          "runwayTime": {
           "local": "2022-10-04 21:59+02:00",
           "utc": "2022-10-04 19:59Z"
          },
          "runwayTimeLocal": "2022-10-04 21:59+02:00",
          "runwayTimeUtc": "2022-10-04 19:59Z",
          "scheduledTime": {
           "local": "2022-10-04 21:45+02:00",
           "utc": "2022-10-04 19:45Z"
          },
          "scheduledTimeLocal": "2022-10-04 21:45+02:00",
          "scheduledTimeUtc": "2022-10-04 19:45Z",
          "terminal": "1"
         },
         "callSign": "BAW444",
         "codeshareStatus": "IsOperator",
         "departure": {
          "actualTimeLocal": "2022-10-04 20:21+01:00",
          "actualTimeUtc": "2022-10-04 19:21Z",
          "airport": {
           "iata": "LHR",
           "icao": "EGLL",
           "name": "London"
          },
          "checkInDesk": "B",
          "quality": [
           "Basic",
           "Live"
          ],
          "revisedTime": {
           "local": "2022-10-04 20:21+01:00",
           "utc": "2022-10-04 19:21Z"
          },
          "scheduledTime": {
           "local": "2022-10-04 19:25+01:00",
           "utc": "2022-10-04 18:25Z"
          },
          "scheduledTimeLocal": "2022-10-04 19:25+01:00",
          "scheduledTimeUtc": "2022-10-04 18:25Z",
          "terminal": "5"
         },
         "isCargo": false,
         "number": "BA 444",
         "status": "Arrived"
        },
        {
         "aircraft": {
          "model": "Embraer 190"
         },
         "airline": {
          "name": "British Airways"
         },
         "arrival": {
          "actualTimeLocal": "2022-10-04 20:39+02:00",
          "actualTimeUtc": "2022-10-04 18:39Z",
          "baggageBelt": "2",
          "quality": [
           "Basic",
           "Live"
          ],
          "revisedTime": {
           "local": "2022-10-04 20:39+02:00",
           "utc": "2022-10-04 18:39Z"
          },
          "runwayTime": {
           "local": "2022-10-04 20:39+02:00",
           "utc": "2022-10-04 18:39Z"
          },
          "runwayTimeLocal": "2022-10-04 20:39+02:00",
          "runwayTimeUtc": "2022-10-04 18:39Z",
          "scheduledTime": {
           "local": "2022-10-04 21:05+02:00",
           "utc": "2022-10-04 19:05Z"
          },
          "scheduledTimeLocal": "2022-10-04 21:05+02:00",
          "scheduledTimeUtc": "2022-10-04 19:05Z",
          "terminal": "1"
         },
         "codeshareStatus": "IsOperator",
         "departure": {
          "actualTimeLocal": "2022-10-04 18:59+01:00",
          "actualTimeUtc": "2022-10-04 17:59Z",
          "airport": {
           "iata": "LCY",
           "icao": "EGLC",
           "name": "London"
          },
          "gate": "10",
          "quality": [
           "Basic",
           "Live"
          ],
          "revisedTime": {
           "local": "2022-10-04 18:59+01:00",
           "utc": "2022-10-04 17:59Z"
          },
          "scheduledTime": {
           "local": "2022-10-04 18:55+01:00",
           "utc": "2022-10-04 17:55Z"
          },
          "scheduledTimeLocal": "2022-10-04 18:55+01:00",
          "scheduledTimeUtc": "2022-10-04 17:55Z"
         },
         "isCargo": false,
         "number": "BA 8457",
         "status": "Arrived"
        },
        {
         "aircraft": {
          "model": "Boeing 737 MAX 8"
         },
         "airline": {
          "name": "Ryanair"
         },
         "arrival": {
          "actualTimeLocal": "2022-10-04 22:01+02:00",
          "actualTimeUtc": "2022-10-04 20:01Z",
          "baggageBelt": "20",
          "quality": [
           "Basic",
           "Live"
          ],
          "revisedTime": {
           "local": "2022-10-04 22:01+02:00",
           "utc": "2022-10-04 20:01Z"
          },
          "runwayTime": {
           "local": "2022-10-04 22:01+02:00",
           "utc": "2022-10-04 20:01Z"
          },
          "runwayTimeLocal": "2022-10-04 22:01+02:00",
          "runwayTimeUtc": "2022-10-04 20:01Z",
          "scheduledTime": {
           "local": "2022-10-04 21:35+02:00",
           "utc": "2022-10-04 19:35Z"
          },
          "scheduledTimeLocal": "2022-10-04 21:35+02:00",
          "scheduledTimeUtc": "2022-10-04 19:35Z",
          "terminal": "4"
         },
         "codeshareStatus": "IsOperator",
         "departure": {
          "actualTimeLocal": "2022-10-04 19:35+01:00",
          "actualTimeUtc": "2022-10-04 18:35Z",
          "airport": {
           "iata": "DUB",
           "icao": "EIDW",
           "name": "Dublin"
          },
          "checkInDesk": "1204-1319",
          "gate": "108",
          "quality": [
           "Basic",
           "Live"
          ],
          "revisedTime": {
           "local": "2022-10-04 19:35+01:00",
           "utc": "2022-10-04 18:35Z"
          },
          "scheduledTime": {
           "local": "2022-10-04 19:00+01:00",
           "utc": "2022-10-04 18:00Z"
          },
          "scheduledTimeLocal": "2022-10-04 19:00+01:00",
          "scheduledTimeUtc": "2022-10-04 18:00Z",
          "terminal": "1"
         },
         "isCargo": false,
         "number": "FR 3006",
         "status": "Arrived"
        },
        {
         "aircraft": {
          "model": "Embraer 195-E2"
         },
         "airline": {
          "name": "KLM"
         },
         "arrival": {
          "actualTimeLocal": "2022-10-04 21:11+02:00",
          "actualTimeUtc": "2022-10-04 19:11Z",
          "baggageBelt": "11",
          "quality": [
           "Basic",
           "Live"
          ],
          "revisedTime": {
           "local": "2022-10-04 21:11+02:00",
           "utc": "2022-10-04 19:11Z"
          },
          "runwayTime": {
           "local": "2022-10-04 21:11+02:00",
           "utc": "2022-10-04 19:11Z"
          },
          "runwayTimeLocal": "2022-10-04 21:11+02:00",
          "runwayTimeUtc": "2022-10-04 19:11Z",
          "scheduledTime": {
           "local": "2022-10-04 21:25+02:00",
           "utc": "2022-10-04 19:25Z"
          },
          "scheduledTimeLocal": "2022-10-04 21:25+02:00",
          "scheduledTimeUtc": "2022-10-04 19:25Z",
          "terminal": "2"
         },
         "codeshareStatus": "IsOperator",
         "departure": {
          "actualTimeLocal": "2022-10-04 19:31+01:00",
          "actualTimeUtc": "2022-10-04 18:31Z",
          "airport": {
           "iata": "LHR",
           "icao": "EGLL",
           "name": "London"
          },
          "checkInDesk": "B",
          "quality": [
           "Basic",
           "Live"
          ],
          "revisedTime": {
           "local": "2022-10-04 19:31+01:00",
           "utc": "2022-10-04 18:31Z"
          },
          "scheduledTime": {
           "local": "2022-10-04 19:15+01:00",
           "utc": "2022-10-04 18:15Z"
          },
          "scheduledTimeLocal": "2022-10-04 19:15+01:00",
          "scheduledTimeUtc": "2022-10-04 18:15Z",
          "terminal": "3"
         },
         "isCargo": false,
         "number": "KL 1030",
         "status": "Arrived"
        },
        {
         "aircraft": {
          "model": "Embraer 175"
         },
         "airline": {
          "name": "KLM"
         },
         "arrival": {
          "actualTimeLocal": "2022-10-04 21:19+02:00",
          "actualTimeUtc": "2022-10-04 19:19Z",
          "baggageBelt": "8",
          "quality": [
           "Basic",
           "Live"
          ],
          "revisedTime": {
           "local": "2022-10-04 21:19+02:00",
           "utc": "2022-10-04 19:19Z"
          },
          "runwayTime": {
           "local": "2022-10-04 21:19+02:00",
           "utc": "2022-10-04 19:19Z"
          },
          "runwayTimeLocal": "2022-10-04 21:19+02:00",
          "runwayTimeUtc": "2022-10-04 19:19Z",
          "scheduledTime": {
           "local": "2022-10-04 21:50+02:00",
           "utc": "2022-10-04 19:50Z"
          },
          "scheduledTimeLocal": "2022-10-04 21:50+02:00",
          "scheduledTimeUtc": "2022-10-04 19:50Z",
          "terminal": "2"
         },
         "codeshareStatus": "IsOperator",
         "departure": {
          "actualTimeLocal": "2022-10-04 19:34+01:00",
          "actualTimeUtc": "2022-10-04 18:34Z",
          "airport": {
           "iata": "MAN",
           "icao": "EGCC",
           "name": "Manchester"
          },
          "gate": "11",
          "quality": [
           "Basic",
           "Live"
          ],
          "revisedTime": {
           "local": "2022-10-04 19:34+01:00",
           "utc": "2022-10-04 18:34Z"
          },
          "scheduledTime": {
           "local": "2022-10-04 19:35+01:00",
           "utc": "2022-10-04 18:35Z"
          },
          "scheduledTimeLocal": "2022-10-04 19:35+01:00",
          "scheduledTimeUtc": "2022-10-04 18:35Z",
          "terminal": "2"
         },
         "isCargo": false,
         "number": "KL 1082",
         "status": "Arrived"
        },
        {
         "aircraft": {
          "model": "Embraer 190"
         },
         "airline": {
          "name": "KLM"
         },
         "arrival": {
          "actualTimeLocal": "2022-10-04 20:56+02:00",
          "actualTimeUtc": "2022-10-04 18:56Z",
          "baggageBelt": "10",
          "quality": [
           "Basic",
           "Live"
          ],
          "revisedTime": {
           "local": "2022-10-04 20:56+02:00",
           "utc": "2022-10-04 18:56Z"
          },
          "runwayTime": {
           "local": "2022-10-04 20:56+02:00",
           "utc": "2022-10-04 18:56Z"
          },
          "runwayTimeLocal": "2022-10-04 20:56+02:00",
          "runwayTimeUtc": "2022-10-04 18:56Z",
          "scheduledTime": {
           "local": "2022-10-04 21:05+02:00",
           "utc": "2022-10-04 19:05Z"
          },
          "scheduledTimeLocal": "2022-10-04 21:05+02:00",
          "scheduledTimeUtc": "2022-10-04 19:05Z",
          "terminal": "2"
         },
         "codeshareStatus": "IsOperator",
         "departure": {
          "actualTimeLocal": "2022-10-04 19:11+02:00",
          "actualTimeUtc": "2022-10-04 17:11Z",
          "airport": {
           "iata": "OSL",
           "icao": "ENGM",
           "name": "Oslo"
          },
          "checkInDesk": "1",
          "gate": "E8",
          "quality": [
           "Basic",
           "Live"
          ],
          "revisedTime": {
           "local": "2022-10-04 19:11+02:00",
           "utc": "2022-10-04 17:11Z"
          },
          "scheduledTime": {
           "local": "2022-10-04 19:15+02:00",
           "utc": "2022-10-04 17:15Z"
          },
          "scheduledTimeLocal": "2022-10-04 19:15+02:00",
          "scheduledTimeUtc": "2022-10-04 17:15Z"
         },
         "isCargo": false,
         "number": "KL 1150",
         "status": "Arrived"
        },
        {
         "aircraft": {
          "model": "Boeing 737-800 (winglets)"
         },
         "airline": {
          "name": "KLM"
         },
         "arrival": {
          "actualTimeLocal": "2022-10-04 21:14+02:00",
          "actualTimeUtc": "2022-10-04 19:14Z",
          "baggageBelt": "12",
          "quality": [
           "Basic",
           "Live"
          ],
          "revisedTime": {
           "local": "2022-10-04 21:14+02:00",
           "utc": "2022-10-04 19:14Z"
          },
          "runwayTime": {
           "local": "2022-10-04 21:14+02:00",
           "utc": "2022-10-04 19:14Z"
          },
          "runwayTimeLocal": "2022-10-04 21:14+02:00",
          "runwayTimeUtc": "2022-10-04 19:14Z",
          "scheduledTime": {
           "local": "2022-10-04 21:25+02:00",
           "utc": "2022-10-04 19:25Z"
          },
          "scheduledTimeLocal": "2022-10-04 21:25+02:00",
          "scheduledTimeUtc": "2022-10-04 19:25Z",
          "terminal": "2"
         },
         "codeshareStatus": "IsOperator",
         "departure": {
          "airport": {
           "iata": "CDG",
           "icao": "LFPG",
           "name": "Paris"
          },
          "quality": [
           "Basic"
          ],
          "scheduledTime": {
           "local": "2022-10-04 20:15+02:00",
           "utc": "2022-10-04 18:15Z"
          },
          "scheduledTimeLocal": "2022-10-04 20:15+02:00",
          "scheduledTimeUtc": "2022-10-04 18:15Z",
          "terminal": "2F"
         },
         "isCargo": false,
         "number": "KL 1246",
         "status": "Arrived"
        },
        {
         "aircraft": {
          "modeS": "484C50",
          "model": "Embraer 190",
          "reg": "PH-EZL"
         },
         "airline": {
          "name": "KLM"
         },
         "arrival": {
          "actualTimeLocal": "2022-10-04 21:32+02:00",
          "actualTimeUtc": "2022-10-04 19:32Z",
          "baggageBelt": "13",
          "quality": [
           "Basic",
           "Live"
          ],
          "revisedTime": {
           "local": "2022-10-04 21:32+02:00",
           "utc": "2022-10-04 19:32Z"
          },
          "runwayTime": {
           "local": "2022-10-04 21:32+02:00",
           "utc": "2022-10-04 19:32Z"
          },
          "runwayTimeLocal": "2022-10-04 21:32+02:00",
          "runwayTimeUtc": "2022-10-04 19:32Z",
          "scheduledTime": {
           "local": "2022-10-04 21:35+02:00",
           "utc": "2022-10-04 19:35Z"
          },
          "scheduledTimeLocal": "2022-10-04 21:35+02:00",
          "scheduledTimeUtc": "2022-10-04 19:35Z",
          "terminal": "2"
         },
         "callSign": "KLM1262",
         "codeshareStatus": "IsOperator",
         "departure": {
          "airport": {
           "iata": "NCE",
           "icao": "LFMN",
           "name": "Nice"
          },
          "quality": [
           "Basic"
          ],
          "scheduledTime": {
           "local": "2022-10-04 19:35+02:00",
           "utc": "2022-10-04 17:35Z"
          },
          "scheduledTimeLocal": "2022-10-04 19:35+02:00",
          "scheduledTimeUtc": "2022-10-04 17:35Z",
          "terminal": "2"
         },
         "isCargo": false,
         "number": "KL 1262",
         "status": "Arrived"
        },
        {
         "aircraft": {
          "modeS": "485085",
          "model": "Embraer 190",
          "reg": "PH-EXC"
         },
         "airline": {
          "name": "KLM"
         },
         "arrival": {
          "actualTimeLocal": "2022-10-04 21:17+02:00",
          "actualTimeUtc": "2022-10-04 19:17Z",
          "baggageBelt": "10",
          "quality": [
           "Basic",
           "Live"
          ],
          "revisedTime": {
           "local": "2022-10-04 21:17+02:00",
           "utc": "2022-10-04 19:17Z"
          },
          "runwayTime": {
           "local": "2022-10-04 21:17+02:00",
           "utc": "2022-10-04 19:17Z"
          },
          "runwayTimeLocal": "2022-10-04 21:17+02:00",
          "runwayTimeUtc": "2022-10-04 19:17Z",
          "scheduledTime": {
           "local": "2022-10-04 21:45+02:00",
           "utc": "2022-10-04 19:45Z"
          },
          "scheduledTimeLocal": "2022-10-04 21:45+02:00",
          "scheduledTimeUtc": "2022-10-04 19:45Z",
          "terminal": "2"
         },
         "callSign": "KLM1368",
         "codeshareStatus": "IsOperator",
         "departure": {
          "airport": {
           "iata": "WAW",
           "icao": "EPWA",
           "name": "Warsaw"
          },
          "quality": [
           "Basic"
          ],
          "scheduledTime": {
           "local": "2022-10-04 19:40+02:00",
           "utc": "2022-10-04 17:40Z"
          },
          "scheduledTimeLocal": "2022-10-04 19:40+02:00",
          "scheduledTimeUtc": "2022-10-04 17:40Z"
         },
         "isCargo": false,
         "number": "KL 1368",
         "status": "Arrived"
        },
        {
         "aircraft": {
          "modeS": "486257",
          "model": "Embraer 195-E2",
          "reg": "PH-NXA"
         },
         "airline": {
          "name": "KLM"
         },
         "arrival": {
          "actualTimeLocal": "2022-10-04 21:27+02:00",
          "actualTimeUtc": "2022-10-04 19:27Z",
          "baggageBelt": "11",
          "quality": [
           "Basic",
           "Live"
          ],
          "revisedTime": {
           "local": "2022-10-04 21:27+02:00",
           "utc": "2022-10-04 19:27Z"
          },
          "runwayTime": {
           "local": "2022-10-04 21:27+02:00",
           "utc": "2022-10-04 19:27Z"
          },
          "runwayTimeLocal": "2022-10-04 21:27+02:00",
          "runwayTimeUtc": "2022-10-04 19:27Z",
          "scheduledTime": {
           "local": "2022-10-04 21:20+02:00",
           "utc": "2022-10-04 19:20Z"
          },
          "scheduledTimeLocal": "2022-10-04 21:20+02:00",
          "scheduledTimeUtc": "2022-10-04 19:20Z",
          "terminal": "2"
         },
         "callSign": "KLM1634",
         "codeshareStatus": "IsOperator",
         "departure": {
          "airport": {
           "iata": "MXP",
           "icao": "LIMC",
           "name": "Milan"
          },
          "quality": [
           "Basic"
          ],
          "scheduledTime": {
           "local": "2022-10-04 19:30+02:00",
           "utc": "2022-10-04 17:30Z"
          },
          "scheduledTimeLocal": "2022-10-04 19:30+02:00",
          "scheduledTimeUtc": "2022-10-04 17:30Z",
          "terminal": "1"
         },
         "isCargo": false,
         "number": "KL 1634",
         "status": "Arrived"
        },
        {
         "aircraft": {
          "model": "Embraer 190"
         },
         "airline": {
          "name": "KLM"
         },
         "arrival": {
          "actualTimeLocal": "2022-10-04 21:37+02:00",
          "actualTimeUtc": "2022-10-04 19:37Z",
          "baggageBelt": "11",
          "quality": [
           "Basic",
           "Live"
          ],
          "revisedTime": {
           "local": "2022-10-04 21:37+02:00",
           "utc": "2022-10-04 19:37Z"
          },
          "runwayTime": {
           "local": "2022-10-04 21:37+02:00",
           "utc": "2022-10-04 19:37Z"
          },
          "runwayTimeLocal": "2022-10-04 21:37+02:00",
          "runwayTimeUtc": "2022-10-04 19:37Z",
          "scheduledTime": {
           "local": "2022-10-04 21:55+02:00",
           "utc": "2022-10-04 19:55Z"
          },
          "scheduledTimeLocal": "2022-10-04 21:55+02:00",
          "scheduledTimeUtc": "2022-10-04 19:55Z",
          "terminal": "2"
         },
         "codeshareStatus": "IsOperator",
         "departure": {
          "airport": {
           "iata": "BER",
           "icao": "EDDB",
           "name": "Berlin"
          },
          "quality": [
           "Basic"
          ],
          "scheduledTime": {
           "local": "2022-10-04 20:30+02:00",
           "utc": "2022-10-04 18:30Z"
          },
          "scheduledTimeLocal": "2022-10-04 20:30+02:00",
          "scheduledTimeUtc": "2022-10-04 18:30Z",
          "terminal": "1"
         },
         "isCargo": false,
         "number": "KL 1834",
         "status": "Arrived"
        },
        {
         "aircraft": {
          "model": "Boeing 737-800 (winglets)"
         },
         "airline": {
          "name": "KLM"
         },
         "arrival": {
          "actualTimeLocal": "2022-10-04 21:51+02:00",
          "actualTimeUtc": "2022-10-04 19:51Z",
          "baggageBelt": "9",
          "quality": [
           "Basic",
           "Live"
          ],
          "revisedTime": {
           "local": "2022-10-04 21:51+02:00",
           "utc": "2022-10-04 19:51Z"
          },
          "runwayTime": {
           "local": "2022-10-04 21:51+02:00",
           "utc": "2022-10-04 19:51Z"
          },
          "runwayTimeLocal": "2022-10-04 21:51+02:00",
          "runwayTimeUtc": "2022-10-04 19:51Z",
          "scheduledTime": {
           "local": "2022-10-04 21:45+02:00",
           "utc": "2022-10-04 19:45Z"
          },
          "scheduledTimeLocal": "2022-10-04 21:45+02:00",
          "scheduledTimeUtc": "2022-10-04 19:45Z",
          "terminal": "2"
         },
         "codeshareStatus": "IsOperator",
         "departure": {
          "actualTimeLocal": "2022-10-04 20:25+02:00",
          "actualTimeUtc": "2022-10-04 18:25Z",
          "airport": {
           "iata": "VIE",
           "icao": "LOWW",
           "name": "Vienna"
          },
          "checkInDesk": "188-190",
          "gate": "C38",
          "quality": [
           "Basic",
           "Live"
          ],
          "revisedTime": {
           "local": "2022-10-04 20:25+02:00",
           "utc": "2022-10-04 18:25Z"
          },
          "scheduledTime": {
           "local": "2022-10-04 19:55+02:00",
           "utc": "2022-10-04 17:55Z"
          },
          "scheduledTimeLocal": "2022-10-04 19:55+02:00",
          "scheduledTimeUtc": "2022-10-04 17:55Z",
          "terminal": "1"
         },
         "isCargo": false,
         "number": "KL 1848",
         "status": "Arrived"
        },
        {
         "aircraft": {
          "modeS": "484B92",
          "model": "Boeing 737-700 (winglets)",
          "reg": "PH-BGL"
         },
         "airline": {
          "name": "KLM"
         },
         "arrival": {
          "actualTimeLocal": "2022-10-04 20:53+02:00",
          "actualTimeUtc": "2022-10-04 18:53Z",
          "baggageBelt": "13",
          "quality": [
           "Basic",
           "Live"
          ],
          "revisedTime": {
           "local": "2022-10-04 20:53+02:00",
           "utc": "2022-10-04 18:53Z"
          },
          "runwayTime": {
           "local": "2022-10-04 20:53+02:00",
           "utc": "2022-10-04 18:53Z"
          },
          "runwayTimeLocal": "2022-10-04 20:53+02:00",
          "runwayTimeUtc": "2022-10-04 18:53Z",
          "scheduledTime": {
           "local": "2022-10-04 21:00+02:00",
           "utc": "2022-10-04 19:00Z"
          },
          "scheduledTimeLocal": "2022-10-04 21:00+02:00",
          "scheduledTimeUtc": "2022-10-04 19:00Z",
          "terminal": "2"
         },
         "codeshareStatus": "IsOperator",
         "departure": {
          "actualTimeLocal": "2022-10-04 19:25+02:00",
          "actualTimeUtc": "2022-10-04 17:25Z",
          "airport": {
           "iata": "ZRH",
           "icao": "LSZH",
           "name": "Zurich"
          },
          "checkInDesk": "2(2)",
          "gate": "B35",
          "quality": [
           "Basic",
           "Live"
          ],
          "revisedTime": {
           "local": "2022-10-04 19:25+02:00",
           "utc": "2022-10-04 17:25Z"
          },
          "scheduledTime": {
           "local": "2022-10-04 19:25+02:00",
           "utc": "2022-10-04 17:25Z"
          },
          "scheduledTimeLocal": "2022-10-04 19:25+02:00",
          "scheduledTimeUtc": "2022-10-04 17:25Z"
         },
         "isCargo": false,
         "number": "KL 1964",
         "status": "Arrived"
        },
        {
         "aircraft": {
          "model": "Embraer 190"
         },
         "airline": {
          "name": "KLM"
         },
         "arrival": {
          "actualTimeLocal": "2022-10-04 21:00+02:00",
          "actualTimeUtc": "2022-10-04 19:00Z",
          "baggageBelt": "9",
          "quality": [
           "Basic",
           "Live"
          ],
          "revisedTime": {
           "local": "2022-10-04 21:00+02:00",
           "utc": "2022-10-04 19:00Z"
          },
          "runwayTime": {
           "local": "2022-10-04 21:00+02:00",
           "utc": "2022-10-04 19:00Z"
          },
          "runwayTimeLocal": "2022-10-04 21:00+02:00",
          "runwayTimeUtc": "2022-10-04 19:00Z",
          "scheduledTime": {
           "local": "2022-10-04 21:15+02:00",
           "utc": "2022-10-04 19:15Z"
          },
          "scheduledTimeLocal": "2022-10-04 21:15+02:00",
          "scheduledTimeUtc": "2022-10-04 19:15Z",
          "terminal": "2"
         },
         "codeshareStatus": "IsOperator",
         "departure": {
          "actualTimeLocal": "2022-10-04 19:12+01:00",
          "actualTimeUtc": "2022-10-04 18:12Z",
          "airport": {
           "iata": "LCY",
           "icao": "EGLC",
           "name": "London"
          },
          "gate": "4",
          "quality": [
           "Basic",
           "Live"
          ],
          "revisedTime": {
           "local": "2022-10-04 19:12+01:00",
           "utc": "2022-10-04 18:12Z"
          },
          "scheduledTime": {
           "local": "2022-10-04 19:05+01:00",
           "utc": "2022-10-04 18:05Z"
          },
          "scheduledTimeLocal": "2022-10-04 19:05+01:00",
          "scheduledTimeUtc": "2022-10-04 18:05Z"
         },
         "isCargo": false,
         "number": "KL 994",
         "status": "Arrived"
        },
        {
         "aircraft": {
          "model": "Airbus A319"
         },
         "airline": {
          "name": "Lufthansa"
         },
         "arrival": {
          "actualTimeLocal": "2022-10-04 23:16+02:00",
          "actualTimeUtc": "2022-10-04 21:16Z",
          "baggageBelt": "4",
          "quality": [
           "Basic",
           "Live"
          ],
          "revisedTime": {
           "local": "2022-10-04 23:16+02:00",
           "utc": "2022-10-04 21:16Z"
          },
          "runwayTime": {
           "local": "2022-10-04 23:16+02:00",
           "utc": "2022-10-04 21:16Z"
          },
          "runwayTimeLocal": "2022-10-04 23:16+02:00",
          "runwayTimeUtc": "2022-10-04 21:16Z",
          "scheduledTime": {
           "local": "2022-10-04 21:40+02:00",
           "utc": "2022-10-04 19:40Z"
          },
          "scheduledTimeLocal": "2022-10-04 21:40+02:00",
          "scheduledTimeUtc": "2022-10-04 19:40Z",
          "terminal": "1"
         },
         "codeshareStatus": "IsOperator",
         "departure": {
          "actualTimeLocal": "2022-10-04 21:45+02:00",
          "actualTimeUtc": "2022-10-04 19:45Z",
          "airport": {
           "iata": "MUC",
           "icao": "EDDM",
           "name": "Munich"
          },
          "quality": [
           "Basic",
           "Live"
          ],
          "revisedTime": {
           "local": "2022-10-04 21:45+02:00",
           "utc": "2022-10-04 19:45Z"
          },
          "scheduledTime": {
           "local": "2022-10-04 20:10+02:00",
           "utc": "2022-10-04 18:10Z"
          },
          "scheduledTimeLocal": "2022-10-04 20:10+02:00",
          "scheduledTimeUtc": "2022-10-04 18:10Z",
          "terminal": "2"
         },
         "isCargo": false,
         "number": "LH 2310",
         "status": "Arrived"
        },
        {
         "aircraft": {
          "modeS": "485A82",
          "model": "Boeing 737 MAX 8",
          "reg": "PH-TFO"
         },
         "airline": {
          "name": "TUIfly Netherlands"
         },
         "arrival": {
          "actualTimeLocal": "2022-10-04 21:29+02:00",
          "actualTimeUtc": "2022-10-04 19:29Z",
          "baggageBelt": "18",
          "quality": [
           "Basic",
           "Live"
          ],
          "revisedTime": {
           "local": "2022-10-04 21:29+02:00",
           "utc": "2022-10-04 19:29Z"
          },
          "runwayTime": {
           "local": "2022-10-04 21:29+02:00",
           "utc": "2022-10-04 19:29Z"
          },
          "runwayTimeLocal": "2022-10-04 21:29+02:00",
          "runwayTimeUtc": "2022-10-04 19:29Z",
          "scheduledTime": {
           "local": "2022-10-04 21:40+02:00",
           "utc": "2022-10-04 19:40Z"
          },
          "scheduledTimeLocal": "2022-10-04 21:40+02:00",
          "scheduledTimeUtc": "2022-10-04 19:40Z",
          "terminal": "3"
         },
         "callSign": "TFL32V",
         "codeshareStatus": "IsOperator",
         "departure": {
          "airport": {
           "iata": "KGS",
           "icao": "LGKO",
           "name": "Kos Island"
          },
          "quality": [
           "Basic"
          ],
          "scheduledTime": {
           "local": "2022-10-04 18:55+03:00",
           "utc": "2022-10-04 15:55Z"
          },
          "scheduledTimeLocal": "2022-10-04 18:55+03:00",
          "scheduledTimeUtc": "2022-10-04 15:55Z"
         },
         "isCargo": false,
         "number": "OR 1182",
         "status": "Arrived"
        },
        {
         "aircraft": {
          "model": "Bombardier CRJ900"
         },
         "airline": {
          "name": "SAS"
         },
         "arrival": {
          "actualTimeLocal": "2022-10-04 21:24+02:00",
          "actualTimeUtc": "2022-10-04 19:24Z",
          "baggageBelt": "2",
          "quality": [
           "Basic",
           "Live"
          ],
          "revisedTime": {
           "local": "2022-10-04 21:24+02:00",
           "utc": "2022-10-04 19:24Z"
          },
          "runwayTime": {
           "local": "2022-10-04 21:24+02:00",
           "utc": "2022-10-04 19:24Z"
          },
          "runwayTimeLocal": "2022-10-04 21:24+02:00",
          "runwayTimeUtc": "2022-10-04 19:24Z",
          "scheduledTime": {
           "local": "2022-10-04 21:35+02:00",
           "utc": "2022-10-04 19:35Z"
          },
          "scheduledTimeLocal": "2022-10-04 21:35+02:00",
          "scheduledTimeUtc": "2022-10-04 19:35Z",
          "terminal": "1"
         },
         "codeshareStatus": "IsOperator",
         "departure": {
          "actualTimeLocal": "2022-10-04 20:10+02:00",
          "actualTimeUtc": "2022-10-04 18:10Z",
          "airport": {
           "iata": "CPH",
           "icao": "EKCH",
           "name": "Copenhagen"
          },
          "gate": "B10",
          "quality": [
           "Basic",
           "Live"
          ],
          "revisedTime": {
           "local": "2022-10-04 20:10+02:00",
           "utc": "2022-10-04 18:10Z"
          },
          "scheduledTime": {
           "local": "2022-10-04 20:10+02:00",
           "utc": "2022-10-04 18:10Z"
          },
          "scheduledTimeLocal": "2022-10-04 20:10+02:00",
          "scheduledTimeUtc": "2022-10-04 18:10Z",
          "terminal": "3"
         },
         "isCargo": false,
         "number": "SK 549",
         "status": "Arrived"
        },
        {
         "aircraft": {
          "model": "Airbus A330-300"
         },
         "airline": {
          "name": "Turkish"
         },
         "arrival": {
          "actualTimeLocal": "2022-10-04 21:34+02:00",
          "actualTimeUtc": "2022-10-04 19:34Z",
          "baggageBelt": "15",
          "quality": [
           "Basic",
           "Live"
          ],
          "revisedTime": {
           "local": "2022-10-04 21:34+02:00",
           "utc": "2022-10-04 19:34Z"
          },
          "runwayTime": {
           "local": "2022-10-04 21:34+02:00",
           "utc": "2022-10-04 19:34Z"
          },
          "runwayTimeLocal": "2022-10-04 21:34+02:00",
          "runwayTimeUtc": "2022-10-04 19:34Z",
          "scheduledTime": {
           "local": "2022-10-04 21:50+02:00",
           "utc": "2022-10-04 19:50Z"
          },
          "scheduledTimeLocal": "2022-10-04 21:50+02:00",
          "scheduledTimeUtc": "2022-10-04 19:50Z",
          "terminal": "3"
         },
         "codeshareStatus": "IsOperator",
         "departure": {
          "airport": {
           "iata": "IST",
           "icao": "LTFM",
           "name": "Istanbul"
          },
          "quality": [
           "Basic"
          ],
          "scheduledTime": {
           "local": "2022-10-04 19:15+03:00",
           "utc": "2022-10-04 16:15Z"
          },
          "scheduledTimeLocal": "2022-10-04 19:15+03:00",
          "scheduledTimeUtc": "2022-10-04 16:15Z"
         },
         "isCargo": false,
         "number": "TK 1955",
         "status": "Arrived"
        },
        {
         "aircraft": {
          "modeS": "406754",
          "model": "Airbus A320",
          "reg": "G-EZWC"
         },
         "airline": {
          "name": "easyJet"
         },
         "arrival": {
          "actualTimeLocal": "2022-10-04 21:13+02:00",
          "actualTimeUtc": "2022-10-04 19:13Z",
          "baggageBelt": "20",
          "quality": [
           "Basic",
           "Live"
          ],
          "revisedTime": {
           "local": "2022-10-04 21:13+02:00",
           "utc": "2022-10-04 19:13Z"
          },
          "runwayTime": {
           "local": "2022-10-04 21:13+02:00",
           "utc": "2022-10-04 19:13Z"
          },
          "runwayTimeLocal": "2022-10-04 21:13+02:00",
          "runwayTimeUtc": "2022-10-04 19:13Z",
          "scheduledTime": {
           "local": "2022-10-04 21:35+02:00",
           "utc": "2022-10-04 19:35Z"
          },
          "scheduledTimeLocal": "2022-10-04 21:35+02:00",
          "scheduledTimeUtc": "2022-10-04 19:35Z",
          "terminal": "4"
         },
         "callSign": "EZY1835",
         "codeshareStatus": "IsOperator",
         "departure": {
          "actualTimeLocal": "2022-10-04 19:23+01:00",
          "actualTimeUtc": "2022-10-04 18:23Z",
          "airport": {
           "iata": "MAN",
           "icao": "EGCC",
           "name": "Manchester"
          },
          "gate": "02",
          "quality": [
           "Basic",
           "Live"
          ],
          "revisedTime": {
           "local": "2022-10-04 19:23+01:00",
           "utc": "2022-10-04 18:23Z"
          },
          "scheduledTime": {
           "local": "2022-10-04 19:20+01:00",
           "utc": "2022-10-04 18:20Z"
          },
          "scheduledTimeLocal": "2022-10-04 19:20+01:00",
          "scheduledTimeUtc": "2022-10-04 18:20Z",
          "terminal": "1"
         },
         "isCargo": false,
         "number": "U2 1835",
         "status": "Arrived"
        },
        {
         "aircraft": {
          "model": "Airbus A319"
         },
         "airline": {
          "name": "easyJet"
         },
         "arrival": {
          "actualTimeLocal": "2022-10-04 20:38+02:00",
          "actualTimeUtc": "2022-10-04 18:38Z",
          "baggageBelt": "20",
          "quality": [
           "Basic",
           "Live"
          ],
          "revisedTime": {
           "local": "2022-10-04 20:38+02:00",
           "utc": "2022-10-04 18:38Z"
          },
          "runwayTime": {
           "local": "2022-10-04 20:38+02:00",
           "utc": "2022-10-04 18:38Z"
          },
          "runwayTimeLocal": "2022-10-04 20:38+02:00",
          "runwayTimeUtc": "2022-10-04 18:38Z",
          "scheduledTime": {
           "local": "2022-10-04 21:00+02:00",
           "utc": "2022-10-04 19:00Z"
          },
          "scheduledTimeLocal": "2022-10-04 21:00+02:00",
          "scheduledTimeUtc": "2022-10-04 19:00Z",
          "terminal": "4"
         },
         "codeshareStatus": "IsOperator",
         "departure": {
          "airport": {
           "iata": "LTN",
           "icao": "EGGW",
           "name": "London"
          },
          "quality": [
           "Basic"
          ],
          "scheduledTime": {
           "local": "2022-10-04 18:50+01:00",
           "utc": "2022-10-04 17:50Z"
          },
          "scheduledTimeLocal": "2022-10-04 18:50+01:00",
          "scheduledTimeUtc": "2022-10-04 17:50Z"
         },
         "isCargo": false,
         "number": "U2 2163",
         "status": "Arrived"
        },
        {
         "aircraft": {
          "modeS": "34620C",
          "model": "Airbus A321-200 (Sharklets)",
          "reg": "EC-NFJ"
         },
         "airline": {
          "name": "Vueling"
         },
         "arrival": {
          "actualTimeLocal": "2022-10-04 21:16+02:00",
          "actualTimeUtc": "2022-10-04 19:16Z",
          "baggageBelt": "6",
          "quality": [
           "Basic",
           "Live"
          ],
          "revisedTime": {
           "local": "2022-10-04 21:16+02:00",
           "utc": "2022-10-04 19:16Z"
          },
          "runwayTime": {
           "local": "2022-10-04 21:16+02:00",
           "utc": "2022-10-04 19:16Z"
          },
          "runwayTimeLocal": "2022-10-04 21:16+02:00",
          "runwayTimeUtc": "2022-10-04 19:16Z",
          "scheduledTime": {
           "local": "2022-10-04 21:25+02:00",
           "utc": "2022-10-04 19:25Z"
          },
          "scheduledTimeLocal": "2022-10-04 21:25+02:00",
          "scheduledTimeUtc": "2022-10-04 19:25Z",
          "terminal": "1"
         },
         "callSign": "VLG8436",
         "codeshareStatus": "IsOperator",
         "departure": {
          "actualTimeLocal": "2022-10-04 17:34+01:00",
          "actualTimeUtc": "2022-10-04 16:34Z",
          "airport": {
           "iata": "LIS",
           "icao": "LPPT",
           "name": "Lisbon"
          },
          "quality": [
           "Basic",
           "Live"
          ],
          "revisedTime": {
           "local": "2022-10-04 17:34+01:00",
           "utc": "2022-10-04 16:34Z"
          },
          "scheduledTime": {
           "local": "2022-10-04 17:25+01:00",
           "utc": "2022-10-04 16:25Z"
          },
          "scheduledTimeLocal": "2022-10-04 17:25+01:00",
          "scheduledTimeUtc": "2022-10-04 16:25Z",
          "terminal": "1"
         },
         "isCargo": false,
         "number": "VY 8436",
         "status": "Arrived"
        },
        {
         "aircraft": {
          "modeS": "344691",
          "model": "Airbus A320",
          "reg": "EC-MEQ"
         },
         "airline": {
          "name": "Vueling"
         },
         "arrival": {
          "actualTimeLocal": "2022-10-04 21:20+02:00",
          "actualTimeUtc": "2022-10-04 19:20Z",
          "baggageBelt": "4",
          "quality": [
           "Basic",
           "Live"
          ],
          "revisedTime": {
           "local": "2022-10-04 21:20+02:00",
           "utc": "2022-10-04 19:20Z"
          },
          "runwayTime": {
           "local": "2022-10-04 21:20+02:00",
           "utc": "2022-10-04 19:20Z"
          },
          "runwayTimeLocal": "2022-10-04 21:20+02:00",
          "runwayTimeUtc": "2022-10-04 19:20Z",
          "scheduledTime": {
           "local": "2022-10-04 21:20+02:00",
           "utc": "2022-10-04 19:20Z"
          },
          "scheduledTimeLocal": "2022-10-04 21:20+02:00",
          "scheduledTimeUtc": "2022-10-04 19:20Z",
          "terminal": "1"
         },
         "callSign": "VLG8447",
         "codeshareStatus": "IsOperator",
         "departure": {
          "actualTimeLocal": "2022-10-04 19:50+02:00",
          "actualTimeUtc": "2022-10-04 17:50Z",
          "airport": {
           "iata": "CPH",
           "icao": "EKCH",
           "name": "Copenhagen"
          },
          "gate": "A21",
          "quality": [
           "Basic",
           "Live"
          ],
          "revisedTime": {
           "local": "2022-10-04 19:50+02:00",
           "utc": "2022-10-04 17:50Z"
          },
          "scheduledTime": {
           "local": "2022-10-04 19:50+02:00",
           "utc": "2022-10-04 17:50Z"
          },
          "scheduledTimeLocal": "2022-10-04 19:50+02:00",
          "scheduledTimeUtc": "2022-10-04 17:50Z",
          "terminal": "2"
         },
         "isCargo": false,
         "number": "VY 8447",
         "status": "Arrived"
        },
        {
         "aircraft": {
          "model": "Airbus A319"
         },
         "airline": {
          "name": "Alitalia"
         },
         "arrival": {
          "actualTimeLocal": "2022-10-04 22:46+02:00",
          "actualTimeUtc": "2022-10-04 20:46Z",
          "baggageBelt": "9",
          "quality": [
           "Basic",
           "Live"
          ],
          "revisedTime": {
           "local": "2022-10-04 22:46+02:00",
           "utc": "2022-10-04 20:46Z"
          },
          "runwayTime": {
           "local": "2022-10-04 22:46+02:00",
           "utc": "2022-10-04 20:46Z"
          },
          "runwayTimeLocal": "2022-10-04 22:46+02:00",
          "runwayTimeUtc": "2022-10-04 20:46Z",
          "scheduledTime": {
           "local": "2022-10-04 22:40+02:00",
           "utc": "2022-10-04 20:40Z"
          },
          "scheduledTimeLocal": "2022-10-04 22:40+02:00",
          "scheduledTimeUtc": "2022-10-04 20:40Z",
          "terminal": "2"
         },
         "codeshareStatus": "IsOperator",
         "departure": {
          "airport": {
           "iata": "LIN",
           "icao": "LIML",
           "name": "Milan"
          },
          "quality": [
           "Basic"
          ],
          "scheduledTime": {
           "local": "2022-10-04 20:45+02:00",
           "utc": "2022-10-04 18:45Z"
          },
          "scheduledTimeLocal": "2022-10-04 20:45+02:00",
          "scheduledTimeUtc": "2022-10-04 18:45Z"
         },
         "isCargo": false,
         "number": "AZ 118",
         "status": "Arrived"
        },
        {
         "aircraft": {
          "model": "Bombardier Dash 8 Q400 / DHC-8-400"
         },
         "airline": {
          "name": "BE"
         },
         "arrival": {
          "actualTimeLocal": "2022-10-04 22:23+02:00",
          "actualTimeUtc": "2022-10-04 20:23Z",
          "baggageBelt": "4",
          "quality": [
           "Basic",
           "Live"
          ],
          "revisedTime": {
           "local": "2022-10-04 22:23+02:00",
           "utc": "2022-10-04 20:23Z"
          },
          "runwayTime": {
           "local": "2022-10-04 22:23+02:00",
           "utc": "2022-10-04 20:23Z"
          },
          "runwayTimeLocal": "2022-10-04 22:23+02:00",
          "runwayTimeUtc": "2022-10-04 20:23Z",
          "scheduledTime": {
           "local": "2022-10-04 22:45+02:00",
           "utc": "2022-10-04 20:45Z"
          },
          "scheduledTimeLocal": "2022-10-04 22:45+02:00",
          "scheduledTimeUtc": "2022-10-04 20:45Z",
          "terminal": "1"
         },
         "codeshareStatus": "IsOperator",
         "departure": {
          "actualTimeLocal": "2022-10-04 20:37+01:00",
          "actualTimeUtc": "2022-10-04 19:37Z",
          "airport": {
           "iata": "LHR",
           "icao": "EGLL",
           "name": "London"
          },
          "checkInDesk": "D",
          "quality": [
           "Basic",
           "Live"
          ],
          "revisedTime": {
           "local": "2022-10-04 20:37+01:00",
           "utc": "2022-10-04 19:37Z"
          },
          "scheduledTime": {
           "local": "2022-10-04 20:20+01:00",
           "utc": "2022-10-04 19:20Z"
          },
          "scheduledTimeLocal": "2022-10-04 20:20+01:00",
          "scheduledTimeUtc": "2022-10-04 19:20Z",
          "terminal": "2"
         },
         "isCargo": false,
         "number": "BE 1229",
         "status": "Arrived"
        },
        {
         "aircraft": {
          "model": "Airbus A319"
         },
         "airline": {
          "name": "EasyJet Europe"
         },
         "arrival": {
          "actualTimeLocal": "2022-10-04 21:53+02:00",
          "actualTimeUtc": "2022-10-04 19:53Z",
          "baggageBelt": "19",
          "quality": [
           "Basic",
           "Live"
          ],
          "revisedTime": {
           "local": "2022-10-04 21:53+02:00",
           "utc": "2022-10-04 19:53Z"
          },
          "runwayTime": {
           "local": "2022-10-04 21:53+02:00",
           "utc": "2022-10-04 19:53Z"
          },
          "runwayTimeLocal": "2022-10-04 21:53+02:00",
          "runwayTimeUtc": "2022-10-04 19:53Z",
          "scheduledTime": {
           "local": "2022-10-04 22:00+02:00",
           "utc": "2022-10-04 20:00Z"
          },
          "scheduledTimeLocal": "2022-10-04 22:00+02:00",
          "scheduledTimeUtc": "2022-10-04 20:00Z",
          "terminal": "4"
         },
         "codeshareStatus": "IsOperator",
         "departure": {
          "actualTimeLocal": "2022-10-04 19:31+02:00",
          "actualTimeUtc": "2022-10-04 17:31Z",
          "airport": {
           "iata": "PMI",
           "icao": "LEPA",
           "name": "Palma De Mallorca"
          },
          "checkInDesk": "080-085",
          "gate": "C54",
          "quality": [
           "Basic",
           "Live"
          ],
          "revisedTime": {
           "local": "2022-10-04 19:31+02:00",
           "utc": "2022-10-04 17:31Z"
          },
          "scheduledTime": {
           "local": "2022-10-04 19:25+02:00",
           "utc": "2022-10-04 17:25Z"
          },
          "scheduledTimeLocal": "2022-10-04 19:25+02:00",
          "scheduledTimeUtc": "2022-10-04 17:25Z",
          "terminal": "N"
         },
         "isCargo": false,
         "number": "EC 7954",
         "status": "Arrived"
        },
        {
         "aircraft": {
          "model": "Airbus A320"
         },
         "airline": {
          "name": "EasyJet Europe"
         },
         "arrival": {
          "actualTimeLocal": "2022-10-04 21:57+02:00",
          "actualTimeUtc": "2022-10-04 19:57Z",
          "baggageBelt": "22",
          "quality": [
           "Basic",
           "Live"
          ],
          "revisedTime": {
           "local": "2022-10-04 21:57+02:00",
           "utc": "2022-10-04 19:57Z"
          },
          "runwayTime": {
           "local": "2022-10-04 21:57+02:00",
           "utc": "2022-10-04 19:57Z"
          },
          "runwayTimeLocal": "2022-10-04 21:57+02:00",
          "runwayTimeUtc": "2022-10-04 19:57Z",
          "scheduledTime": {
           "local": "2022-10-04 22:25+02:00",
           "utc": "2022-10-04 20:25Z"
          },
          "scheduledTimeLocal": "2022-10-04 22:25+02:00",
          "scheduledTimeUtc": "2022-10-04 20:25Z",
          "terminal": "4"
         },
         "codeshareStatus": "IsOperator",
         "departure": {
          "actualTimeLocal": "2022-10-04 20:05+01:00",
          "actualTimeUtc": "2022-10-04 19:05Z",
          "airport": {
           "iata": "LGW",
           "icao": "EGKK",
           "name": "London"
          },
          "gate": "112",
          "quality": [
           "Basic",
           "Live"
          ],
          "revisedTime": {
           "local": "2022-10-04 20:05+01:00",
           "utc": "2022-10-04 19:05Z"
          },
          "scheduledTime": {
           "local": "2022-10-04 20:05+01:00",
           "utc": "2022-10-04 19:05Z"
          },
          "scheduledTimeLocal": "2022-10-04 20:05+01:00",
          "scheduledTimeUtc": "2022-10-04 19:05Z",
          "terminal": "N"
         },
         "isCargo": false,
         "number": "EC 8883",
         "status": "Arrived"
        },
        {
         "aircraft": {
          "model": "Airbus A321"
         },
         "airline": {
          "name": "Iberia Express"
         },
         "arrival": {
          "actualTimeLocal": "2022-10-04 22:21+02:00",
          "actualTimeUtc": "2022-10-04 20:21Z",
          "baggageBelt": "4",
          "quality": [
           "Basic",
           "Live"
          ],
          "revisedTime": {
           "local": "2022-10-04 22:21+02:00",
           "utc": "2022-10-04 20:21Z"
          },
          "runwayTime": {
           "local": "2022-10-04 22:21+02:00",
           "utc": "2022-10-04 20:21Z"
          },
          "runwayTimeLocal": "2022-10-04 22:21+02:00",
          "runwayTimeUtc": "2022-10-04 20:21Z",
          "scheduledTime": {
           "local": "2022-10-04 22:25+02:00",
           "utc": "2022-10-04 20:25Z"
          },
          "scheduledTimeLocal": "2022-10-04 22:25+02:00",
          "scheduledTimeUtc": "2022-10-04 20:25Z",
          "terminal": "1"
         },
         "codeshareStatus": "IsOperator",
         "departure": {
          "actualTimeLocal": "2022-10-04 20:04+02:00",
          "actualTimeUtc": "2022-10-04 18:04Z",
          "airport": {
           "iata": "MAD",
           "icao": "LEMD",
           "name": "Madrid"
          },
          "checkInDesk": "850-859",
          "gate": "H21",
          "quality": [
           "Basic",
           "Live"
          ],
          "revisedTime": {
           "local": "2022-10-04 20:04+02:00",
           "utc": "2022-10-04 18:04Z"
          },
          "scheduledTime": {
           "local": "2022-10-04 19:50+02:00",
           "utc": "2022-10-04 17:50Z"
          },
          "scheduledTimeLocal": "2022-10-04 19:50+02:00",
          "scheduledTimeUtc": "2022-10-04 17:50Z",
          "terminal": "4"
         },
         "isCargo": false,
         "number": "I2 3720",
         "status": "Arrived"
        },
        {
         "aircraft": {
          "model": "Boeing 737-800 (winglets)"
         },
         "airline": {
          "name": "KLM"
         },
         "arrival": {
          "actualTimeLocal": "2022-10-04 22:04+02:00",
          "actualTimeUtc": "2022-10-04 20:04Z",
          "baggageBelt": "8",
          "quality": [
           "Basic",
           "Live"
          ],
          "revisedTime": {
           "local": "2022-10-04 22:04+02:00",
           "utc": "2022-10-04 20:04Z"
          },
          "runwayTime": {
           "local": "2022-10-04 22:04+02:00",
           "utc": "2022-10-04 20:04Z"
          },
          "runwayTimeLocal": "2022-10-04 22:04+02:00",
          "runwayTimeUtc": "2022-10-04 20:04Z",
          "scheduledTime": {
           "local": "2022-10-04 22:20+02:00",
           "utc": "2022-10-04 20:20Z"
          },
          "scheduledTimeLocal": "2022-10-04 22:20+02:00",
          "scheduledTimeUtc": "2022-10-04 20:20Z",
          "terminal": "2"
         },
         "codeshareStatus": "IsOperator",
         "departure": {
          "actualTimeLocal": "2022-10-04 19:55+02:00",
          "actualTimeUtc": "2022-10-04 17:55Z",
          "airport": {
           "iata": "FCO",
           "icao": "LIRF",
           "name": "Rome"
          },
          "quality": [
           "Basic",
           "Live"
          ],
          "revisedTime": {
           "local": "2022-10-04 19:55+02:00",
           "utc": "2022-10-04 17:55Z"
          },
          "scheduledTime": {
           "local": "2022-10-04 19:55+02:00",
           "utc": "2022-10-04 17:55Z"
          },
          "scheduledTimeLocal": "2022-10-04 19:55+02:00",
          "scheduledTimeUtc": "2022-10-04 17:55Z",
          "terminal": "1"
         },
         "isCargo": false,
         "number": "KL 1608",
         "status": "Arrived"
        },
        {
         "aircraft": {
          "model": "Boeing 737-800 (winglets)"
         },
         "airline": {
          "name": "KLM"
         },
         "arrival": {
          "actualTimeLocal": "2022-10-04 21:55+02:00",
          "actualTimeUtc": "2022-10-04 19:55Z",
          "baggageBelt": "10",
          "quality": [
           "Basic",
           "Live"
          ],
          "revisedTime": {
           "local": "2022-10-04 21:55+02:00",
           "utc": "2022-10-04 19:55Z"
          },
          "runwayTime": {
           "local": "2022-10-04 21:55+02:00",
           "utc": "2022-10-04 19:55Z"
          },
          "runwayTimeLocal": "2022-10-04 21:55+02:00",
          "runwayTimeUtc": "2022-10-04 19:55Z",
          "scheduledTime": {
           "local": "2022-10-04 22:00+02:00",
           "utc": "2022-10-04 20:00Z"
          },
          "scheduledTimeLocal": "2022-10-04 22:00+02:00",
          "scheduledTimeUtc": "2022-10-04 20:00Z",
          "terminal": "2"
         },
         "codeshareStatus": "IsOperator",
         "departure": {
          "actualTimeLocal": "2022-10-04 19:55+02:00",
          "actualTimeUtc": "2022-10-04 17:55Z",
          "airport": {
           "iata": "BCN",
           "icao": "LEBL",
           "name": "Barcelona"
          },
          "checkInDesk": "701-703",
          "gate": "B24",
          "quality": [
           "Basic",
           "Live"
          ],
          "revisedTime": {
           "local": "2022-10-04 19:55+02:00",
           "utc": "2022-10-04 17:55Z"
          },
          "scheduledTime": {
           "local": "2022-10-04 19:45+02:00",
           "utc": "2022-10-04 17:45Z"
          },
          "scheduledTimeLocal": "2022-10-04 19:45+02:00",
          "scheduledTimeUtc": "2022-10-04 17:45Z",
          "terminal": "1"
         },
         "isCargo": false,
         "number": "KL 1676",
         "status": "Arrived"
        },
        {
         "aircraft": {
          "model": "Embraer 175"
         },
         "airline": {
          "name": "KLM"
         },
         "arrival": {
          "actualTimeLocal": "2022-10-04 22:03+02:00",
          "actualTimeUtc": "2022-10-04 20:03Z",
          "baggageBelt": "11",
          "quality": [
           "Basic",
           "Live"
          ],
          "revisedTime": {
           "local": "2022-10-04 22:03+02:00",
           "utc": "2022-10-04 20:03Z"
          },
          "runwayTime": {
           "local": "2022-10-04 22:03+02:00",
           "utc": "2022-10-04 20:03Z"
          },
          "runwayTimeLocal": "2022-10-04 22:03+02:00",
          "runwayTimeUtc": "2022-10-04 20:03Z",
          "scheduledTime": {
           "local": "2022-10-04 22:25+02:00",
           "utc": "2022-10-04 20:25Z"
          },
          "scheduledTimeLocal": "2022-10-04 22:25+02:00",
          "scheduledTimeUtc": "2022-10-04 20:25Z",
          "terminal": "2"
         },
         "codeshareStatus": "IsOperator",
         "departure": {
          "actualTimeLocal": "2022-10-04 20:50+02:00",
          "actualTimeUtc": "2022-10-04 18:50Z",
          "airport": {
           "iata": "MUC",
           "icao": "EDDM",
           "name": "Munich"
          },
          "quality": [
           "Basic",
           "Live"
          ],
          "revisedTime": {
           "local": "2022-10-04 20:50+02:00",
           "utc": "2022-10-04 18:50Z"
          },
          "scheduledTime": {
           "local": "2022-10-04 20:50+02:00",
           "utc": "2022-10-04 18:50Z"
          },
          "scheduledTimeLocal": "2022-10-04 20:50+02:00",
          "scheduledTimeUtc": "2022-10-04 18:50Z",
          "terminal": "1"
         },
         "isCargo": false,
         "number": "KL 1800",
         "status": "Arrived"
        },
        {
         "aircraft": {
          "modeS": "484F7D",
          "model": "Embraer 190",
          "reg": "PH-EZU"
         },
         "airline": {
          "name": "KLM"
         },
         "arrival": {
          "actualTimeLocal": "2022-10-04 21:38+02:00",
          "actualTimeUtc": "2022-10-04 19:38Z",
          "baggageBelt": "12",
          "quality": [
           "Basic",
           "Live"
          ],
          "revisedTime": {
           "local": "2022-10-04 21:38+02:00",
           "utc": "2022-10-04 19:38Z"
          },
          "runwayTime": {
           "local": "2022-10-04 21:38+02:00",
           "utc": "2022-10-04 19:38Z"
          },
          "runwayTimeLocal": "2022-10-04 21:38+02:00",
          "runwayTimeUtc": "2022-10-04 19:38Z",
          "scheduledTime": {
           "local": "2022-10-04 22:15+02:00",
           "utc": "2022-10-04 20:15Z"
          },
          "scheduledTimeLocal": "2022-10-04 22:15+02:00",
          "scheduledTimeUtc": "2022-10-04 20:15Z",
          "terminal": "2"
         },
         "callSign": "KLM998",
         "codeshareStatus": "IsOperator",
         "departure": {
          "actualTimeLocal": "2022-10-04 20:01+01:00",
          "actualTimeUtc": "2022-10-04 19:01Z",
          "airport": {
           "iata": "LCY",
           "icao": "EGLC",
           "name": "London"
          },
          "gate": "4",
          "quality": [
           "Basic",
           "Live"
          ],
          "revisedTime": {
           "local": "2022-10-04 20:01+01:00",
           "utc": "2022-10-04 19:01Z"
          },
          "scheduledTime": {
           "local": "2022-10-04 20:10+01:00",
           "utc": "2022-10-04 19:10Z"
          },
          "scheduledTimeLocal": "2022-10-04 20:10+01:00",
          "scheduledTimeUtc": "2022-10-04 19:10Z"
         },
         "isCargo": false,
         "number": "KL 998",
         "status": "Arrived"
        },
        {
         "aircraft": {
          "modeS": "3C6448",
          "model": "Airbus A319",
          "reg": "D-AIBH"
         },
         "airline": {
          "name": "Lufthansa"
         },
         "arrival": {
          "actualTimeLocal": "2022-10-04 22:14+02:00",
          "actualTimeUtc": "2022-10-04 20:14Z",
          "baggageBelt": "6",
          "quality": [
           "Basic",
           "Live"
          ],
          "revisedTime": {
           "local": "2022-10-04 22:14+02:00",
           "utc": "2022-10-04 20:14Z"
          },
          "runwayTime": {
           "local": "2022-10-04 22:14+02:00",
           "utc": "2022-10-04 20:14Z"
          },
          "runwayTimeLocal": "2022-10-04 22:14+02:00",
          "runwayTimeUtc": "2022-10-04 20:14Z",
          "scheduledTime": {
           "local": "2022-10-04 22:15+02:00",
           "utc": "2022-10-04 20:15Z"
          },
          "scheduledTimeLocal": "2022-10-04 22:15+02:00",
          "scheduledTimeUtc": "2022-10-04 20:15Z",
          "terminal": "1"
         },
         "codeshareStatus": "IsOperator",
         "departure": {
          "actualTimeLocal": "2022-10-04 21:00+02:00",
          "actualTimeUtc": "2022-10-04 19:00Z",
          "airport": {
           "iata": "FRA",
           "icao": "EDDF",
           "name": "Frankfurt-am-Main"
          },
          "checkInDesk": "263-461",
          "gate": "A40",
          "quality": [
           "Basic",
           "Live"
          ],
          "revisedTime": {
           "local": "2022-10-04 21:00+02:00",
           "utc": "2022-10-04 19:00Z"
          },
          "scheduledTime": {
           "local": "2022-10-04 21:00+02:00",
           "utc": "2022-10-04 19:00Z"
          },
          "scheduledTimeLocal": "2022-10-04 21:00+02:00",
          "scheduledTimeUtc": "2022-10-04 19:00Z",
          "terminal": "1"
         },
         "isCargo": false,
         "number": "LH 1002",
         "status": "Arrived"
        },
        {
         "aircraft": {
          "modeS": "4B028D",
          "model": "Embraer 190-E2",
          "reg": "HB-AZD"
         },
         "airline": {
          "name": "SWISS"
         },
         "arrival": {
          "actualTimeLocal": "2022-10-04 22:27+02:00",
          "actualTimeUtc": "2022-10-04 20:27Z",
          "baggageBelt": "6",
          "quality": [
           "Basic",
           "Live"
          ],
          "revisedTime": {
           "local": "2022-10-04 22:27+02:00",
           "utc": "2022-10-04 20:27Z"
          },
          "runwayTime": {
           "local": "2022-10-04 22:27+02:00",
           "utc": "2022-10-04 20:27Z"
          },
          "runwayTimeLocal": "2022-10-04 22:27+02:00",
          "runwayTimeUtc": "2022-10-04 20:27Z",
          "scheduledTime": {
           "local": "2022-10-04 22:30+02:00",
           "utc": "2022-10-04 20:30Z"
          },
          "scheduledTimeLocal": "2022-10-04 22:30+02:00",
          "scheduledTimeUtc": "2022-10-04 20:30Z",
          "terminal": "1"
         },
         "callSign": "SWR736",
         "codeshareStatus": "IsOperator",
         "departure": {
          "actualTimeLocal": "2022-10-04 21:05+02:00",
          "actualTimeUtc": "2022-10-04 19:05Z",
          "airport": {
           "iata": "ZRH",
           "icao": "LSZH",
           "name": "Zurich"
          },
          "checkInDesk": "1",
          "gate": "A72",
          "quality": [
           "Basic",
           "Live"
          ],
          "revisedTime": {
           "local": "2022-10-04 21:05+02:00",
           "utc": "2022-10-04 19:05Z"
          },
          "scheduledTime": {
           "local": "2022-10-04 20:55+02:00",
           "utc": "2022-10-04 18:55Z"
          },
          "scheduledTimeLocal": "2022-10-04 20:55+02:00",
          "scheduledTimeUtc": "2022-10-04 18:55Z"
         },
         "isCargo": false,
         "number": "LX 736",
         "status": "Arrived"
        },
        {
         "aircraft": {
          "model": "Boeing 737 MAX 8"
         },
         "airline": {
          "name": "TUIfly Netherlands"
         },
         "arrival": {
          "actualTimeLocal": "2022-10-04 22:08+02:00",
          "actualTimeUtc": "2022-10-04 20:08Z",
          "baggageBelt": "16",
          "quality": [
           "Basic",
           "Live"
          ],
          "revisedTime": {
           "local": "2022-10-04 22:08+02:00",
           "utc": "2022-10-04 20:08Z"
          },
          "runwayTime": {
           "local": "2022-10-04 22:08+02:00",
           "utc": "2022-10-04 20:08Z"
          },
          "runwayTimeLocal": "2022-10-04 22:08+02:00",
          "runwayTimeUtc": "2022-10-04 20:08Z",
          "scheduledTime": {
           "local": "2022-10-04 22:30+02:00",
           "utc": "2022-10-04 20:30Z"
          },
          "scheduledTimeLocal": "2022-10-04 22:30+02:00",
          "scheduledTimeUtc": "2022-10-04 20:30Z",
          "terminal": "3"
         },
         "codeshareStatus": "IsOperator",
         "departure": {
          "airport": {
           "iata": "SID",
           "icao": "GVAC",
           "name": "Espargos"
          },
          "quality": [
           "Basic"
          ],
          "scheduledTime": {
           "local": "2022-10-04 13:25-01:00",
           "utc": "2022-10-04 14:25Z"
          },
          "scheduledTimeLocal": "2022-10-04 13:25-01:00",
          "scheduledTimeUtc": "2022-10-04 14:25Z"
         },
         "isCargo": false,
         "number": "OR 3701",
         "status": "Arrived"
        },
        {
         "aircraft": {
          "model": "Embraer 195"
         },
         "airline": {
          "name": "Austrian"
         },
         "arrival": {
          "actualTimeLocal": "2022-10-04 22:06+02:00",
          "actualTimeUtc": "2022-10-04 20:06Z",
          "baggageBelt": "2",
          "quality": [
           "Basic",
           "Live"
          ],
          "revisedTime": {
           "local": "2022-10-04 22:06+02:00",
           "utc": "2022-10-04 20:06Z"
          },
          "runwayTime": {
           "local": "2022-10-04 22:06+02:00",
           "utc": "2022-10-04 20:06Z"
          },
          "runwayTimeLocal": "2022-10-04 22:06+02:00",
          "runwayTimeUtc": "2022-10-04 20:06Z",
          "scheduledTime": {
           "local": "2022-10-04 22:15+02:00",
           "utc": "2022-10-04 20:15Z"
          },
          "scheduledTimeLocal": "2022-10-04 22:15+02:00",
          "scheduledTimeUtc": "2022-10-04 20:15Z",
          "terminal": "1"
         },
         "codeshareStatus": "IsOperator",
         "departure": {
          "actualTimeLocal": "2022-10-04 20:32+02:00",
          "actualTimeUtc": "2022-10-04 18:32Z",
          "airport": {
           "iata": "VIE",
           "icao": "LOWW",
           "name": "Vienna"
          },
          "checkInDesk": "351-368",
          "gate": "F01",
          "quality": [
           "Basic",
           "Live"
          ],
          "revisedTime": {
           "local": "2022-10-04 20:32+02:00",
           "utc": "2022-10-04 18:32Z"
          },
          "scheduledTime": {
           "local": "2022-10-04 20:20+02:00",
           "utc": "2022-10-04 18:20Z"
          },
          "scheduledTimeLocal": "2022-10-04 20:20+02:00",
          "scheduledTimeUtc": "2022-10-04 18:20Z",
          "terminal": "3"
         },
         "isCargo": false,
         "number": "OS 377",
         "status": "Arrived"
        },
        {
         "aircraft": {
          "modeS": "4951CE",
          "model": "Airbus A320",
          "reg": "CS-TNN"
         },
         "airline": {
          "name": "TAP Air Portugal"
         },
         "arrival": {
          "actualTimeLocal": "2022-10-04 22:17+02:00",
          "actualTimeUtc": "2022-10-04 20:17Z",
          "baggageBelt": "2",
          "quality": [
           "Basic",
           "Live"
          ],
          "revisedTime": {
           "local": "2022-10-04 22:17+02:00",
           "utc": "2022-10-04 20:17Z"
          },
          "runwayTime": {
           "local": "2022-10-04 22:17+02:00",
           "utc": "2022-10-04 20:17Z"
          },
          "runwayTimeLocal": "2022-10-04 22:17+02:00",
          "runwayTimeUtc": "2022-10-04 20:17Z",
          "scheduledTime": {
           "local": "2022-10-04 22:20+02:00",
           "utc": "2022-10-04 20:20Z"
          },
          "scheduledTimeLocal": "2022-10-04 22:20+02:00",
          "scheduledTimeUtc": "2022-10-04 20:20Z",
          "terminal": "1"
         },
         "callSign": "TAP668",
         "codeshareStatus": "IsOperator",
         "departure": {
          "actualTimeLocal": "2022-10-04 18:38+01:00",
          "actualTimeUtc": "2022-10-04 17:38Z",
          "airport": {
           "iata": "LIS",
           "icao": "LPPT",
           "name": "Lisbon"
          },
          "quality": [
           "Basic",
           "Live"
          ],
          "revisedTime": {
           "local": "2022-10-04 18:38+01:00",
           "utc": "2022-10-04 17:38Z"
          },
          "scheduledTime": {
           "local": "2022-10-04 18:20+01:00",
           "utc": "2022-10-04 17:20Z"
          },
          "scheduledTimeLocal": "2022-10-04 18:20+01:00",
          "scheduledTimeUtc": "2022-10-04 17:20Z",
          "terminal": "1"
         },
         "isCargo": false,
         "number": "TP 668",
         "status": "Arrived"
        },
        {
         "aircraft": {
          "model": "Airbus A320"
         },
         "airline": {
          "name": "Vueling"
         },
         "arrival": {
          "actualTimeLocal": "2022-10-04 21:46+02:00",
          "actualTimeUtc": "2022-10-04 19:46Z",
          "baggageBelt": "4",
          "quality": [
           "Basic",
           "Live"
          ],
          "revisedTime": {
           "local": "2022-10-04 21:46+02:00",
           "utc": "2022-10-04 19:46Z"
          },
          "runwayTime": {
           "local": "2022-10-04 21:46+02:00",
           "utc": "2022-10-04 19:46Z"
          },
          "runwayTimeLocal": "2022-10-04 21:46+02:00",
          "runwayTimeUtc": "2022-10-04 19:46Z",
          "scheduledTime": {
           "local": "2022-10-04 22:05+02:00",
           "utc": "2022-10-04 20:05Z"
          },
          "scheduledTimeLocal": "2022-10-04 22:05+02:00",
          "scheduledTimeUtc": "2022-10-04 20:05Z",
          "terminal": "1"
         },
         "codeshareStatus": "IsOperator",
         "departure": {
          "actualTimeLocal": "2022-10-04 19:41+02:00",
          "actualTimeUtc": "2022-10-04 17:41Z",
          "airport": {
           "iata": "BCN",
           "icao": "LEBL",
           "name": "Barcelona"
          },
          "checkInDesk": "401-512",
          "gate": "B39",
          "quality": [
           "Basic",
           "Live"
          ],
          "revisedTime": {
           "local": "2022-10-04 19:41+02:00",
           "utc": "2022-10-04 17:41Z"
          },
          "scheduledTime": {
           "local": "2022-10-04 19:40+02:00",
           "utc": "2022-10-04 17:40Z"
          },
          "scheduledTimeLocal": "2022-10-04 19:40+02:00",
          "scheduledTimeUtc": "2022-10-04 17:40Z",
          "terminal": "1"
         },
         "isCargo": false,
         "number": "VY 8311",
         "status": "Arrived"
        },
        {
         "aircraft": {
          "model": "Airbus A321-200 (Sharklets)"
         },
         "airline": {
          "name": "Vueling"
         },
         "arrival": {
          "actualTimeLocal": "2022-10-04 21:49+02:00",
          "actualTimeUtc": "2022-10-04 19:49Z",
          "baggageBelt": "2",
          "quality": [
           "Basic",
           "Live"
          ],
          "revisedTime": {
           "local": "2022-10-04 21:49+02:00",
           "utc": "2022-10-04 19:49Z"
          },
          "runwayTime": {
           "local": "2022-10-04 21:49+02:00",
           "utc": "2022-10-04 19:49Z"
          },
          "runwayTimeLocal": "2022-10-04 21:49+02:00",
          "runwayTimeUtc": "2022-10-04 19:49Z",
          "scheduledTime": {
           "local": "2022-10-04 22:00+02:00",
           "utc": "2022-10-04 20:00Z"
          },
          "scheduledTimeLocal": "2022-10-04 22:00+02:00",
          "scheduledTimeUtc": "2022-10-04 20:00Z",
          "terminal": "1"
         },
         "codeshareStatus": "IsOperator",
         "departure": {
          "actualTimeLocal": "2022-10-04 19:23+02:00",
          "actualTimeUtc": "2022-10-04 17:23Z",
          "airport": {
           "iata": "VLC",
           "icao": "LEVC",
           "name": "Valencia"
          },
          "checkInDesk": "43-45",
          "gate": "5,6",
          "quality": [
           "Basic",
           "Live"
          ],
          "revisedTime": {
           "local": "2022-10-04 19:23+02:00",
           "utc": "2022-10-04 17:23Z"
          },
          "scheduledTime": {
           "local": "2022-10-04 19:15+02:00",
           "utc": "2022-10-04 17:15Z"
          },
          "scheduledTimeLocal": "2022-10-04 19:15+02:00",
          "scheduledTimeUtc": "2022-10-04 17:15Z",
          "terminal": "1"
         },
         "isCargo": false,
         "number": "VY 8353",
         "status": "Arrived"
        },
        {
         "aircraft": {
          "modeS": "440C37",
          "model": "Airbus A321-200 (Sharklets)",
          "reg": "OE-LSL"
         },
         "airline": {
          "name": "EasyJet Europe"
         },
         "arrival": {
          "actualTimeLocal": "2022-10-04 23:18+02:00",
          "actualTimeUtc": "2022-10-04 21:18Z",
          "baggageBelt": "19",
          "quality": [
           "Basic",
           "Live"
          ],
          "revisedTime": {
           "local": "2022-10-04 23:18+02:00",
           "utc": "2022-10-04 21:18Z"
          },
          "runwayTime": {
           "local": "2022-10-04 23:18+02:00",
           "utc": "2022-10-04 21:18Z"
          },
          "runwayTimeLocal": "2022-10-04 23:18+02:00",
          "runwayTimeUtc": "2022-10-04 21:18Z",
          "scheduledTime": {
           "local": "2022-10-04 23:00+02:00",
           "utc": "2022-10-04 21:00Z"
          },
          "scheduledTimeLocal": "2022-10-04 23:00+02:00",
          "scheduledTimeUtc": "2022-10-04 21:00Z",
          "terminal": "4"
         },
         "callSign": "EJU6925",
         "codeshareStatus": "IsOperator",
         "departure": {
          "actualTimeLocal": "2022-10-04 21:15+01:00",
          "actualTimeUtc": "2022-10-04 20:15Z",
          "airport": {
           "iata": "EDI",
           "icao": "EGPH",
           "name": "Edinburgh"
          },
          "quality": [
           "Basic",
           "Live"
          ],
          "revisedTime": {
           "local": "2022-10-04 21:15+01:00",
           "utc": "2022-10-04 20:15Z"
          },
          "scheduledTime": {
           "local": "2022-10-04 20:30+01:00",
           "utc": "2022-10-04 19:30Z"
          },
          "scheduledTimeLocal": "2022-10-04 20:30+01:00",
          "scheduledTimeUtc": "2022-10-04 19:30Z"
         },
         "isCargo": false,
         "number": "EC 6925",
         "status": "Arrived"
        },
        {
         "aircraft": {
          "modeS": "48414D",
          "model": "Boeing 737-800 (winglets)",
          "reg": "PH-HZI"
         },
         "airline": {
          "name": "Transavia"
         },
         "arrival": {
          "actualTimeLocal": "2022-10-04 23:13+02:00",
          "actualTimeUtc": "2022-10-04 21:13Z",
          "baggageBelt": "2",
          "quality": [
           "Basic",
           "Live"
          ],
          "revisedTime": {
           "local": "2022-10-04 23:13+02:00",
           "utc": "2022-10-04 21:13Z"
          },
          "runwayTime": {
           "local": "2022-10-04 23:13+02:00",
           "utc": "2022-10-04 21:13Z"
          },
          "runwayTimeLocal": "2022-10-04 23:13+02:00",
          "runwayTimeUtc": "2022-10-04 21:13Z",
          "scheduledTime": {
           "local": "2022-10-04 23:30+02:00",
           "utc": "2022-10-04 21:30Z"
          },
          "scheduledTimeLocal": "2022-10-04 23:30+02:00",
          "scheduledTimeUtc": "2022-10-04 21:30Z",
          "terminal": "1"
         },
         "callSign": "TRA1327",
         "codeshareStatus": "IsOperator",
         "departure": {
          "airport": {
           "iata": "EFL",
           "icao": "LGKF",
           "name": "Kefallinia Island"
          },
          "quality": []
         },
         "isCargo": false,
         "number": "HV 1327",
         "status": "Arrived"
        },
        {
         "aircraft": {
          "model": "Boeing 737-700 (winglets)"
         },
         "airline": {
          "name": "Transavia"
         },
         "arrival": {
          "actualTimeLocal": "2022-10-04 22:43+02:00",
          "actualTimeUtc": "2022-10-04 20:43Z",
          "baggageBelt": "2",
          "quality": [
           "Basic",
           "Live"
          ],
          "revisedTime": {
           "local": "2022-10-04 22:43+02:00",
           "utc": "2022-10-04 20:43Z"
          },
          "runwayTime": {
           "local": "2022-10-04 22:43+02:00",
           "utc": "2022-10-04 20:43Z"
          },
          "runwayTimeLocal": "2022-10-04 22:43+02:00",
          "runwayTimeUtc": "2022-10-04 20:43Z",
          "scheduledTime": {
           "local": "2022-10-04 23:05+02:00",
           "utc": "2022-10-04 21:05Z"
          },
          "scheduledTimeLocal": "2022-10-04 23:05+02:00",
          "scheduledTimeUtc": "2022-10-04 21:05Z",
          "terminal": "1"
         },
         "codeshareStatus": "IsOperator",
         "departure": {
          "airport": {
           "iata": "ORY",
           "icao": "LFPO",
           "name": "Paris"
          },
          "quality": [
           "Basic"
          ],
          "scheduledTime": {
           "local": "2022-10-04 21:50+02:00",
           "utc": "2022-10-04 19:50Z"
          },
          "scheduledTimeLocal": "2022-10-04 21:50+02:00",
          "scheduledTimeUtc": "2022-10-04 19:50Z",
          "terminal": "3"
         },
         "isCargo": false,
         "number": "HV 5194",
         "status": "Arrived"
        },
        {
         "aircraft": {
          "model": "Boeing 737-800 (winglets)"
         },
         "airline": {
          "name": "Transavia"
         },
         "arrival": {
          "actualTimeLocal": "2022-10-04 23:50+02:00",
          "actualTimeUtc": "2022-10-04 21:50Z",
          "baggageBelt": "6",
          "quality": [
           "Basic",
           "Live"
          ],
          "revisedTime": {
           "local": "2022-10-04 23:50+02:00",
           "utc": "2022-10-04 21:50Z"
          },
          "runwayTime": {
           "local": "2022-10-04 23:50+02:00",
           "utc": "2022-10-04 21:50Z"
          },
          "runwayTimeLocal": "2022-10-04 23:50+02:00",
          "runwayTimeUtc": "2022-10-04 21:50Z",
          "scheduledTime": {
           "local": "2022-10-04 23:50+02:00",
           "utc": "2022-10-04 21:50Z"
          },
          "scheduledTimeLocal": "2022-10-04 23:50+02:00",
          "scheduledTimeUtc": "2022-10-04 21:50Z",
          "terminal": "1"
         },
         "codeshareStatus": "IsOperator",
         "departure": {
          "actualTimeLocal": "2022-10-04 20:02+01:00",
          "actualTimeUtc": "2022-10-04 19:02Z",
          "airport": {
           "iata": "FAO",
           "icao": "LPFR",
           "name": "Faro"
          },
          "quality": [
           "Basic",
           "Live"
          ],
          "revisedTime": {
           "local": "2022-10-04 20:02+01:00",
           "utc": "2022-10-04 19:02Z"
          },
          "scheduledTime": {
           "local": "2022-10-04 19:50+01:00",
           "utc": "2022-10-04 18:50Z"
          },
          "scheduledTimeLocal": "2022-10-04 19:50+01:00",
          "scheduledTimeUtc": "2022-10-04 18:50Z",
          "terminal": "1"
         },
         "isCargo": false,
         "number": "HV 5358",
         "status": "Arrived"
        },
        {
         "aircraft": {
          "model": "Boeing 737-800 (winglets)"
         },
         "airline": {
          "name": "Transavia"
         },
         "arrival": {
          "actualTimeLocal": "2022-10-04 23:27+02:00",
          "actualTimeUtc": "2022-10-04 21:27Z",
          "baggageBelt": "2",
          "quality": [
           "Basic",
           "Live"
          ],
          "revisedTime": {
           "local": "2022-10-04 23:27+02:00",
           "utc": "2022-10-04 21:27Z"
          },
          "runwayTime": {
           "local": "2022-10-04 23:27+02:00",
           "utc": "2022-10-04 21:27Z"
          },
          "runwayTimeLocal": "2022-10-04 23:27+02:00",
          "runwayTimeUtc": "2022-10-04 21:27Z",
          "scheduledTime": {
           "local": "2022-10-04 23:35+02:00",
           "utc": "2022-10-04 21:35Z"
          },
          "scheduledTimeLocal": "2022-10-04 23:35+02:00",
          "scheduledTimeUtc": "2022-10-04 21:35Z",
          "terminal": "1"
         },
         "codeshareStatus": "IsOperator",
         "departure": {
          "airport": {
           "iata": "NCE",
           "icao": "LFMN",
           "name": "Nice"
          },
          "quality": [
           "Basic"
          ],
          "scheduledTime": {
           "local": "2022-10-04 21:35+02:00",
           "utc": "2022-10-04 19:35Z"
          },
          "scheduledTimeLocal": "2022-10-04 21:35+02:00",
          "scheduledTimeUtc": "2022-10-04 19:35Z",
          "terminal": "1"
         },
         "isCargo": false,
         "number": "HV 5586",
         "status": "Arrived"
        },
        {
         "aircraft": {
          "model": "Boeing 737-800 (winglets)"
         },
         "airline": {
          "name": "Transavia"
         },
         "arrival": {
          "actualTimeLocal": "2022-10-04 23:47+02:00",
          "actualTimeUtc": "2022-10-04 21:47Z",
          "baggageBelt": "2",
          "quality": [
           "Basic",
           "Live"
          ],
          "revisedTime": {
           "local": "2022-10-04 23:47+02:00",
           "utc": "2022-10-04 21:47Z"
          },
          "runwayTime": {
           "local": "2022-10-04 23:47+02:00",
           "utc": "2022-10-04 21:47Z"
          },
          "runwayTimeLocal": "2022-10-04 23:47+02:00",
          "runwayTimeUtc": "2022-10-04 21:47Z",
          "scheduledTime": {
           "local": "2022-10-04 23:55+02:00",
           "utc": "2022-10-04 21:55Z"
          },
          "scheduledTimeLocal": "2022-10-04 23:55+02:00",
          "scheduledTimeUtc": "2022-10-04 21:55Z",
          "terminal": "1"
         },
         "codeshareStatus": "IsOperator",
         "departure": {
          "actualTimeLocal": "2022-10-04 21:25+02:00",
          "actualTimeUtc": "2022-10-04 19:25Z",
          "airport": {
           "iata": "VLC",
           "icao": "LEVC",
           "name": "Valencia"
          },
          "checkInDesk": "53-54",
          "gate": "12",
          "quality": [
           "Basic",
           "Live"
          ],
          "revisedTime": {
           "local": "2022-10-04 21:25+02:00",
           "utc": "2022-10-04 19:25Z"
          },
          "scheduledTime": {
           "local": "2022-10-04 21:20+02:00",
           "utc": "2022-10-04 19:20Z"
          },
          "scheduledTimeLocal": "2022-10-04 21:20+02:00",
          "scheduledTimeUtc": "2022-10-04 19:20Z",
          "terminal": "1"
         },
         "isCargo": false,
         "number": "HV 6336",
         "status": "Arrived"
        },
        {
         "aircraft": {
          "modeS": "4863DC",
          "model": "Embraer 195-E2",
          "reg": "PH-NXD"
         },
         "airline": {
          "name": "KLM"
         },
         "arrival": {
          "actualTimeLocal": "2022-10-04 22:47+02:00",
          "actualTimeUtc": "2022-10-04 20:47Z",
          "baggageBelt": "8",
          "quality": [
           "Basic",
           "Live"
          ],
          "revisedTime": {
           "local": "2022-10-04 22:47+02:00",
           "utc": "2022-10-04 20:47Z"
          },
          "runwayTime": {
           "local": "2022-10-04 22:47+02:00",
           "utc": "2022-10-04 20:47Z"
          },
          "runwayTimeLocal": "2022-10-04 22:47+02:00",
          "runwayTimeUtc": "2022-10-04 20:47Z",
          "scheduledTime": {
           "local": "2022-10-04 23:05+02:00",
           "utc": "2022-10-04 21:05Z"
          },
          "scheduledTimeLocal": "2022-10-04 23:05+02:00",
          "scheduledTimeUtc": "2022-10-04 21:05Z",
          "terminal": "2"
         },
         "callSign": "KLM1028",
         "codeshareStatus": "IsOperator",
         "departure": {
          "actualTimeLocal": "2022-10-04 21:08+01:00",
          "actualTimeUtc": "2022-10-04 20:08Z",
          "airport": {
           "iata": "LHR",
           "icao": "EGLL",
           "name": "London"
          },
          "checkInDesk": "B",
          "quality": [
           "Basic",
           "Live"
          ],
          "revisedTime": {
           "local": "2022-10-04 21:08+01:00",
           "utc": "2022-10-04 20:08Z"
          },
          "scheduledTime": {
           "local": "2022-10-04 20:55+01:00",
           "utc": "2022-10-04 19:55Z"
          },
          "scheduledTimeLocal": "2022-10-04 20:55+01:00",
          "scheduledTimeUtc": "2022-10-04 19:55Z",
          "terminal": "3"
         },
         "isCargo": false,
         "number": "KL 1028",
         "status": "Arrived"
        },
        {
         "aircraft": {
          "modeS": "4841A6",
          "model": "Boeing 737-900 (winglets) ",
          "reg": "PH-BXT"
         },
         "airline": {
          "name": "KLM"
         },
         "arrival": {
          "actualTimeLocal": "2022-10-04 22:38+02:00",
          "actualTimeUtc": "2022-10-04 20:38Z",
          "baggageBelt": "10",
          "quality": [
           "Basic",
           "Live"
          ],
          "revisedTime": {
           "local": "2022-10-04 22:38+02:00",
           "utc": "2022-10-04 20:38Z"
          },
          "runwayTime": {
           "local": "2022-10-04 22:38+02:00",
           "utc": "2022-10-04 20:38Z"
          },
          "runwayTimeLocal": "2022-10-04 22:38+02:00",
          "runwayTimeUtc": "2022-10-04 20:38Z",
          "scheduledTime": {
           "local": "2022-10-04 23:00+02:00",
           "utc": "2022-10-04 21:00Z"
          },
          "scheduledTimeLocal": "2022-10-04 23:00+02:00",
          "scheduledTimeUtc": "2022-10-04 21:00Z",
          "terminal": "2"
         },
         "callSign": "KLM1118",
         "codeshareStatus": "IsOperator",
         "departure": {
          "actualTimeLocal": "2022-10-04 20:46+02:00",
          "actualTimeUtc": "2022-10-04 18:46Z",
          "airport": {
           "iata": "ARN",
           "icao": "ESSA",
           "name": "Stockholm"
          },
          "checkInDesk": "0",
          "gate": "11",
          "quality": [
           "Basic",
           "Live"
          ],
          "revisedTime": {
           "local": "2022-10-04 20:46+02:00",
           "utc": "2022-10-04 18:46Z"
          },
          "scheduledTime": {
           "local": "2022-10-04 20:55+02:00",
           "utc": "2022-10-04 18:55Z"
          },
          "scheduledTimeLocal": "2022-10-04 20:55+02:00",
          "scheduledTimeUtc": "2022-10-04 18:55Z",
          "terminal": "5"
         },
         "isCargo": false,
         "number": "KL 1118",
         "status": "Arrived"
        },
        {
         "aircraft": {
          "modeS": "484FDF",
          "model": "Boeing 737-800 (winglets)",
          "reg": "PH-BCE"
         },
         "airline": {
          "name": "KLM"
         },
         "arrival": {
          "actualTimeLocal": "2022-10-04 23:45+02:00",
          "actualTimeUtc": "2022-10-04 21:45Z",
          "baggageBelt": "17",
          "quality": [
           "Basic",
           "Live"
          ],
          "revisedTime": {
           "local": "2022-10-04 23:45+02:00",
           "utc": "2022-10-04 21:45Z"
          },
          "runwayTime": {
           "local": "2022-10-04 23:45+02:00",
           "utc": "2022-10-04 21:45Z"
          },
          "runwayTimeLocal": "2022-10-04 23:45+02:00",
          "runwayTimeUtc": "2022-10-04 21:45Z",
          "scheduledTime": {
           "local": "2022-10-04 23:00+02:00",
           "utc": "2022-10-04 21:00Z"
          },
          "scheduledTimeLocal": "2022-10-04 23:00+02:00",
          "scheduledTimeUtc": "2022-10-04 21:00Z",
          "terminal": "3"
         },
         "callSign": "KLM1678",
         "codeshareStatus": "IsOperator",
         "departure": {
          "actualTimeLocal": "2022-10-04 20:12+01:00",
          "actualTimeUtc": "2022-10-04 19:12Z",
          "airport": {
           "iata": "LIS",
           "icao": "LPPT",
           "name": "Lisbon"
          },
          "quality": [
           "Basic",
           "Live"
          ],
          "revisedTime": {
           "local": "2022-10-04 20:12+01:00",
           "utc": "2022-10-04 19:12Z"
          },
          "scheduledTime": {
           "local": "2022-10-04 18:55+01:00",
           "utc": "2022-10-04 17:55Z"
          },
          "scheduledTimeLocal": "2022-10-04 18:55+01:00",
          "scheduledTimeUtc": "2022-10-04 17:55Z",
          "terminal": "1"
         },
         "isCargo": false,
         "number": "KL 1678",
         "status": "Arrived"
        },
        {
         "aircraft": {
          "modeS": "484557",
          "model": "Boeing 737-800 (winglets)",
          "reg": "PH-BXZ"
         },
         "airline": {
          "name": "KLM"
         },
         "arrival": {
          "actualTimeLocal": "2022-10-04 22:52+02:00",
          "actualTimeUtc": "2022-10-04 20:52Z",
          "baggageBelt": "13",
          "quality": [
           "Basic",
           "Live"
          ],
          "revisedTime": {
           "local": "2022-10-04 22:52+02:00",
           "utc": "2022-10-04 20:52Z"
          },
          "runwayTime": {
           "local": "2022-10-04 22:52+02:00",
           "utc": "2022-10-04 20:52Z"
          },
          "runwayTimeLocal": "2022-10-04 22:52+02:00",
          "runwayTimeUtc": "2022-10-04 20:52Z",
          "scheduledTime": {
           "local": "2022-10-04 23:00+02:00",
           "utc": "2022-10-04 21:00Z"
          },
          "scheduledTimeLocal": "2022-10-04 23:00+02:00",
          "scheduledTimeUtc": "2022-10-04 21:00Z",
          "terminal": "2"
         },
         "callSign": "KLM1706",
         "codeshareStatus": "IsOperator",
         "departure": {
          "actualTimeLocal": "2022-10-04 20:35+02:00",
          "actualTimeUtc": "2022-10-04 18:35Z",
          "airport": {
           "iata": "MAD",
           "icao": "LEMD",
           "name": "Madrid"
          },
          "checkInDesk": "427-431",
          "gate": "E69",
          "quality": [
           "Basic",
           "Live"
          ],
          "revisedTime": {
           "local": "2022-10-04 20:35+02:00",
           "utc": "2022-10-04 18:35Z"
          },
          "scheduledTime": {
           "local": "2022-10-04 20:20+02:00",
           "utc": "2022-10-04 18:20Z"
          },
          "scheduledTimeLocal": "2022-10-04 20:20+02:00",
          "scheduledTimeUtc": "2022-10-04 18:20Z",
          "terminal": "2"
         },
         "isCargo": false,
         "number": "KL 1706",
         "status": "Arrived"
        },
        {
         "aircraft": {
          "modeS": "485870",
          "model": "Embraer 175",
          "reg": "PH-EXU"
         },
         "airline": {
          "name": "KLM"
         },
         "arrival": {
          "actualTimeLocal": "2022-10-04 23:01+02:00",
          "actualTimeUtc": "2022-10-04 21:01Z",
          "baggageBelt": "12",
          "quality": [
           "Basic",
           "Live"
          ],
          "revisedTime": {
           "local": "2022-10-04 23:01+02:00",
           "utc": "2022-10-04 21:01Z"
          },
          "runwayTime": {
           "local": "2022-10-04 23:01+02:00",
           "utc": "2022-10-04 21:01Z"
          },
          "runwayTimeLocal": "2022-10-04 23:01+02:00",
          "runwayTimeUtc": "2022-10-04 21:01Z",
          "scheduledTime": {
           "local": "2022-10-04 23:20+02:00",
           "utc": "2022-10-04 21:20Z"
          },
          "scheduledTimeLocal": "2022-10-04 23:20+02:00",
          "scheduledTimeUtc": "2022-10-04 21:20Z",
          "terminal": "2"
         },
         "callSign": "KLM942",
         "codeshareStatus": "IsOperator",
         "departure": {
          "actualTimeLocal": "2022-10-04 20:45+01:00",
          "actualTimeUtc": "2022-10-04 19:45Z",
          "airport": {
           "iata": "DUB",
           "icao": "EIDW",
           "name": "Dublin"
          },
          "checkInDesk": "1006-1010",
          "gate": "224",
          "quality": [
           "Basic",
           "Live"
          ],
          "revisedTime": {
           "local": "2022-10-04 20:45+01:00",
           "utc": "2022-10-04 19:45Z"
          },
          "scheduledTime": {
           "local": "2022-10-04 20:45+01:00",
           "utc": "2022-10-04 19:45Z"
          },
          "scheduledTimeLocal": "2022-10-04 20:45+01:00",
          "scheduledTimeUtc": "2022-10-04 19:45Z",
          "terminal": "1"
         },
         "isCargo": false,
         "number": "KL 942",
         "status": "Arrived"
        },
        {
         "aircraft": {
          "model": "Embraer 190"
         },
         "airline": {
          "name": "KLM"
         },
         "arrival": {
          "actualTimeLocal": "2022-10-04 22:10+02:00",
          "actualTimeUtc": "2022-10-04 20:10Z",
          "baggageBelt": "13",
          "quality": [
           "Basic",
           "Live"
          ],
          "revisedTime": {
           "local": "2022-10-04 22:10+02:00",
           "utc": "2022-10-04 20:10Z"
          },
          "runwayTime": {
           "local": "2022-10-04 22:10+02:00",
           "utc": "2022-10-04 20:10Z"
          },
          "runwayTimeLocal": "2022-10-04 22:10+02:00",
          "runwayTimeUtc": "2022-10-04 20:10Z",
          "scheduledTime": {
           "local": "2022-10-04 23:00+02:00",
           "utc": "2022-10-04 21:00Z"
          },
          "scheduledTimeLocal": "2022-10-04 23:00+02:00",
          "scheduledTimeUtc": "2022-10-04 21:00Z",
          "terminal": "2"
         },
         "codeshareStatus": "IsOperator",
         "departure": {
          "actualTimeLocal": "2022-10-04 20:35+01:00",
          "actualTimeUtc": "2022-10-04 19:35Z",
          "airport": {
           "iata": "LCY",
           "icao": "EGLC",
           "name": "London"
          },
          "gate": "6",
          "quality": [
           "Basic",
           "Live"
          ],
          "revisedTime": {
           "local": "2022-10-04 20:35+01:00",
           "utc": "2022-10-04 19:35Z"
          },
          "scheduledTime": {
           "local": "2022-10-04 20:45+01:00",
           "utc": "2022-10-04 19:45Z"
          },
          "scheduledTimeLocal": "2022-10-04 20:45+01:00",
          "scheduledTimeUtc": "2022-10-04 19:45Z"
         },
         "isCargo": false,
         "number": "KL 970",
         "status": "Arrived"
        },
        {
         "aircraft": {
          "model": "Boeing 737 MAX 8"
         },
         "airline": {
          "name": "TUIfly Netherlands"
         },
         "arrival": {
          "actualTimeLocal": "2022-10-04 23:25+02:00",
          "actualTimeUtc": "2022-10-04 21:25Z",
          "baggageBelt": "20",
          "quality": [
           "Basic",
           "Live"
          ],
          "revisedTime": {
           "local": "2022-10-04 23:25+02:00",
           "utc": "2022-10-04 21:25Z"
          },
          "runwayTime": {
           "local": "2022-10-04 23:25+02:00",
           "utc": "2022-10-04 21:25Z"
          },
          "runwayTimeLocal": "2022-10-04 23:25+02:00",
          "runwayTimeUtc": "2022-10-04 21:25Z",
          "scheduledTime": {
           "local": "2022-10-04 23:35+02:00",
           "utc": "2022-10-04 21:35Z"
          },
          "scheduledTimeLocal": "2022-10-04 23:35+02:00",
          "scheduledTimeUtc": "2022-10-04 21:35Z",
          "terminal": "4"
         },
         "codeshareStatus": "IsOperator",
         "departure": {
          "airport": {
           "iata": "MJT",
           "icao": "LGMT",
           "name": "Mytilene"
          },
          "quality": []
         },
         "isCargo": false,
         "number": "OR 1032",
         "status": "Arrived"
        },
        {
         "aircraft": {
          "modeS": "485A83",
          "model": "Boeing 737 MAX 8",
          "reg": "PH-TFP"
         },
         "airline": {
          "name": "TUIfly Netherlands"
         },
         "arrival": {
          "actualTimeLocal": "2022-10-04 23:23+02:00",
          "actualTimeUtc": "2022-10-04 21:23Z",
          "baggageBelt": "17",
          "quality": [
           "Basic",
           "Live"
          ],
          "revisedTime": {
           "local": "2022-10-04 23:23+02:00",
           "utc": "2022-10-04 21:23Z"
          },
          "runwayTime": {
           "local": "2022-10-04 23:23+02:00",
           "utc": "2022-10-04 21:23Z"
          },
          "runwayTimeLocal": "2022-10-04 23:23+02:00",
          "runwayTimeUtc": "2022-10-04 21:23Z",
          "scheduledTime": {
           "local": "2022-10-04 23:35+02:00",
           "utc": "2022-10-04 21:35Z"
          },
          "scheduledTimeLocal": "2022-10-04 23:35+02:00",
          "scheduledTimeUtc": "2022-10-04 21:35Z",
          "terminal": "3"
         },
         "callSign": "TFL5HE",
         "codeshareStatus": "IsOperator",
         "departure": {
          "airport": {
           "iata": "HRG",
           "icao": "HEGN",
           "name": "Hurghada"
          },
          "quality": [
           "Basic"
          ],
          "scheduledTime": {
           "local": "2022-10-04 18:10+02:00",
           "utc": "2022-10-04 16:10Z"
          },
          "scheduledTimeLocal": "2022-10-04 18:10+02:00",
          "scheduledTimeUtc": "2022-10-04 16:10Z",
          "terminal": "0"
         },
         "isCargo": false,
         "number": "OR 3455",
         "status": "Arrived"
        },
        {
         "aircraft": {
          "model": "Boeing 737-700"
         },
         "airline": {
          "name": "Transavia"
         },
         "arrival": {
          "baggageBelt": "4",
          "quality": [
           "Basic"
          ],
          "runwayTime": {
           "local": "2022-10-04 23:40+02:00",
           "utc": "2022-10-04 21:40Z"
          },
          "runwayTimeLocal": "2022-10-04 23:40+02:00",
          "runwayTimeUtc": "2022-10-04 21:40Z",
          "scheduledTime": {
           "local": "2022-10-05 00:10+02:00",
           "utc": "2022-10-04 22:10Z"
          },
          "scheduledTimeLocal": "2022-10-05 00:10+02:00",
          "scheduledTimeUtc": "2022-10-04 22:10Z",
          "terminal": "1"
         },
         "codeshareStatus": "IsOperator",
         "departure": {
          "actualTimeLocal": "2022-10-04 21:34+02:00",
          "actualTimeUtc": "2022-10-04 19:34Z",
          "airport": {
           "iata": "BCN",
           "icao": "LEBL",
           "name": "Barcelona"
          },
          "checkInDesk": "B8-B9",
          "gate": "U32",
          "quality": [
           "Basic",
           "Live"
          ],
          "revisedTime": {
           "local": "2022-10-04 21:34+02:00",
           "utc": "2022-10-04 19:34Z"
          },
          "scheduledTime": {
           "local": "2022-10-04 21:45+02:00",
           "utc": "2022-10-04 19:45Z"
          },
          "scheduledTimeLocal": "2022-10-04 21:45+02:00",
          "scheduledTimeUtc": "2022-10-04 19:45Z",
          "terminal": "2"
         },
         "isCargo": false,
         "number": "HV 5134",
         "status": "Arrived"
        },
        {
         "aircraft": {
          "model": "Airbus A320"
         },
         "airline": {
          "name": "Alitalia"
         },
         "arrival": {
          "actualTimeLocal": "2022-10-05 00:12+02:00",
          "actualTimeUtc": "2022-10-04 22:12Z",
          "quality": [
           "Basic",
           "Live"
          ],
          "revisedTime": {
           "local": "2022-10-05 00:12+02:00",
           "utc": "2022-10-04 22:12Z"
          },
          "runwayTime": {
           "local": "2022-10-05 00:12+02:00",
           "utc": "2022-10-04 22:12Z"
          },
          "runwayTimeLocal": "2022-10-05 00:12+02:00",
          "runwayTimeUtc": "2022-10-04 22:12Z",
          "scheduledTime": {
           "local": "2022-10-05 00:10+02:00",
           "utc": "2022-10-04 22:10Z"
          },
          "scheduledTimeLocal": "2022-10-05 00:10+02:00",
          "scheduledTimeUtc": "2022-10-04 22:10Z"
         },
         "codeshareStatus": "IsOperator",
         "departure": {
          "airport": {
           "iata": "FCO",
           "icao": "LIRF",
           "name": "Rome"
          },
          "quality": []
         },
         "isCargo": false,
         "number": "AZ 9929",
         "status": "Arrived"
        },
        {
         "aircraft": {
          "model": "Boeing 737-800"
         },
         "airline": {
          "name": "Transavia"
         },
         "arrival": {
          "baggageBelt": "4",
          "quality": [
           "Basic"
          ],
          "runwayTime": {
           "local": "2022-10-05 00:09+02:00",
           "utc": "2022-10-04 22:09Z"
          },
          "runwayTimeLocal": "2022-10-05 00:09+02:00",
          "runwayTimeUtc": "2022-10-04 22:09Z",
          "scheduledTime": {
           "local": "2022-10-05 00:10+02:00",
           "utc": "2022-10-04 22:10Z"
          },
          "scheduledTimeLocal": "2022-10-05 00:10+02:00",
          "scheduledTimeUtc": "2022-10-04 22:10Z",
          "terminal": "1"
         },
         "codeshareStatus": "IsOperator",
         "departure": {
          "actualTimeLocal": "2022-10-04 21:08+02:00",
          "actualTimeUtc": "2022-10-04 19:08Z",
          "airport": {
           "iata": "AGP",
           "icao": "LEMG",
           "name": "Málaga"
          },
          "checkInDesk": "328-330",
          "gate": "D66",
          "quality": [
           "Basic",
           "Live"
          ],
          "revisedTime": {
           "local": "2022-10-04 21:08+02:00",
           "utc": "2022-10-04 19:08Z"
          },
          "scheduledTime": {
           "local": "2022-10-04 21:05+02:00",
           "utc": "2022-10-04 19:05Z"
          },
          "scheduledTimeLocal": "2022-10-04 21:05+02:00",
          "scheduledTimeUtc": "2022-10-04 19:05Z",
          "terminal": "PAX"
         },
         "isCargo": false,
         "number": "HV 6118",
         "status": "Arrived"
        },
        {
         "aircraft": {
          "model": "Boeing 737-800"
         },
         "airline": {
          "name": "Transavia"
         },
         "arrival": {
          "baggageBelt": "2",
          "quality": [
           "Basic"
          ],
          "runwayTime": {
           "local": "2022-10-05 00:17+02:00",
           "utc": "2022-10-04 22:17Z"
          },
          "runwayTimeLocal": "2022-10-05 00:17+02:00",
          "runwayTimeUtc": "2022-10-04 22:17Z",
          "scheduledTime": {
           "local": "2022-10-05 00:20+02:00",
           "utc": "2022-10-04 22:20Z"
          },
          "scheduledTimeLocal": "2022-10-05 00:20+02:00",
          "scheduledTimeUtc": "2022-10-04 22:20Z",
          "terminal": "1"
         },
         "codeshareStatus": "IsOperator",
         "departure": {
          "airport": {
           "iata": "ZTH",
           "icao": "LGZA",
           "name": "Zakynthos Island"
          },
          "quality": [
           "Basic"
          ],
          "scheduledTime": {
           "local": "2022-10-04 22:00+03:00",
           "utc": "2022-10-04 19:00Z"
          },
          "scheduledTimeLocal": "2022-10-04 22:00+03:00",
          "scheduledTimeUtc": "2022-10-04 19:00Z"
         },
         "isCargo": false,
         "number": "HV 5098",
         "status": "Arrived"
        },
        {
         "aircraft": {
          "model": "Boeing 737-800"
         },
         "airline": {
          "name": "Transavia"
         },
         "arrival": {
          "baggageBelt": "6",
          "quality": [
           "Basic"
          ],
          "runwayTime": {
           "local": "2022-10-05 00:14+02:00",
           "utc": "2022-10-04 22:14Z"
          },
          "runwayTimeLocal": "2022-10-05 00:14+02:00",
          "runwayTimeUtc": "2022-10-04 22:14Z",
          "scheduledTime": {
           "local": "2022-10-05 00:20+02:00",
           "utc": "2022-10-04 22:20Z"
          },
          "scheduledTimeLocal": "2022-10-05 00:20+02:00",
          "scheduledTimeUtc": "2022-10-04 22:20Z",
          "terminal": "1"
         },
         "codeshareStatus": "IsOperator",
         "departure": {
          "actualTimeLocal": "2022-10-04 21:40+02:00",
          "actualTimeUtc": "2022-10-04 19:40Z",
          "airport": {
           "iata": "ALC",
           "icao": "LEAL",
           "name": "Alicante"
          },
          "checkInDesk": "10-11",
          "gate": "C45",
          "quality": [
           "Basic",
           "Live"
          ],
          "revisedTime": {
           "local": "2022-10-04 21:40+02:00",
           "utc": "2022-10-04 19:40Z"
          },
          "scheduledTime": {
           "local": "2022-10-04 21:35+02:00",
           "utc": "2022-10-04 19:35Z"
          },
          "scheduledTimeLocal": "2022-10-04 21:35+02:00",
          "scheduledTimeUtc": "2022-10-04 19:35Z",
          "terminal": "N"
         },
         "isCargo": false,
         "number": "HV 6146",
         "status": "Arrived"
        },
        {
         "aircraft": {
          "model": "Boeing 737-800"
         },
         "airline": {
          "name": "Transavia"
         },
         "arrival": {
          "baggageBelt": "6",
          "quality": [
           "Basic"
          ],
          "runwayTime": {
           "local": "2022-10-05 01:00+02:00",
           "utc": "2022-10-04 23:00Z"
          },
          "runwayTimeLocal": "2022-10-05 01:00+02:00",
          "runwayTimeUtc": "2022-10-04 23:00Z",
          "scheduledTime": {
           "local": "2022-10-05 00:25+02:00",
           "utc": "2022-10-04 22:25Z"
          },
          "scheduledTimeLocal": "2022-10-05 00:25+02:00",
          "scheduledTimeUtc": "2022-10-04 22:25Z",
          "terminal": "1"
         },
         "codeshareStatus": "IsOperator",
         "departure": {
          "airport": {
           "iata": "RHO",
           "icao": "LGRP",
           "name": "Rodes Island"
          },
          "quality": [
           "Basic"
          ],
          "scheduledTime": {
           "local": "2022-10-04 21:30+03:00",
           "utc": "2022-10-04 18:30Z"
          },
          "scheduledTimeLocal": "2022-10-04 21:30+03:00",
          "scheduledTimeUtc": "2022-10-04 18:30Z"
         },
         "isCargo": false,
         "number": "HV 5080",
         "status": "Arrived"
        },
        {
         "aircraft": {
          "model": "Boeing 737-800 (winglets)"
         },
         "airline": {
          "name": "Transavia"
         },
         "arrival": {
          "actualTimeLocal": "2022-10-05 00:02+02:00",
          "actualTimeUtc": "2022-10-04 22:02Z",
          "baggageBelt": "22",
          "quality": [
           "Basic",
           "Live"
          ],
          "revisedTime": {
           "local": "2022-10-05 00:02+02:00",
           "utc": "2022-10-04 22:02Z"
          },
          "runwayTime": {
           "local": "2022-10-05 00:02+02:00",
           "utc": "2022-10-04 22:02Z"
          },
          "runwayTimeLocal": "2022-10-05 00:02+02:00",
          "runwayTimeUtc": "2022-10-04 22:02Z",
          "scheduledTime": {
           "local": "2022-10-04 23:55+02:00",
           "utc": "2022-10-04 21:55Z"
          },
          "scheduledTimeLocal": "2022-10-04 23:55+02:00",
          "scheduledTimeUtc": "2022-10-04 21:55Z",
          "terminal": "4"
         },
         "codeshareStatus": "IsOperator",
         "departure": {
          "actualTimeLocal": "2022-10-04 21:45+03:00",
          "actualTimeUtc": "2022-10-04 18:45Z",
          "airport": {
           "iata": "ATH",
           "icao": "LGAV",
           "name": "Athens"
          },
          "checkInDesk": "12---15",
          "gate": "A33",
          "quality": [
           "Basic",
           "Live"
          ],
          "revisedTime": {
           "local": "2022-10-04 21:45+03:00",
           "utc": "2022-10-04 18:45Z"
          },
          "scheduledTime": {
           "local": "2022-10-04 21:20+03:00",
           "utc": "2022-10-04 18:20Z"
          },
          "scheduledTimeLocal": "2022-10-04 21:20+03:00",
          "scheduledTimeUtc": "2022-10-04 18:20Z",
          "terminal": "D"
         },
         "isCargo": false,
         "number": "HV 6868",
         "status": "Arrived"
        },
        {
         "aircraft": {
          "model": "Boeing 737-800"
         },
         "airline": {
          "name": "Transavia"
         },
         "arrival": {
          "baggageBelt": "2",
          "quality": [
           "Basic"
          ],
          "runwayTime": {
           "local": "2022-10-05 01:10+02:00",
           "utc": "2022-10-04 23:10Z"
          },
          "runwayTimeLocal": "2022-10-05 01:10+02:00",
          "runwayTimeUtc": "2022-10-04 23:10Z",
          "scheduledTime": {
           "local": "2022-10-05 00:30+02:00",
           "utc": "2022-10-04 22:30Z"
          },
          "scheduledTimeLocal": "2022-10-05 00:30+02:00",
          "scheduledTimeUtc": "2022-10-04 22:30Z",
          "terminal": "1"
         },
         "codeshareStatus": "IsOperator",
         "departure": {
          "airport": {
           "iata": "BRI",
           "icao": "LIBD",
           "name": "Bari"
          },
          "quality": [
           "Basic"
          ],
          "scheduledTime": {
           "local": "2022-10-04 21:50+02:00",
           "utc": "2022-10-04 19:50Z"
          },
          "scheduledTimeLocal": "2022-10-04 21:50+02:00",
          "scheduledTimeUtc": "2022-10-04 19:50Z"
         },
         "isCargo": false,
         "number": "HV 5820",
         "status": "Arrived"
        },
        {
         "aircraft": {
          "modeS": "503D3E",
          "model": "Boeing 737-800",
          "reg": "LY-DUE"
         },
         "airline": {
          "name": "Transavia"
         },
         "arrival": {
          "baggageBelt": "17",
          "quality": [
           "Basic"
          ],
          "runwayTime": {
           "local": "2022-10-05 00:21+02:00",
           "utc": "2022-10-04 22:21Z"
          },
          "runwayTimeLocal": "2022-10-05 00:21+02:00",
          "runwayTimeUtc": "2022-10-04 22:21Z",
          "scheduledTime": {
           "local": "2022-10-05 00:15+02:00",
           "utc": "2022-10-04 22:15Z"
          },
          "scheduledTimeLocal": "2022-10-05 00:15+02:00",
          "scheduledTimeUtc": "2022-10-04 22:15Z",
          "terminal": "3"
         },
         "callSign": "TRA5666",
         "codeshareStatus": "IsOperator",
         "departure": {
          "actualTimeLocal": "2022-10-04 19:03+01:00",
          "actualTimeUtc": "2022-10-04 18:03Z",
          "airport": {
           "iata": "LPA",
           "icao": "GCLP",
           "name": "Gran Canaria Island"
          },
          "checkInDesk": "327-329",
          "gate": "C22",
          "quality": [
           "Basic",
           "Live"
          ],
          "revisedTime": {
           "local": "2022-10-04 19:03+01:00",
           "utc": "2022-10-04 18:03Z"
          },
          "scheduledTime": {
           "local": "2022-10-04 18:45+01:00",
           "utc": "2022-10-04 17:45Z"
          },
          "scheduledTimeLocal": "2022-10-04 18:45+01:00",
          "scheduledTimeUtc": "2022-10-04 17:45Z",
          "terminal": "1"
         },
         "isCargo": false,
         "number": "HV 5666",
         "status": "Arrived"
        },
        {
         "aircraft": {
          "modeS": "484FAB",
          "model": "Boeing 737-800 (winglets)",
          "reg": "PH-CDF"
         },
         "airline": {
          "name": "Corendon Dutch"
         },
         "arrival": {
          "actualTimeLocal": "2022-10-05 00:47+02:00",
          "actualTimeUtc": "2022-10-04 22:47Z",
          "baggageBelt": "18",
          "quality": [
           "Basic",
           "Live"
          ],
          "revisedTime": {
           "local": "2022-10-05 00:47+02:00",
           "utc": "2022-10-04 22:47Z"
          },
          "runwayTime": {
           "local": "2022-10-05 00:47+02:00",
           "utc": "2022-10-04 22:47Z"
          },
          "runwayTimeLocal": "2022-10-05 00:47+02:00",
          "runwayTimeUtc": "2022-10-04 22:47Z",
          "scheduledTime": {
           "local": "2022-10-05 01:00+02:00",
           "utc": "2022-10-04 23:00Z"
          },
          "scheduledTimeLocal": "2022-10-05 01:00+02:00",
          "scheduledTimeUtc": "2022-10-04 23:00Z",
          "terminal": "3"
         },
         "callSign": "CND212",
         "codeshareStatus": "IsOperator",
         "departure": {
          "airport": {
           "iata": "KGS",
           "icao": "LGKO",
           "name": "Kos Island"
          },
          "quality": []
         },
         "isCargo": false,
         "number": "CD 212",
         "status": "Arrived"
        },
        {
         "aircraft": {
          "model": "Airbus A320"
         },
         "airline": {
          "name": "TUIfly Netherlands"
         },
         "arrival": {
          "actualTimeLocal": "2022-10-05 01:32+02:00",
          "actualTimeUtc": "2022-10-04 23:32Z",
          "baggageBelt": "22",
          "quality": [
           "Basic",
           "Live"
          ],
          "revisedTime": {
           "local": "2022-10-05 01:32+02:00",
           "utc": "2022-10-04 23:32Z"
          },
          "runwayTime": {
           "local": "2022-10-05 01:32+02:00",
           "utc": "2022-10-04 23:32Z"
          },
          "runwayTimeLocal": "2022-10-05 01:32+02:00",
          "runwayTimeUtc": "2022-10-04 23:32Z",
          "scheduledTime": {
           "local": "2022-10-05 00:50+02:00",
           "utc": "2022-10-04 22:50Z"
          },
          "scheduledTimeLocal": "2022-10-05 00:50+02:00",
          "scheduledTimeUtc": "2022-10-04 22:50Z",
          "terminal": "4"
         },
         "codeshareStatus": "IsOperator",
         "departure": {
          "airport": {
           "iata": "RHO",
           "icao": "LGRP",
           "name": "Rodes Island"
          },
          "quality": [
           "Basic"
          ],
          "scheduledTime": {
           "local": "2022-10-04 21:55+03:00",
           "utc": "2022-10-04 18:55Z"
          },
          "scheduledTimeLocal": "2022-10-04 21:55+03:00",
          "scheduledTimeUtc": "2022-10-04 18:55Z"
         },
         "isCargo": false,
         "number": "OR 1204",
         "status": "Arrived"
        },
        {
         "aircraft": {
          "model": "Boeing 737-800"
         },
         "airline": {
          "name": "Transavia"
         },
         "arrival": {
          "baggageBelt": "4",
          "quality": [
           "Basic"
          ],
          "runwayTime": {
           "local": "2022-10-05 00:35+02:00",
           "utc": "2022-10-04 22:35Z"
          },
          "runwayTimeLocal": "2022-10-05 00:35+02:00",
          "runwayTimeUtc": "2022-10-04 22:35Z",
          "scheduledTime": {
           "local": "2022-10-05 00:25+02:00",
           "utc": "2022-10-04 22:25Z"
          },
          "scheduledTimeLocal": "2022-10-05 00:25+02:00",
          "scheduledTimeUtc": "2022-10-04 22:25Z",
          "terminal": "1"
         },
         "codeshareStatus": "IsOperator",
         "departure": {
          "actualTimeLocal": "2022-10-04 19:13+01:00",
          "actualTimeUtc": "2022-10-04 18:13Z",
          "airport": {
           "iata": "FUE",
           "icao": "GCFV",
           "name": "Fuerteventura Island"
          },
          "checkInDesk": "07-08",
          "gate": "A21",
          "quality": [
           "Basic",
           "Live"
          ],
          "revisedTime": {
           "local": "2022-10-04 19:13+01:00",
           "utc": "2022-10-04 18:13Z"
          },
          "scheduledTime": {
           "local": "2022-10-04 19:10+01:00",
           "utc": "2022-10-04 18:10Z"
          },
          "scheduledTimeLocal": "2022-10-04 19:10+01:00",
          "scheduledTimeUtc": "2022-10-04 18:10Z",
          "terminal": "1"
         },
         "isCargo": false,
         "number": "HV 6706",
         "status": "Arrived"
        },
        {
         "aircraft": {
          "modeS": "4853D3",
          "model": "Boeing 737-800 (winglets)",
          "reg": "PH-HXJ"
         },
         "airline": {
          "name": "Transavia"
         },
         "arrival": {
          "actualTimeLocal": "2022-10-05 00:55+02:00",
          "actualTimeUtc": "2022-10-04 22:55Z",
          "baggageBelt": "17",
          "quality": [
           "Basic",
           "Live"
          ],
          "revisedTime": {
           "local": "2022-10-05 00:55+02:00",
           "utc": "2022-10-04 22:55Z"
          },
          "runwayTime": {
           "local": "2022-10-05 00:55+02:00",
           "utc": "2022-10-04 22:55Z"
          },
          "runwayTimeLocal": "2022-10-05 00:55+02:00",
          "runwayTimeUtc": "2022-10-04 22:55Z",
          "scheduledTime": {
           "local": "2022-10-05 00:10+02:00",
           "utc": "2022-10-04 22:10Z"
          },
          "scheduledTimeLocal": "2022-10-05 00:10+02:00",
          "scheduledTimeUtc": "2022-10-04 22:10Z",
          "terminal": "3"
         },
         "callSign": "TRA212",
         "codeshareStatus": "IsOperator",
         "departure": {
          "actualTimeLocal": "2022-10-04 22:11+03:00",
          "actualTimeUtc": "2022-10-04 19:11Z",
          "airport": {
           "iata": "BJV",
           "icao": "LTFE",
           "name": "Bodrum"
          },
          "checkInDesk": "39-58",
          "gate": "204",
          "quality": [
           "Basic",
           "Live"
          ],
          "revisedTime": {
           "local": "2022-10-04 22:11+03:00",
           "utc": "2022-10-04 19:11Z"
          },
          "scheduledTime": {
           "local": "2022-10-04 21:25+03:00",
           "utc": "2022-10-04 18:25Z"
          },
          "scheduledTimeLocal": "2022-10-04 21:25+03:00",
          "scheduledTimeUtc": "2022-10-04 18:25Z"
         },
         "isCargo": false,
         "number": "HV 212",
         "status": "Arrived"
        },
        {
         "aircraft": {
          "modeS": "503D40",
          "model": "Airbus A320",
          "reg": "LY-FAS"
         },
         "airline": {
          "name": "Transavia"
         },
         "arrival": {
          "baggageBelt": "2",
          "quality": [
           "Basic"
          ],
          "runwayTime": {
           "local": "2022-10-05 01:54+02:00",
           "utc": "2022-10-04 23:54Z"
          },
          "runwayTimeLocal": "2022-10-05 01:54+02:00",
          "runwayTimeUtc": "2022-10-04 23:54Z",
          "scheduledTime": {
           "local": "2022-10-05 00:35+02:00",
           "utc": "2022-10-04 22:35Z"
          },
          "scheduledTimeLocal": "2022-10-05 00:35+02:00",
          "scheduledTimeUtc": "2022-10-04 22:35Z",
          "terminal": "1"
         },
         "callSign": "TRA5216",
         "codeshareStatus": "IsOperator",
         "departure": {
          "actualTimeLocal": "2022-10-04 23:09+02:00",
          "actualTimeUtc": "2022-10-04 21:09Z",
          "airport": {
           "iata": "CTA",
           "icao": "LICC",
           "name": "Catania"
          },
          "quality": [
           "Basic",
           "Live"
          ],
          "revisedTime": {
           "local": "2022-10-04 23:09+02:00",
           "utc": "2022-10-04 21:09Z"
          },
          "scheduledTime": {
           "local": "2022-10-04 21:25+02:00",
           "utc": "2022-10-04 19:25Z"
          },
          "scheduledTimeLocal": "2022-10-04 21:25+02:00",
          "scheduledTimeUtc": "2022-10-04 19:25Z",
          "terminal": "A"
         },
         "isCargo": false,
         "number": "HV 5216",
         "status": "Arrived"
        },
        {
         "aircraft": {
          "model": "Boeing 737 MAX 8"
         },
         "airline": {
          "name": "TUIfly Netherlands"
         },
         "arrival": {
          "actualTimeLocal": "2022-10-05 01:48+02:00",
          "actualTimeUtc": "2022-10-04 23:48Z",
          "baggageBelt": "20",
          "quality": [
           "Basic",
           "Live"
          ],
          "revisedTime": {
           "local": "2022-10-05 01:48+02:00",
           "utc": "2022-10-04 23:48Z"
          },
          "runwayTime": {
           "local": "2022-10-05 01:48+02:00",
           "utc": "2022-10-04 23:48Z"
          },
          "runwayTimeLocal": "2022-10-05 01:48+02:00",
          "runwayTimeUtc": "2022-10-04 23:48Z",
          "scheduledTime": {
           "local": "2022-10-05 01:45+02:00",
           "utc": "2022-10-04 23:45Z"
          },
          "scheduledTimeLocal": "2022-10-05 01:45+02:00",
          "scheduledTimeUtc": "2022-10-04 23:45Z",
          "terminal": "4"
         },
         "codeshareStatus": "IsOperator",
         "departure": {
          "airport": {
           "iata": "HER",
           "icao": "LGIR",
           "name": "Heraklion"
          },
          "quality": [
           "Basic"
          ],
          "scheduledTime": {
           "local": "2022-10-04 22:55+03:00",
           "utc": "2022-10-04 19:55Z"
          },
          "scheduledTimeLocal": "2022-10-04 22:55+03:00",
          "scheduledTimeUtc": "2022-10-04 19:55Z"
         },
         "isCargo": false,
         "number": "OR 1076",
         "status": "Arrived"
        },
        {
         "aircraft": {
          "modeS": "48597E",
          "model": "Boeing 737-800",
          "reg": "PH-HXO"
         },
         "airline": {
          "name": "Transavia"
         },
         "arrival": {
          "baggageBelt": "16",
          "quality": [
           "Basic"
          ],
          "runwayTime": {
           "local": "2022-10-05 01:38+02:00",
           "utc": "2022-10-04 23:38Z"
          },
          "runwayTimeLocal": "2022-10-05 01:38+02:00",
          "runwayTimeUtc": "2022-10-04 23:38Z",
          "scheduledTime": {
           "local": "2022-10-05 01:55+02:00",
           "utc": "2022-10-04 23:55Z"
          },
          "scheduledTimeLocal": "2022-10-05 01:55+02:00",
          "scheduledTimeUtc": "2022-10-04 23:55Z",
          "terminal": "3"
         },
         "callSign": "TRA6506",
         "codeshareStatus": "IsOperator",
         "departure": {
          "airport": {
           "iata": "AMM",
           "icao": "OJAI",
           "name": "Amman"
          },
          "quality": []
         },
         "isCargo": false,
         "number": "HV 6506",
         "status": "Arrived"
        },
        {
         "aircraft": {
          "model": "Boeing 737-800"
         },
         "airline": {
          "name": "TUIfly Netherlands"
         },
         "arrival": {
          "quality": [
           "Basic"
          ],
          "scheduledTime": {
           "local": "2022-10-05 02:05+02:00",
           "utc": "2022-10-05 00:05Z"
          },
          "scheduledTimeLocal": "2022-10-05 02:05+02:00",
          "scheduledTimeUtc": "2022-10-05 00:05Z"
         },
         "codeshareStatus": "Unknown",
         "departure": {
          "airport": {
           "name": "Heraklion"
          },
          "quality": []
         },
         "isCargo": false,
         "number": "OR 1076",
         "status": "Unknown"
        },
        {
         "aircraft": {
          "model": "Boeing 737-800"
         },
         "airline": {
          "name": "TUIfly Netherlands"
         },
         "arrival": {
          "quality": [
           "Basic"
          ],
          "scheduledTime": {
           "local": "2022-10-05 02:05+02:00",
           "utc": "2022-10-05 00:05Z"
          },
          "scheduledTimeLocal": "2022-10-05 02:05+02:00",
          "scheduledTimeUtc": "2022-10-05 00:05Z"
         },
         "codeshareStatus": "Unknown",
         "departure": {
          "airport": {
           "name": "Las-Palmas-de-Gran-Kanariya"
          },
          "quality": []
         },
         "isCargo": false,
         "number": "OR 1638",
         "status": "Unknown"
        },
        {
         "aircraft": {
          "model": "Boeing 737-800"
         },
         "airline": {
          "name": "Corendon Dutch"
         },
         "arrival": {
          "quality": [
           "Basic"
          ],
          "scheduledTime": {
           "local": "2022-10-05 03:40+02:00",
           "utc": "2022-10-05 01:40Z"
          },
          "scheduledTimeLocal": "2022-10-05 03:40+02:00",
          "scheduledTimeUtc": "2022-10-05 01:40Z"
         },
         "codeshareStatus": "Unknown",
         "departure": {
          "airport": {
           "name": "Hurghada"
          },
          "quality": []
         },
         "isCargo": false,
         "number": "CD 220",
         "status": "Unknown"
        },
        {
         "aircraft": {
          "model": "Boeing 767-300"
         },
         "airline": {
          "name": "TUIfly Netherlands"
         },
         "arrival": {
          "baggageBelt": "15",
          "quality": [
           "Basic"
          ],
          "runwayTime": {
           "local": "2022-10-05 01:36+02:00",
           "utc": "2022-10-04 23:36Z"
          },
          "runwayTimeLocal": "2022-10-05 01:36+02:00",
          "runwayTimeUtc": "2022-10-04 23:36Z",
          "scheduledTime": {
           "local": "2022-10-05 01:40+02:00",
           "utc": "2022-10-04 23:40Z"
          },
          "scheduledTimeLocal": "2022-10-05 01:40+02:00",
          "scheduledTimeUtc": "2022-10-04 23:40Z",
          "terminal": "3"
         },
         "codeshareStatus": "IsOperator",
         "departure": {
          "actualTimeLocal": "2022-10-04 22:20+03:00",
          "actualTimeUtc": "2022-10-04 19:20Z",
          "airport": {
           "iata": "AYT",
           "icao": "LTAI",
           "name": "Antalya"
          },
          "checkInDesk": "237-240",
          "quality": [
           "Basic",
           "Live"
          ],
          "revisedTime": {
           "local": "2022-10-04 22:20+03:00",
           "utc": "2022-10-04 19:20Z"
          },
          "scheduledTime": {
           "local": "2022-10-04 22:20+03:00",
           "utc": "2022-10-04 19:20Z"
          },
          "scheduledTimeLocal": "2022-10-04 22:20+03:00",
          "scheduledTimeUtc": "2022-10-04 19:20Z",
          "terminal": "2"
         },
         "isCargo": false,
         "number": "OR 3004",
         "status": "Arrived"
        },
        {
         "aircraft": {
          "model": "Boeing 737 MAX 8"
         },
         "airline": {
          "name": "TUIfly Netherlands"
         },
         "arrival": {
          "actualTimeLocal": "2022-10-05 01:43+02:00",
          "actualTimeUtc": "2022-10-04 23:43Z",
          "baggageBelt": "18",
          "quality": [
           "Basic",
           "Live"
          ],
          "revisedTime": {
           "local": "2022-10-05 01:43+02:00",
           "utc": "2022-10-04 23:43Z"
          },
          "runwayTime": {
           "local": "2022-10-05 01:43+02:00",
           "utc": "2022-10-04 23:43Z"
          },
          "runwayTimeLocal": "2022-10-05 01:43+02:00",
          "runwayTimeUtc": "2022-10-04 23:43Z",
          "scheduledTime": {
           "local": "2022-10-05 01:45+02:00",
           "utc": "2022-10-04 23:45Z"
          },
          "scheduledTimeLocal": "2022-10-05 01:45+02:00",
          "scheduledTimeUtc": "2022-10-04 23:45Z",
          "terminal": "3"
         },
         "codeshareStatus": "IsOperator",
         "departure": {
          "actualTimeLocal": "2022-10-04 20:20+01:00",
          "actualTimeUtc": "2022-10-04 19:20Z",
          "airport": {
           "iata": "LPA",
           "icao": "GCLP",
           "name": "Gran Canaria Island"
          },
          "checkInDesk": "327-329",
          "gate": "C16",
          "quality": [
           "Basic",
           "Live"
          ],
          "revisedTime": {
           "local": "2022-10-04 20:20+01:00",
           "utc": "2022-10-04 19:20Z"
          },
          "scheduledTime": {
           "local": "2022-10-04 20:20+01:00",
           "utc": "2022-10-04 19:20Z"
          },
          "scheduledTimeLocal": "2022-10-04 20:20+01:00",
          "scheduledTimeUtc": "2022-10-04 19:20Z",
          "terminal": "1"
         },
         "isCargo": false,
         "number": "OR 1638",
         "status": "Arrived"
        },
        {
         "aircraft": {
          "modeS": "484445",
          "model": "Airbus A330-200",
          "reg": "PH-AOF"
         },
         "airline": {
          "name": "KLM"
         },
         "arrival": {
          "actualTimeLocal": "2022-10-05 05:30+02:00",
          "actualTimeUtc": "2022-10-05 03:30Z",
          "baggageBelt": "16",
          "quality": [
           "Basic",
           "Live"
          ],
          "revisedTime": {
           "local": "2022-10-05 05:30+02:00",
           "utc": "2022-10-05 03:30Z"
          },
          "runwayTime": {
           "local": "2022-10-05 05:30+02:00",
           "utc": "2022-10-05 03:30Z"
          },
          "runwayTimeLocal": "2022-10-05 05:30+02:00",
          "runwayTimeUtc": "2022-10-05 03:30Z",
          "scheduledTime": {
           "local": "2022-10-05 05:40+02:00",
           "utc": "2022-10-05 03:40Z"
          },
          "scheduledTimeLocal": "2022-10-05 05:40+02:00",
          "scheduledTimeUtc": "2022-10-05 03:40Z",
          "terminal": "3"
         },
         "callSign": "KLM588",
         "codeshareStatus": "IsOperator",
         "departure": {
          "airport": {
           "iata": "LOS",
           "icao": "DNMM",
           "name": "Lagos"
          },
          "quality": [
           "Basic"
          ],
          "scheduledTime": {
           "local": "2022-10-04 22:05+01:00",
           "utc": "2022-10-04 21:05Z"
          },
          "scheduledTimeLocal": "2022-10-04 22:05+01:00",
          "scheduledTimeUtc": "2022-10-04 21:05Z",
          "terminal": "I"
         },
         "isCargo": false,
         "number": "KL 588",
         "status": "Arrived"
        },
        {
         "aircraft": {
          "modeS": "A4EE82",
          "model": "Airbus A330-900 NEO",
          "reg": "N417DX"
         },
         "airline": {
          "name": "Delta Air Lines"
         },
         "arrival": {
          "actualTimeLocal": "2022-10-05 05:12+02:00",
          "actualTimeUtc": "2022-10-05 03:12Z",
          "baggageBelt": "15",
          "quality": [
           "Basic",
           "Live"
          ],
          "revisedTime": {
           "local": "2022-10-05 05:12+02:00",
           "utc": "2022-10-05 03:12Z"
          },
          "runwayTime": {
           "local": "2022-10-05 05:12+02:00",
           "utc": "2022-10-05 03:12Z"
          },
          "runwayTimeLocal": "2022-10-05 05:12+02:00",
          "runwayTimeUtc": "2022-10-05 03:12Z",
          "scheduledTime": {
           "local": "2022-10-05 05:50+02:00",
           "utc": "2022-10-05 03:50Z"
          },
          "scheduledTimeLocal": "2022-10-05 05:50+02:00",
          "scheduledTimeUtc": "2022-10-05 03:50Z",
          "terminal": "3"
         },
         "callSign": "DAL256",
         "codeshareStatus": "IsOperator",
         "departure": {
          "actualTimeLocal": "2022-10-04 17:13-04:00",
          "actualTimeUtc": "2022-10-04 21:13Z",
          "airport": {
           "iata": "BOS",
           "icao": "KBOS",
           "name": "Boston"
          },
          "quality": [
           "Basic",
           "Live"
          ],
          "revisedTime": {
           "local": "2022-10-04 17:13-04:00",
           "utc": "2022-10-04 21:13Z"
          },
          "runwayTime": {
           "local": "2022-10-04 17:13-04:00",
           "utc": "2022-10-04 21:13Z"
          },
          "runwayTimeLocal": "2022-10-04 17:13-04:00",
          "runwayTimeUtc": "2022-10-04 21:13Z",
          "scheduledTime": {
           "local": "2022-10-04 16:55-04:00",
           "utc": "2022-10-04 20:55Z"
          },
          "scheduledTimeLocal": "2022-10-04 16:55-04:00",
          "scheduledTimeUtc": "2022-10-04 20:55Z",
          "terminal": "E"
         },
         "isCargo": false,
         "number": "DL 256",
         "status": "Arrived"
        },
        {
         "aircraft": {
          "modeS": "485339",
          "model": "Boeing 737-800 (winglets)",
          "reg": "PH-CDH"
         },
         "airline": {
          "name": "Corendon Dutch"
         },
         "arrival": {
          "actualTimeLocal": "2022-10-05 01:51+02:00",
          "actualTimeUtc": "2022-10-04 23:51Z",
          "baggageBelt": "17",
          "quality": [
           "Basic",
           "Live"
          ],
          "revisedTime": {
           "local": "2022-10-05 01:51+02:00",
           "utc": "2022-10-04 23:51Z"
          },
          "runwayTime": {
           "local": "2022-10-05 01:51+02:00",
           "utc": "2022-10-04 23:51Z"
          },
          "runwayTimeLocal": "2022-10-05 01:51+02:00",
          "runwayTimeUtc": "2022-10-04 23:51Z",
          "scheduledTime": {
           "local": "2022-10-05 02:10+02:00",
           "utc": "2022-10-05 00:10Z"
          },
          "scheduledTimeLocal": "2022-10-05 02:10+02:00",
          "scheduledTimeUtc": "2022-10-05 00:10Z",
          "terminal": "3"
         },
         "callSign": "CND220",
         "codeshareStatus": "IsOperator",
         "departure": {
          "airport": {
           "iata": "HRG",
           "icao": "HEGN",
           "name": "Hurghada"
          },
          "quality": [
           "Basic"
          ],
          "scheduledTime": {
           "local": "2022-10-04 22:10+02:00",
           "utc": "2022-10-04 20:10Z"
          },
          "scheduledTimeLocal": "2022-10-04 22:10+02:00",
          "scheduledTimeUtc": "2022-10-04 20:10Z"
         },
         "isCargo": false,
         "number": "CD 220",
         "status": "Arrived"
        },
        {
         "aircraft": {
          "modeS": "485788",
          "model": "Boeing 787-9",
          "reg": "PH-BHP"
         },
         "airline": {
          "name": "KLM"
         },
         "arrival": {
          "actualTimeLocal": "2022-10-05 06:05+02:00",
          "actualTimeUtc": "2022-10-05 04:05Z",
          "baggageBelt": "17",
          "quality": [
           "Basic",
           "Live"
          ],
          "revisedTime": {
           "local": "2022-10-05 06:05+02:00",
           "utc": "2022-10-05 04:05Z"
          },
          "runwayTime": {
           "local": "2022-10-05 06:05+02:00",
           "utc": "2022-10-05 04:05Z"
          },
          "runwayTimeLocal": "2022-10-05 06:05+02:00",
          "runwayTimeUtc": "2022-10-05 04:05Z",
          "scheduledTime": {
           "local": "2022-10-05 06:15+02:00",
           "utc": "2022-10-05 04:15Z"
          },
          "scheduledTimeLocal": "2022-10-05 06:15+02:00",
          "scheduledTimeUtc": "2022-10-05 04:15Z",
          "terminal": "3"
         },
         "callSign": "KLM868",
         "codeshareStatus": "IsOperator",
         "departure": {
          "airport": {
           "iata": "ICN",
           "icao": "RKSI",
           "name": "Seoul"
          },
          "quality": [
           "Basic"
          ],
          "scheduledTime": {
           "local": "2022-10-04 23:40+09:00",
           "utc": "2022-10-04 14:40Z"
          },
          "scheduledTimeLocal": "2022-10-04 23:40+09:00",
          "scheduledTimeUtc": "2022-10-04 14:40Z",
          "terminal": "2"
         },
         "isCargo": false,
         "number": "KL 868",
         "status": "Arrived"
        },
        {
         "aircraft": {
          "modeS": "48436F",
          "model": "Boeing 777-200",
          "reg": "PH-BQH"
         },
         "airline": {
          "name": "KLM"
         },
         "arrival": {
          "actualTimeLocal": "2022-10-05 05:43+02:00",
          "actualTimeUtc": "2022-10-05 03:43Z",
          "baggageBelt": "22",
          "quality": [
           "Basic",
           "Live"
          ],
          "revisedTime": {
           "local": "2022-10-05 05:43+02:00",
           "utc": "2022-10-05 03:43Z"
          },
          "runwayTime": {
           "local": "2022-10-05 05:43+02:00",
           "utc": "2022-10-05 03:43Z"
          },
          "runwayTimeLocal": "2022-10-05 05:43+02:00",
          "runwayTimeUtc": "2022-10-05 03:43Z",
          "scheduledTime": {
           "local": "2022-10-05 05:55+02:00",
           "utc": "2022-10-05 03:55Z"
          },
          "scheduledTimeLocal": "2022-10-05 05:55+02:00",
          "scheduledTimeUtc": "2022-10-05 03:55Z",
          "terminal": "4"
         },
         "callSign": "KLM428",
         "codeshareStatus": "IsOperator",
         "departure": {
          "actualTimeLocal": "2022-10-05 01:12+04:00",
          "actualTimeUtc": "2022-10-04 21:12Z",
          "airport": {
           "iata": "DXB",
           "icao": "OMDB",
           "name": "Dubai City"
          },
          "gate": "D2",
          "quality": [
           "Basic",
           "Live"
          ],
          "revisedTime": {
           "local": "2022-10-05 01:12+04:00",
           "utc": "2022-10-04 21:12Z"
          },
          "scheduledTime": {
           "local": "2022-10-05 00:55+04:00",
           "utc": "2022-10-04 20:55Z"
          },
          "scheduledTimeLocal": "2022-10-05 00:55+04:00",
          "scheduledTimeUtc": "2022-10-04 20:55Z",
          "terminal": "1"
         },
         "isCargo": false,
         "number": "KL 428",
         "status": "Arrived"
        },
        {
         "aircraft": {
          "modeS": "A641B6",
          "model": "Airbus A350-900",
          "reg": "N502DN"
         },
         "airline": {
          "name": "Delta Air Lines"
         },
         "arrival": {
          "actualTimeLocal": "2022-10-05 05:49+02:00",
          "actualTimeUtc": "2022-10-05 03:49Z",
          "baggageBelt": "16",
          "quality": [
           "Basic",
           "Live"
          ],
          "revisedTime": {
           "local": "2022-10-05 05:49+02:00",
           "utc": "2022-10-05 03:49Z"
          },
          "runwayTime": {
           "local": "2022-10-05 05:49+02:00",
           "utc": "2022-10-05 03:49Z"
          },
          "runwayTimeLocal": "2022-10-05 05:49+02:00",
          "runwayTimeUtc": "2022-10-05 03:49Z",
          "scheduledTime": {
           "local": "2022-10-05 05:55+02:00",
           "utc": "2022-10-05 03:55Z"
          },
          "scheduledTimeLocal": "2022-10-05 05:55+02:00",
          "scheduledTimeUtc": "2022-10-05 03:55Z",
          "terminal": "3"
         },
         "callSign": "DAL70",
         "codeshareStatus": "IsOperator",
         "departure": {
          "actualTimeLocal": "2022-10-04 16:24-04:00",
          "actualTimeUtc": "2022-10-04 20:24Z",
          "airport": {
           "iata": "ATL",
           "icao": "KATL",
           "name": "Atlanta"
          },
          "quality": [
           "Basic",
           "Live"
          ],
          "revisedTime": {
           "local": "2022-10-04 16:24-04:00",
           "utc": "2022-10-04 20:24Z"
          },
          "runwayTime": {
           "local": "2022-10-04 16:24-04:00",
           "utc": "2022-10-04 20:24Z"
          },
          "runwayTimeLocal": "2022-10-04 16:24-04:00",
          "runwayTimeUtc": "2022-10-04 20:24Z",
          "scheduledTime": {
           "local": "2022-10-04 15:40-04:00",
           "utc": "2022-10-04 19:40Z"
          },
          "scheduledTimeLocal": "2022-10-04 15:40-04:00",
          "scheduledTimeUtc": "2022-10-04 19:40Z",
          "terminal": "I"
         },
         "isCargo": false,
         "number": "DL 70",
         "status": "Arrived"
        },
        {
         "aircraft": {
          "model": "Airbus A320"
         },
         "airline": {
          "name": "TUIfly Netherlands"
         },
         "arrival": {
          "quality": [
           "Basic"
          ],
          "scheduledTime": {
           "local": "2022-10-05 01:10+02:00",
           "utc": "2022-10-04 23:10Z"
          },
          "scheduledTimeLocal": "2022-10-05 01:10+02:00",
          "scheduledTimeUtc": "2022-10-04 23:10Z"
         },
         "codeshareStatus": "Unknown",
         "departure": {
          "airport": {
           "name": "Rodos"
          },
          "quality": []
         },
         "isCargo": false,
         "number": "OR 1204",
         "status": "Unknown"
        },
        {
         "aircraft": {
          "modeS": "4850F5",
          "model": "Boeing 777-300ER",
          "reg": "PH-BVO"
         },
         "airline": {
          "name": "KLM"
         },
         "arrival": {
          "actualTimeLocal": "2022-10-05 05:51+02:00",
          "actualTimeUtc": "2022-10-05 03:51Z",
          "baggageBelt": "22",
          "quality": [
           "Basic",
           "Live"
          ],
          "revisedTime": {
           "local": "2022-10-05 05:51+02:00",
           "utc": "2022-10-05 03:51Z"
          },
          "runwayTime": {
           "local": "2022-10-05 05:51+02:00",
           "utc": "2022-10-05 03:51Z"
          },
          "runwayTimeLocal": "2022-10-05 05:51+02:00",
          "runwayTimeUtc": "2022-10-05 03:51Z",
          "scheduledTime": {
           "local": "2022-10-05 06:20+02:00",
           "utc": "2022-10-05 04:20Z"
          },
          "scheduledTimeLocal": "2022-10-05 06:20+02:00",
          "scheduledTimeUtc": "2022-10-05 04:20Z",
          "terminal": "4"
         },
         "callSign": "KLM714",
         "codeshareStatus": "IsOperator",
         "departure": {
          "airport": {
           "iata": "PBM",
           "icao": "SMJP",
           "name": "Zandery"
          },
          "quality": [
           "Basic"
          ],
          "scheduledTime": {
           "local": "2022-10-04 16:30-03:00",
           "utc": "2022-10-04 19:30Z"
          },
          "scheduledTimeLocal": "2022-10-04 16:30-03:00",
          "scheduledTimeUtc": "2022-10-04 19:30Z"
         },
         "isCargo": false,
         "number": "KL 714",
         "status": "Arrived"
        },
        {
         "aircraft": {
          "model": "Boeing 777-200"
         },
         "airline": {
          "name": "KLM"
         },
         "arrival": {
          "actualTimeLocal": "2022-10-05 06:09+02:00",
          "actualTimeUtc": "2022-10-05 04:09Z",
          "baggageBelt": "10",
          "quality": [
           "Basic",
           "Live"
          ],
          "revisedTime": {
           "local": "2022-10-05 06:09+02:00",
           "utc": "2022-10-05 04:09Z"
          },
          "runwayTime": {
           "local": "2022-10-05 06:09+02:00",
           "utc": "2022-10-05 04:09Z"
          },
          "runwayTimeLocal": "2022-10-05 06:09+02:00",
          "runwayTimeUtc": "2022-10-05 04:09Z",
          "scheduledTime": {
           "local": "2022-10-05 06:05+02:00",
           "utc": "2022-10-05 04:05Z"
          },
          "scheduledTimeLocal": "2022-10-05 06:05+02:00",
          "scheduledTimeUtc": "2022-10-05 04:05Z",
          "terminal": "2"
         },
         "codeshareStatus": "IsOperator",
         "departure": {
          "actualTimeLocal": "2022-10-04 17:14-04:00",
          "actualTimeUtc": "2022-10-04 21:14Z",
          "airport": {
           "iata": "YYZ",
           "icao": "CYYZ",
           "name": "Toronto"
          },
          "gate": "C30",
          "quality": [
           "Basic",
           "Live"
          ],
          "revisedTime": {
           "local": "2022-10-04 17:14-04:00",
           "utc": "2022-10-04 21:14Z"
          },
          "scheduledTime": {
           "local": "2022-10-04 17:00-04:00",
           "utc": "2022-10-04 21:00Z"
          },
          "scheduledTimeLocal": "2022-10-04 17:00-04:00",
          "scheduledTimeUtc": "2022-10-04 21:00Z",
          "terminal": "3"
         },
         "isCargo": false,
         "number": "KL 692",
         "status": "Arrived"
        },
        {
         "aircraft": {
          "model": "Boeing 737-800"
         },
         "airline": {
          "name": "Transavia"
         },
         "arrival": {
          "baggageBelt": "4",
          "quality": [
           "Basic"
          ],
          "runwayTime": {
           "local": "2022-10-05 01:29+02:00",
           "utc": "2022-10-04 23:29Z"
          },
          "runwayTimeLocal": "2022-10-05 01:29+02:00",
          "runwayTimeUtc": "2022-10-04 23:29Z",
          "scheduledTime": {
           "local": "2022-10-05 01:30+02:00",
           "utc": "2022-10-04 23:30Z"
          },
          "scheduledTimeLocal": "2022-10-05 01:30+02:00",
          "scheduledTimeUtc": "2022-10-04 23:30Z",
          "terminal": "1"
         },
         "codeshareStatus": "IsOperator",
         "departure": {
          "airport": {
           "iata": "IBZ",
           "icao": "LEIB",
           "name": "Ibiza Town"
          },
          "quality": [
           "Basic"
          ],
          "scheduledTime": {
           "local": "2022-10-04 22:50+02:00",
           "utc": "2022-10-04 20:50Z"
          },
          "scheduledTimeLocal": "2022-10-04 22:50+02:00",
          "scheduledTimeUtc": "2022-10-04 20:50Z"
         },
         "isCargo": false,
         "number": "HV 5672",
         "status": "Arrived"
        },
        {
         "aircraft": {
          "model": "Boeing 737-400 Freigther"
         },
         "airline": {
          "name": "EAT Leipzig"
         },
         "arrival": {
          "actualTimeLocal": "2022-10-05 06:45+02:00",
          "actualTimeUtc": "2022-10-05 04:45Z",
          "quality": [
           "Basic",
           "Live"
          ],
          "revisedTime": {
           "local": "2022-10-05 06:45+02:00",
           "utc": "2022-10-05 04:45Z"
          },
          "runwayTime": {
           "local": "2022-10-05 06:45+02:00",
           "utc": "2022-10-05 04:45Z"
          },
          "runwayTimeLocal": "2022-10-05 06:45+02:00",
          "runwayTimeUtc": "2022-10-05 04:45Z",
          "scheduledTime": {
           "local": "2022-10-05 06:55+02:00",
           "utc": "2022-10-05 04:55Z"
          },
          "scheduledTimeLocal": "2022-10-05 06:55+02:00",
          "scheduledTimeUtc": "2022-10-05 04:55Z"
         },
         "codeshareStatus": "IsOperator",
         "departure": {
          "airport": {
           "iata": "CDG",
           "icao": "LFPG",
           "name": "Paris"
          },
          "quality": []
         },
         "isCargo": false,
         "number": "QY 747P",
         "status": "Arrived"
        },
        {
         "aircraft": {
          "modeS": "4850E6",
          "model": "Airbus A330-300",
          "reg": "PH-AKF"
         },
         "airline": {
          "name": "KLM"
         },
         "arrival": {
          "actualTimeLocal": "2022-10-05 06:42+02:00",
          "actualTimeUtc": "2022-10-05 04:42Z",
          "baggageBelt": "12",
          "quality": [
           "Basic",
           "Live"
          ],
          "revisedTime": {
           "local": "2022-10-05 06:42+02:00",
           "utc": "2022-10-05 04:42Z"
          },
          "runwayTime": {
           "local": "2022-10-05 06:42+02:00",
           "utc": "2022-10-05 04:42Z"
          },
          "runwayTimeLocal": "2022-10-05 06:42+02:00",
          "runwayTimeUtc": "2022-10-05 04:42Z",
          "scheduledTime": {
           "local": "2022-10-05 06:55+02:00",
           "utc": "2022-10-05 04:55Z"
          },
          "scheduledTimeLocal": "2022-10-05 06:55+02:00",
          "scheduledTimeUtc": "2022-10-05 04:55Z",
          "terminal": "2"
         },
         "callSign": "KLM539",
         "codeshareStatus": "IsOperator",
         "departure": {
          "airport": {
           "iata": "EBB",
           "icao": "HUEN",
           "name": "Kampala"
          },
          "quality": [
           "Basic"
          ],
          "scheduledTime": {
           "local": "2022-10-04 23:30+03:00",
           "utc": "2022-10-04 20:30Z"
          },
          "scheduledTimeLocal": "2022-10-04 23:30+03:00",
          "scheduledTimeUtc": "2022-10-04 20:30Z"
         },
         "isCargo": false,
         "number": "KL 539",
         "status": "Arrived"
        },
        {
         "aircraft": {
          "modeS": "485B42",
          "model": "Boeing 787-10",
          "reg": "PH-BKA"
         },
         "airline": {
          "name": "KLM"
         },
         "arrival": {
          "actualTimeLocal": "2022-10-05 06:36+02:00",
          "actualTimeUtc": "2022-10-05 04:36Z",
          "baggageBelt": "16",
          "quality": [
           "Basic",
           "Live"
          ],
          "revisedTime": {
           "local": "2022-10-05 06:36+02:00",
           "utc": "2022-10-05 04:36Z"
          },
          "runwayTime": {
           "local": "2022-10-05 06:36+02:00",
           "utc": "2022-10-05 04:36Z"
          },
          "runwayTimeLocal": "2022-10-05 06:36+02:00",
          "runwayTimeUtc": "2022-10-05 04:36Z",
          "scheduledTime": {
           "local": "2022-10-05 06:50+02:00",
           "utc": "2022-10-05 04:50Z"
          },
          "scheduledTimeLocal": "2022-10-05 06:50+02:00",
          "scheduledTimeUtc": "2022-10-05 04:50Z",
          "terminal": "3"
         },
         "callSign": "KLM48",
         "codeshareStatus": "IsOperator",
         "departure": {
          "airport": {
           "iata": "ORD",
           "icao": "KORD",
           "name": "Chicago"
          },
          "quality": [
           "Basic"
          ],
          "runwayTime": {
           "local": "2022-10-04 16:47-05:00",
           "utc": "2022-10-04 21:47Z"
          },
          "runwayTimeLocal": "2022-10-04 16:47-05:00",
          "runwayTimeUtc": "2022-10-04 21:47Z",
          "scheduledTime": {
           "local": "2022-10-04 16:05-05:00",
           "utc": "2022-10-04 21:05Z"
          },
          "scheduledTimeLocal": "2022-10-04 16:05-05:00",
          "scheduledTimeUtc": "2022-10-04 21:05Z",
          "terminal": "5"
         },
         "isCargo": false,
         "number": "KL 612",
         "status": "Arrived"
        },
        {
         "aircraft": {
          "model": "Embraer 190"
         },
         "airline": {
          "name": "KLM"
         },
         "arrival": {
          "actualTimeLocal": "2022-10-05 06:40+02:00",
          "actualTimeUtc": "2022-10-05 04:40Z",
          "baggageBelt": "8",
          "quality": [
           "Basic",
           "Live"
          ],
          "revisedTime": {
           "local": "2022-10-05 06:40+02:00",
           "utc": "2022-10-05 04:40Z"
          },
          "runwayTime": {
           "local": "2022-10-05 06:40+02:00",
           "utc": "2022-10-05 04:40Z"
          },
          "runwayTimeLocal": "2022-10-05 06:40+02:00",
          "runwayTimeUtc": "2022-10-05 04:40Z",
          "scheduledTime": {
           "local": "2022-10-05 07:05+02:00",
           "utc": "2022-10-05 05:05Z"
          },
          "scheduledTimeLocal": "2022-10-05 07:05+02:00",
          "scheduledTimeUtc": "2022-10-05 05:05Z",
          "terminal": "2"
         },
         "codeshareStatus": "IsOperator",
         "departure": {
          "airport": {
           "iata": "BRU",
           "icao": "EBBR",
           "name": "Brussels"
          },
          "checkInDesk": "07",
          "quality": [
           "Basic"
          ],
          "scheduledTime": {
           "local": "2022-10-05 06:10+02:00",
           "utc": "2022-10-05 04:10Z"
          },
          "scheduledTimeLocal": "2022-10-05 06:10+02:00",
          "scheduledTimeUtc": "2022-10-05 04:10Z"
         },
         "isCargo": false,
         "number": "KL 1720",
         "status": "Arrived"
        },
        {
         "aircraft": {
          "model": "Embraer 175"
         },
         "airline": {
          "name": "KLM"
         },
         "arrival": {
          "actualTimeLocal": "2022-10-05 06:47+02:00",
          "actualTimeUtc": "2022-10-05 04:47Z",
          "baggageBelt": "10",
          "quality": [
           "Basic",
           "Live"
          ],
          "revisedTime": {
           "local": "2022-10-05 06:47+02:00",
           "utc": "2022-10-05 04:47Z"
          },
          "runwayTime": {
           "local": "2022-10-05 06:47+02:00",
           "utc": "2022-10-05 04:47Z"
          },
          "runwayTimeLocal": "2022-10-05 06:47+02:00",
          "runwayTimeUtc": "2022-10-05 04:47Z",
          "scheduledTime": {
           "local": "2022-10-05 07:00+02:00",
           "utc": "2022-10-05 05:00Z"
          },
          "scheduledTimeLocal": "2022-10-05 07:00+02:00",
          "scheduledTimeUtc": "2022-10-05 05:00Z",
          "terminal": "2"
         },
         "codeshareStatus": "IsOperator",
         "departure": {
          "airport": {
           "iata": "HAJ",
           "icao": "EDDV",
           "name": "Hanover"
          },
          "quality": [
           "Basic"
          ],
          "scheduledTime": {
           "local": "2022-10-05 06:00+02:00",
           "utc": "2022-10-05 04:00Z"
          },
          "scheduledTimeLocal": "2022-10-05 06:00+02:00",
          "scheduledTimeUtc": "2022-10-05 04:00Z"
         },
         "isCargo": false,
         "number": "KL 1900",
         "status": "Arrived"
        },
        {
         "aircraft": {
          "model": "Boeing 737-800 (winglets)"
         },
         "airline": {
          "name": "KLM"
         },
         "arrival": {
          "actualTimeLocal": "2022-10-05 06:57+02:00",
          "actualTimeUtc": "2022-10-05 04:57Z",
          "baggageBelt": "9",
          "quality": [
           "Basic",
           "Live"
          ],
          "revisedTime": {
           "local": "2022-10-05 06:57+02:00",
           "utc": "2022-10-05 04:57Z"
          },
          "runwayTime": {
           "local": "2022-10-05 06:57+02:00",
           "utc": "2022-10-05 04:57Z"
          },
          "runwayTimeLocal": "2022-10-05 06:57+02:00",
          "runwayTimeUtc": "2022-10-05 04:57Z",
          "scheduledTime": {
           "local": "2022-10-05 07:10+02:00",
           "utc": "2022-10-05 05:10Z"
          },
          "scheduledTimeLocal": "2022-10-05 07:10+02:00",
          "scheduledTimeUtc": "2022-10-05 05:10Z",
          "terminal": "2"
         },
         "codeshareStatus": "IsOperator",
         "departure": {
          "airport": {
           "iata": "BLL",
           "icao": "EKBI",
           "name": "Billund"
          },
          "quality": [
           "Basic"
          ],
          "scheduledTime": {
           "local": "2022-10-05 06:00+02:00",
           "utc": "2022-10-05 04:00Z"
          },
          "scheduledTimeLocal": "2022-10-05 06:00+02:00",
          "scheduledTimeUtc": "2022-10-05 04:00Z"
         },
         "isCargo": false,
         "number": "KL 1340",
         "status": "Arrived"
        },
        {
         "aircraft": {
          "model": "Embraer 175"
         },
         "airline": {
          "name": "KLM"
         },
         "arrival": {
          "actualTimeLocal": "2022-10-05 06:59+02:00",
          "actualTimeUtc": "2022-10-05 04:59Z",
          "baggageBelt": "11",
          "quality": [
           "Basic",
           "Live"
          ],
          "revisedTime": {
           "local": "2022-10-05 06:59+02:00",
           "utc": "2022-10-05 04:59Z"
          },
          "runwayTime": {
           "local": "2022-10-05 06:59+02:00",
           "utc": "2022-10-05 04:59Z"
          },
          "runwayTimeLocal": "2022-10-05 06:59+02:00",
          "runwayTimeUtc": "2022-10-05 04:59Z",
          "scheduledTime": {
           "local": "2022-10-05 07:15+02:00",
           "utc": "2022-10-05 05:15Z"
          },
          "scheduledTimeLocal": "2022-10-05 07:15+02:00",
          "scheduledTimeUtc": "2022-10-05 05:15Z",
          "terminal": "2"
         },
         "codeshareStatus": "IsOperator",
         "departure": {
          "airport": {
           "iata": "BRE",
           "icao": "EDDW",
           "name": "Bremen"
          },
          "quality": [
           "Basic"
          ],
          "scheduledTime": {
           "local": "2022-10-05 06:20+02:00",
           "utc": "2022-10-05 04:20Z"
          },
          "scheduledTimeLocal": "2022-10-05 06:20+02:00",
          "scheduledTimeUtc": "2022-10-05 04:20Z"
         },
         "isCargo": false,
         "number": "KL 1750",
         "status": "Arrived"
        },
        {
         "aircraft": {
          "modeS": "4851B3",
          "model": "Boeing 777-300ER",
          "reg": "PH-BVP"
         },
         "airline": {
          "name": "KLM"
         },
         "arrival": {
          "actualTimeLocal": "2022-10-05 07:12+02:00",
          "actualTimeUtc": "2022-10-05 05:12Z",
          "baggageBelt": "18",
          "quality": [
           "Basic",
           "Live"
          ],
          "revisedTime": {
           "local": "2022-10-05 07:12+02:00",
           "utc": "2022-10-05 05:12Z"
          },
          "runwayTime": {
           "local": "2022-10-05 07:12+02:00",
           "utc": "2022-10-05 05:12Z"
          },
          "runwayTimeLocal": "2022-10-05 07:12+02:00",
          "runwayTimeUtc": "2022-10-05 05:12Z",
          "scheduledTime": {
           "local": "2022-10-05 06:45+02:00",
           "utc": "2022-10-05 04:45Z"
          },
          "scheduledTimeLocal": "2022-10-05 06:45+02:00",
          "scheduledTimeUtc": "2022-10-05 04:45Z",
          "terminal": "3"
         },
         "callSign": "KLM590",
         "codeshareStatus": "IsOperator",
         "departure": {
          "airport": {
           "iata": "ACC",
           "icao": "DGAA",
           "name": "Accra"
          },
          "quality": [
           "Basic"
          ],
          "scheduledTime": {
           "local": "2022-10-04 22:10+00:00",
           "utc": "2022-10-04 22:10Z"
          },
          "scheduledTimeLocal": "2022-10-04 22:10+00:00",
          "scheduledTimeUtc": "2022-10-04 22:10Z",
          "terminal": "3"
         },
         "isCargo": false,
         "number": "KL 590",
         "status": "Arrived"
        },
        {
         "aircraft": {
          "modeS": "4D2338",
          "model": "Airbus A320",
          "reg": "9H-AMI"
         },
         "airline": {
          "name": "Eurowings"
         },
         "arrival": {
          "actualTimeLocal": "2022-10-05 07:12+02:00",
          "actualTimeUtc": "2022-10-05 05:12Z",
          "baggageBelt": "17",
          "quality": [
           "Basic",
           "Live"
          ],
          "revisedTime": {
           "local": "2022-10-05 07:12+02:00",
           "utc": "2022-10-05 05:12Z"
          },
          "runwayTime": {
           "local": "2022-10-05 07:12+02:00",
           "utc": "2022-10-05 05:12Z"
          },
          "runwayTimeLocal": "2022-10-05 07:12+02:00",
          "runwayTimeUtc": "2022-10-05 05:12Z",
          "scheduledTime": {
           "local": "2022-10-05 07:45+02:00",
           "utc": "2022-10-05 05:45Z"
          },
          "scheduledTimeLocal": "2022-10-05 07:45+02:00",
          "scheduledTimeUtc": "2022-10-05 05:45Z",
          "terminal": "3"
         },
         "callSign": "EWG7180",
         "codeshareStatus": "IsOperator",
         "departure": {
          "actualTimeLocal": "2022-10-05 06:22+02:00",
          "actualTimeUtc": "2022-10-05 04:22Z",
          "airport": {
           "iata": "HAM",
           "icao": "EDDH",
           "name": "Hamburg"
          },
          "gate": "C10",
          "quality": [
           "Basic",
           "Live"
          ],
          "revisedTime": {
           "local": "2022-10-05 06:22+02:00",
           "utc": "2022-10-05 04:22Z"
          },
          "scheduledTime": {
           "local": "2022-10-05 06:30+02:00",
           "utc": "2022-10-05 04:30Z"
          },
          "scheduledTimeLocal": "2022-10-05 06:30+02:00",
          "scheduledTimeUtc": "2022-10-05 04:30Z",
          "terminal": "1"
         },
         "isCargo": false,
         "number": "EW 7180",
         "status": "Arrived"
        },
        {
         "aircraft": {
          "model": "Embraer 195-E2"
         },
         "airline": {
          "name": "KLM"
         },
         "arrival": {
          "actualTimeLocal": "2022-10-05 07:13+02:00",
          "actualTimeUtc": "2022-10-05 05:13Z",
          "baggageBelt": "9",
          "quality": [
           "Basic",
           "Live"
          ],
          "revisedTime": {
           "local": "2022-10-05 07:13+02:00",
           "utc": "2022-10-05 05:13Z"
          },
          "runwayTime": {
           "local": "2022-10-05 07:13+02:00",
           "utc": "2022-10-05 05:13Z"
          },
          "runwayTimeLocal": "2022-10-05 07:13+02:00",
          "runwayTimeUtc": "2022-10-05 05:13Z",
          "scheduledTime": {
           "local": "2022-10-05 07:15+02:00",
           "utc": "2022-10-05 05:15Z"
          },
          "scheduledTimeLocal": "2022-10-05 07:15+02:00",
          "scheduledTimeUtc": "2022-10-05 05:15Z",
          "terminal": "2"
         },
         "codeshareStatus": "IsOperator",
         "departure": {
          "actualTimeLocal": "2022-10-05 06:21+02:00",
          "actualTimeUtc": "2022-10-05 04:21Z",
          "airport": {
           "iata": "HAM",
           "icao": "EDDH",
           "name": "Hamburg"
          },
          "gate": "C08",
          "quality": [
           "Basic",
           "Live"
          ],
          "revisedTime": {
           "local": "2022-10-05 06:21+02:00",
           "utc": "2022-10-05 04:21Z"
          },
          "scheduledTime": {
           "local": "2022-10-05 06:10+02:00",
           "utc": "2022-10-05 04:10Z"
          },
          "scheduledTimeLocal": "2022-10-05 06:10+02:00",
          "scheduledTimeUtc": "2022-10-05 04:10Z",
          "terminal": "1"
         },
         "isCargo": false,
         "number": "KL 1776",
         "status": "Arrived"
        },
        {
         "aircraft": {
          "model": "Embraer 175"
         },
         "airline": {
          "name": "KLM"
         },
         "arrival": {
          "actualTimeLocal": "2022-10-05 07:04+02:00",
          "actualTimeUtc": "2022-10-05 05:04Z",
          "baggageBelt": "9",
          "quality": [
           "Basic",
           "Live"
          ],
          "revisedTime": {
           "local": "2022-10-05 07:04+02:00",
           "utc": "2022-10-05 05:04Z"
          },
          "runwayTime": {
           "local": "2022-10-05 07:04+02:00",
           "utc": "2022-10-05 05:04Z"
          },
          "runwayTimeLocal": "2022-10-05 07:04+02:00",
          "runwayTimeUtc": "2022-10-05 05:04Z",
          "scheduledTime": {
           "local": "2022-10-05 07:20+02:00",
           "utc": "2022-10-05 05:20Z"
          },
          "scheduledTimeLocal": "2022-10-05 07:20+02:00",
          "scheduledTimeUtc": "2022-10-05 05:20Z",
          "terminal": "2"
         },
         "codeshareStatus": "IsOperator",
         "departure": {
          "airport": {
           "iata": "NUE",
           "icao": "EDDN",
           "name": "Nuremberg"
          },
          "quality": [
           "Basic"
          ],
          "scheduledTime": {
           "local": "2022-10-05 06:00+02:00",
           "utc": "2022-10-05 04:00Z"
          },
          "scheduledTimeLocal": "2022-10-05 06:00+02:00",
          "scheduledTimeUtc": "2022-10-05 04:00Z"
         },
         "isCargo": false,
         "number": "KL 1880",
         "status": "Arrived"
        },
        {
         "aircraft": {
          "modeS": "485B43",
          "model": "Boeing 787-10",
          "reg": "PH-BKC"
         },
         "airline": {
          "name": "KLM"
         },
         "arrival": {
          "actualTimeLocal": "2022-10-05 06:48+02:00",
          "actualTimeUtc": "2022-10-05 04:48Z",
          "baggageBelt": "11",
          "quality": [
           "Basic",
           "Live"
          ],
          "revisedTime": {
           "local": "2022-10-05 06:48+02:00",
           "utc": "2022-10-05 04:48Z"
          },
          "runwayTime": {
           "local": "2022-10-05 06:48+02:00",
           "utc": "2022-10-05 04:48Z"
          },
          "runwayTimeLocal": "2022-10-05 06:48+02:00",
          "runwayTimeUtc": "2022-10-05 04:48Z",
          "scheduledTime": {
           "local": "2022-10-05 07:15+02:00",
           "utc": "2022-10-05 05:15Z"
          },
          "scheduledTimeLocal": "2022-10-05 07:15+02:00",
          "scheduledTimeUtc": "2022-10-05 05:15Z",
          "terminal": "2"
         },
         "callSign": "KLM194",
         "codeshareStatus": "IsOperator",
         "departure": {
          "actualTimeLocal": "2022-10-04 15:13-05:00",
          "actualTimeUtc": "2022-10-04 20:13Z",
          "airport": {
           "iata": "IAH",
           "icao": "KIAH",
           "name": "Houston"
          },
          "quality": [
           "Basic",
           "Live"
          ],
          "revisedTime": {
           "local": "2022-10-04 15:13-05:00",
           "utc": "2022-10-04 20:13Z"
          },
          "runwayTime": {
           "local": "2022-10-04 15:13-05:00",
           "utc": "2022-10-04 20:13Z"
          },
          "runwayTimeLocal": "2022-10-04 15:13-05:00",
          "runwayTimeUtc": "2022-10-04 20:13Z",
          "scheduledTime": {
           "local": "2022-10-04 15:00-05:00",
           "utc": "2022-10-04 20:00Z"
          },
          "scheduledTimeLocal": "2022-10-04 15:00-05:00",
          "scheduledTimeUtc": "2022-10-04 20:00Z",
          "terminal": "D"
         },
         "isCargo": false,
         "number": "KL 662",
         "status": "Arrived"
        },
        {
         "aircraft": {
          "modeS": "3C1AEB",
          "model": "Embraer 190",
          "reg": "D-AZFA"
         },
         "airline": {
          "name": "KLM"
         },
         "arrival": {
          "actualTimeLocal": "2022-10-05 07:17+02:00",
          "actualTimeUtc": "2022-10-05 05:17Z",
          "baggageBelt": "11",
          "quality": [
           "Basic",
           "Live"
          ],
          "revisedTime": {
           "local": "2022-10-05 07:17+02:00",
           "utc": "2022-10-05 05:17Z"
          },
          "runwayTime": {
           "local": "2022-10-05 07:17+02:00",
           "utc": "2022-10-05 05:17Z"
          },
          "runwayTimeLocal": "2022-10-05 07:17+02:00",
          "runwayTimeUtc": "2022-10-05 05:17Z",
          "scheduledTime": {
           "local": "2022-10-05 07:15+02:00",
           "utc": "2022-10-05 05:15Z"
          },
          "scheduledTimeLocal": "2022-10-05 07:15+02:00",
          "scheduledTimeUtc": "2022-10-05 05:15Z",
          "terminal": "2"
         },
         "callSign": "KLM34Z",
         "codeshareStatus": "IsOperator",
         "departure": {
          "actualTimeLocal": "2022-10-05 06:33+02:00",
          "actualTimeUtc": "2022-10-05 04:33Z",
          "airport": {
           "iata": "DUS",
           "icao": "EDDL",
           "name": "Duesseldorf"
          },
          "checkInDesk": "192,194",
          "gate": "B54",
          "quality": [
           "Basic",
           "Live"
          ],
          "revisedTime": {
           "local": "2022-10-05 06:33+02:00",
           "utc": "2022-10-05 04:33Z"
          },
          "runwayTime": {
           "local": "2022-10-05 06:44+02:00",
           "utc": "2022-10-05 04:44Z"
          },
          "runwayTimeLocal": "2022-10-05 06:44+02:00",
          "runwayTimeUtc": "2022-10-05 04:44Z",
          "scheduledTime": {
           "local": "2022-10-05 06:20+02:00",
           "utc": "2022-10-05 04:20Z"
          },
          "scheduledTimeLocal": "2022-10-05 06:20+02:00",
          "scheduledTimeUtc": "2022-10-05 04:20Z",
          "terminal": "B"
         },
         "isCargo": false,
         "number": "KL 1852",
         "status": "Arrived"
        },
        {
         "aircraft": {
          "model": "Embraer 175"
         },
         "airline": {
          "name": "KLM"
         },
         "arrival": {
          "actualTimeLocal": "2022-10-05 07:17+02:00",
          "actualTimeUtc": "2022-10-05 05:17Z",
          "baggageBelt": "13",
          "quality": [
           "Basic",
           "Live"
          ],
          "revisedTime": {
           "local": "2022-10-05 07:17+02:00",
           "utc": "2022-10-05 05:17Z"
          },
          "runwayTime": {
           "local": "2022-10-05 07:17+02:00",
           "utc": "2022-10-05 05:17Z"
          },
          "runwayTimeLocal": "2022-10-05 07:17+02:00",
          "runwayTimeUtc": "2022-10-05 05:17Z",
          "scheduledTime": {
           "local": "2022-10-05 07:20+02:00",
           "utc": "2022-10-05 05:20Z"
          },
          "scheduledTimeLocal": "2022-10-05 07:20+02:00",
          "scheduledTimeUtc": "2022-10-05 05:20Z",
          "terminal": "2"
         },
         "codeshareStatus": "IsOperator",
         "departure": {
          "actualTimeLocal": "2022-10-05 06:15+02:00",
          "actualTimeUtc": "2022-10-05 04:15Z",
          "airport": {
           "iata": "LUX",
           "icao": "ELLX",
           "name": "Luxembourg"
          },
          "quality": [
           "Basic",
           "Live"
          ],
          "revisedTime": {
           "local": "2022-10-05 06:15+02:00",
           "utc": "2022-10-05 04:15Z"
          },
          "scheduledTime": {
           "local": "2022-10-05 06:15+02:00",
           "utc": "2022-10-05 04:15Z"
          },
          "scheduledTimeLocal": "2022-10-05 06:15+02:00",
          "scheduledTimeUtc": "2022-10-05 04:15Z"
         },
         "isCargo": false,
         "number": "KL 1736",
         "status": "Arrived"
        },
        {
         "aircraft": {
          "model": "Embraer 190"
         },
         "airline": {
          "name": "KLM"
         },
         "arrival": {
          "actualTimeLocal": "2022-10-05 07:15+02:00",
          "actualTimeUtc": "2022-10-05 05:15Z",
          "baggageBelt": "10",
          "quality": [
           "Basic",
           "Live"
          ],
          "revisedTime": {
           "local": "2022-10-05 07:15+02:00",
           "utc": "2022-10-05 05:15Z"
          },
          "runwayTime": {
           "local": "2022-10-05 07:15+02:00",
           "utc": "2022-10-05 05:15Z"
          },
          "runwayTimeLocal": "2022-10-05 07:15+02:00",
          "runwayTimeUtc": "2022-10-05 05:15Z",
          "scheduledTime": {
           "local": "2022-10-05 07:25+02:00",
           "utc": "2022-10-05 05:25Z"
          },
          "scheduledTimeLocal": "2022-10-05 07:25+02:00",
          "scheduledTimeUtc": "2022-10-05 05:25Z",
          "terminal": "2"
         },
         "codeshareStatus": "IsOperator",
         "departure": {
          "actualTimeLocal": "2022-10-05 06:00+02:00",
          "actualTimeUtc": "2022-10-05 04:00Z",
          "airport": {
           "iata": "STR",
           "icao": "EDDS",
           "name": "Stuttgart"
          },
          "gate": "310",
          "quality": [
           "Basic",
           "Live"
          ],
          "revisedTime": {
           "local": "2022-10-05 06:00+02:00",
           "utc": "2022-10-05 04:00Z"
          },
          "scheduledTime": {
           "local": "2022-10-05 06:00+02:00",
           "utc": "2022-10-05 04:00Z"
          },
          "scheduledTimeLocal": "2022-10-05 06:00+02:00",
          "scheduledTimeUtc": "2022-10-05 04:00Z",
          "terminal": "3"
         },
         "isCargo": false,
         "number": "KL 1866",
         "status": "Arrived"
        },
        {
         "aircraft": {
          "model": "Boeing 737-800 (winglets)"
         },
         "airline": {
          "name": "KLM"
         },
         "arrival": {
          "actualTimeLocal": "2022-10-05 07:20+02:00",
          "actualTimeUtc": "2022-10-05 05:20Z",
          "baggageBelt": "12",
          "quality": [
           "Basic",
           "Live"
          ],
          "revisedTime": {
           "local": "2022-10-05 07:20+02:00",
           "utc": "2022-10-05 05:20Z"
          },
          "runwayTime": {
           "local": "2022-10-05 07:20+02:00",
           "utc": "2022-10-05 05:20Z"
          },
          "runwayTimeLocal": "2022-10-05 07:20+02:00",
          "runwayTimeUtc": "2022-10-05 05:20Z",
          "scheduledTime": {
           "local": "2022-10-05 07:35+02:00",
           "utc": "2022-10-05 05:35Z"
          },
          "scheduledTimeLocal": "2022-10-05 07:35+02:00",
          "scheduledTimeUtc": "2022-10-05 05:35Z",
          "terminal": "2"
         },
         "codeshareStatus": "IsOperator",
         "departure": {
          "airport": {
           "iata": "BER",
           "icao": "EDDB",
           "name": "Berlin"
          },
          "quality": [
           "Basic"
          ],
          "scheduledTime": {
           "local": "2022-10-05 06:15+02:00",
           "utc": "2022-10-05 04:15Z"
          },
          "scheduledTimeLocal": "2022-10-05 06:15+02:00",
          "scheduledTimeUtc": "2022-10-05 04:15Z",
          "terminal": "1"
         },
         "isCargo": false,
         "number": "KL 1818",
         "status": "Arrived"
        },
        {
         "aircraft": {
          "modeS": "4BD14A",
          "model": "Boeing 737-800 (winglets)",
          "reg": "TC-TJJ"
         },
         "airline": {
          "name": "Corendon Air"
         },
         "arrival": {
          "actualTimeLocal": "2022-10-05 07:09+02:00",
          "actualTimeUtc": "2022-10-05 05:09Z",
          "baggageBelt": "17",
          "quality": [
           "Basic",
           "Live"
          ],
          "revisedTime": {
           "local": "2022-10-05 07:09+02:00",
           "utc": "2022-10-05 05:09Z"
          },
          "runwayTime": {
           "local": "2022-10-05 07:09+02:00",
           "utc": "2022-10-05 05:09Z"
          },
          "runwayTimeLocal": "2022-10-05 07:09+02:00",
          "runwayTimeUtc": "2022-10-05 05:09Z",
          "scheduledTime": {
           "local": "2022-10-05 07:30+02:00",
           "utc": "2022-10-05 05:30Z"
          },
          "scheduledTimeLocal": "2022-10-05 07:30+02:00",
          "scheduledTimeUtc": "2022-10-05 05:30Z",
          "terminal": "3"
         },
         "callSign": "CAI3583",
         "codeshareStatus": "IsOperator",
         "departure": {
          "actualTimeLocal": "2022-10-05 04:52+03:00",
          "actualTimeUtc": "2022-10-05 01:52Z",
          "airport": {
           "iata": "ADB",
           "icao": "LTBJ",
           "name": "İzmir"
          },
          "checkInDesk": "10",
          "gate": "26",
          "quality": [
           "Basic",
           "Live"
          ],
          "revisedTime": {
           "local": "2022-10-05 04:52+03:00",
           "utc": "2022-10-05 01:52Z"
          },
          "scheduledTime": {
           "local": "2022-10-05 04:45+03:00",
           "utc": "2022-10-05 01:45Z"
          },
          "scheduledTimeLocal": "2022-10-05 04:45+03:00",
          "scheduledTimeUtc": "2022-10-05 01:45Z",
          "terminal": "0"
         },
         "isCargo": false,
         "number": "XC 3583",
         "status": "Arrived"
        },
        {
         "aircraft": {
          "model": "Boeing 737-800 (winglets)"
         },
         "airline": {
          "name": "KLM"
         },
         "arrival": {
          "actualTimeLocal": "2022-10-05 07:18+02:00",
          "actualTimeUtc": "2022-10-05 05:18Z",
          "baggageBelt": "8",
          "quality": [
           "Basic",
           "Live"
          ],
          "revisedTime": {
           "local": "2022-10-05 07:18+02:00",
           "utc": "2022-10-05 05:18Z"
          },
          "runwayTime": {
           "local": "2022-10-05 07:18+02:00",
           "utc": "2022-10-05 05:18Z"
          },
          "runwayTimeLocal": "2022-10-05 07:18+02:00",
          "runwayTimeUtc": "2022-10-05 05:18Z",
          "scheduledTime": {
           "local": "2022-10-05 07:25+02:00",
           "utc": "2022-10-05 05:25Z"
          },
          "scheduledTimeLocal": "2022-10-05 07:25+02:00",
          "scheduledTimeUtc": "2022-10-05 05:25Z",
          "terminal": "2"
         },
         "codeshareStatus": "IsOperator",
         "departure": {
          "airport": {
           "iata": "CPH",
           "icao": "EKCH",
           "name": "Copenhagen"
          },
          "gate": "A21",
          "quality": [
           "Basic"
          ],
          "scheduledTime": {
           "local": "2022-10-05 06:00+02:00",
           "utc": "2022-10-05 04:00Z"
          },
          "scheduledTimeLocal": "2022-10-05 06:00+02:00",
          "scheduledTimeUtc": "2022-10-05 04:00Z",
          "terminal": "2"
         },
         "isCargo": false,
         "number": "KL 1124",
         "status": "Arrived"
        },
        {
         "aircraft": {
          "modeS": "AB0A9D",
          "model": "Airbus A330-300",
          "reg": "N810NW"
         },
         "airline": {
          "name": "Delta Air Lines"
         },
         "arrival": {
          "actualTimeLocal": "2022-10-05 07:23+02:00",
          "actualTimeUtc": "2022-10-05 05:23Z",
          "baggageBelt": "15",
          "quality": [
           "Basic",
           "Live"
          ],
          "revisedTime": {
           "local": "2022-10-05 07:23+02:00",
           "utc": "2022-10-05 05:23Z"
          },
          "runwayTime": {
           "local": "2022-10-05 07:23+02:00",
           "utc": "2022-10-05 05:23Z"
          },
          "runwayTimeLocal": "2022-10-05 07:23+02:00",
          "runwayTimeUtc": "2022-10-05 05:23Z",
          "scheduledTime": {
           "local": "2022-10-05 07:45+02:00",
           "utc": "2022-10-05 05:45Z"
          },
          "scheduledTimeLocal": "2022-10-05 07:45+02:00",
          "scheduledTimeUtc": "2022-10-05 05:45Z",
          "terminal": "3"
         },
         "callSign": "DAL258",
         "codeshareStatus": "IsOperator",
         "departure": {
          "actualTimeLocal": "2022-10-04 19:25-04:00",
          "actualTimeUtc": "2022-10-04 23:25Z",
          "airport": {
           "iata": "BOS",
           "icao": "KBOS",
           "name": "Boston"
          },
          "quality": [
           "Basic",
           "Live"
          ],
          "revisedTime": {
           "local": "2022-10-04 19:25-04:00",
           "utc": "2022-10-04 23:25Z"
          },
          "runwayTime": {
           "local": "2022-10-04 19:25-04:00",
           "utc": "2022-10-04 23:25Z"
          },
          "runwayTimeLocal": "2022-10-04 19:25-04:00",
          "runwayTimeUtc": "2022-10-04 23:25Z",
          "scheduledTime": {
           "local": "2022-10-04 19:10-04:00",
           "utc": "2022-10-04 23:10Z"
          },
          "scheduledTimeLocal": "2022-10-04 19:10-04:00",
          "scheduledTimeUtc": "2022-10-04 23:10Z",
          "terminal": "E"
         },
         "isCargo": false,
         "number": "DL 258",
         "status": "Arrived"
        },
        {
         "aircraft": {
          "modeS": "485874",
          "model": "Embraer 175",
          "reg": "PH-EXX"
         },
         "airline": {
          "name": "KLM"
         },
         "arrival": {
          "actualTimeLocal": "2022-10-05 07:26+02:00",
          "actualTimeUtc": "2022-10-05 05:26Z",
          "baggageBelt": "13",
          "quality": [
           "Basic",
           "Live"
          ],
          "revisedTime": {
           "local": "2022-10-05 07:26+02:00",
           "utc": "2022-10-05 05:26Z"
          },
          "runwayTime": {
           "local": "2022-10-05 07:26+02:00",
           "utc": "2022-10-05 05:26Z"
          },
          "runwayTimeLocal": "2022-10-05 07:26+02:00",
          "runwayTimeUtc": "2022-10-05 05:26Z",
          "scheduledTime": {
           "local": "2022-10-05 07:35+02:00",
           "utc": "2022-10-05 05:35Z"
          },
          "scheduledTimeLocal": "2022-10-05 07:35+02:00",
          "scheduledTimeUtc": "2022-10-05 05:35Z",
          "terminal": "2"
         },
         "callSign": "KLM1206",
         "codeshareStatus": "IsOperator",
         "departure": {
          "actualTimeLocal": "2022-10-05 06:07+02:00",
          "actualTimeUtc": "2022-10-05 04:07Z",
          "airport": {
           "iata": "KRS",
           "icao": "ENCN",
           "name": "Kjevik"
          },
          "gate": "11",
          "quality": [
           "Basic",
           "Live"
          ],
          "revisedTime": {
           "local": "2022-10-05 06:07+02:00",
           "utc": "2022-10-05 04:07Z"
          },
          "scheduledTime": {
           "local": "2022-10-05 06:10+02:00",
           "utc": "2022-10-05 04:10Z"
          },
          "scheduledTimeLocal": "2022-10-05 06:10+02:00",
          "scheduledTimeUtc": "2022-10-05 04:10Z"
         },
         "isCargo": false,
         "number": "KL 1206",
         "status": "Arrived"
        },
        {
         "aircraft": {
          "model": "Embraer 175"
         },
         "airline": {
          "name": "KLM"
         },
         "arrival": {
          "actualTimeLocal": "2022-10-05 07:26+02:00",
          "actualTimeUtc": "2022-10-05 05:26Z",
          "baggageBelt": "8",
          "quality": [
           "Basic",
           "Live"
          ],
          "revisedTime": {
           "local": "2022-10-05 07:26+02:00",
           "utc": "2022-10-05 05:26Z"
          },
          "runwayTime": {
           "local": "2022-10-05 07:26+02:00",
           "utc": "2022-10-05 05:26Z"
          },
          "runwayTimeLocal": "2022-10-05 07:26+02:00",
          "runwayTimeUtc": "2022-10-05 05:26Z",
          "scheduledTime": {
           "local": "2022-10-05 07:45+02:00",
           "utc": "2022-10-05 05:45Z"
          },
          "scheduledTimeLocal": "2022-10-05 07:45+02:00",
          "scheduledTimeUtc": "2022-10-05 05:45Z",
          "terminal": "2"
         },
         "codeshareStatus": "IsOperator",
         "departure": {
          "airport": {
           "iata": "BSL",
           "icao": "LFSB",
           "name": "Bâle/Mulhouse"
          },
          "quality": [
           "Basic"
          ],
          "scheduledTime": {
           "local": "2022-10-05 06:20+02:00",
           "utc": "2022-10-05 04:20Z"
          },
          "scheduledTimeLocal": "2022-10-05 06:20+02:00",
          "scheduledTimeUtc": "2022-10-05 04:20Z"
         },
         "isCargo": false,
         "number": "KL 1984",
         "status": "Arrived"
        },
        {
         "aircraft": {
          "modeS": "4CAC0A",
          "model": "Airbus A321-200 (Sharklets)",
          "reg": "EI-KDC"
         },
         "airline": {
          "name": "Air Astana"
         },
         "arrival": {
          "actualTimeLocal": "2022-10-05 07:28+02:00",
          "actualTimeUtc": "2022-10-05 05:28Z",
          "baggageBelt": "18",
          "quality": [
           "Basic",
           "Live"
          ],
          "revisedTime": {
           "local": "2022-10-05 07:28+02:00",
           "utc": "2022-10-05 05:28Z"
          },
          "runwayTime": {
           "local": "2022-10-05 07:28+02:00",
           "utc": "2022-10-05 05:28Z"
          },
          "runwayTimeLocal": "2022-10-05 07:28+02:00",
          "runwayTimeUtc": "2022-10-05 05:28Z",
          "scheduledTime": {
           "local": "2022-10-05 07:55+02:00",
           "utc": "2022-10-05 05:55Z"
          },
          "scheduledTimeLocal": "2022-10-05 07:55+02:00",
          "scheduledTimeUtc": "2022-10-05 05:55Z",
          "terminal": "3"
         },
         "callSign": "KZR943",
         "codeshareStatus": "IsOperator",
         "departure": {
          "airport": {
           "iata": "GUW",
           "icao": "UATG",
           "name": "Atyrau"
          },
          "quality": []
         },
         "isCargo": false,
         "number": "KC 943",
         "status": "Arrived"
        },
        {
         "aircraft": {
          "model": "Boeing 737-800 (winglets)"
         },
         "airline": {
          "name": "KLM"
         },
         "arrival": {
          "actualTimeLocal": "2022-10-05 07:22+02:00",
          "actualTimeUtc": "2022-10-05 05:22Z",
          "baggageBelt": "10",
          "quality": [
           "Basic",
           "Live"
          ],
          "revisedTime": {
           "local": "2022-10-05 07:22+02:00",
           "utc": "2022-10-05 05:22Z"
          },
          "runwayTime": {
           "local": "2022-10-05 07:22+02:00",
           "utc": "2022-10-05 05:22Z"
          },
          "runwayTimeLocal": "2022-10-05 07:22+02:00",
          "runwayTimeUtc": "2022-10-05 05:22Z",
          "scheduledTime": {
           "local": "2022-10-05 07:35+02:00",
           "utc": "2022-10-05 05:35Z"
          },
          "scheduledTimeLocal": "2022-10-05 07:35+02:00",
          "scheduledTimeUtc": "2022-10-05 05:35Z",
          "terminal": "2"
         },
         "codeshareStatus": "IsOperator",
         "departure": {
          "actualTimeLocal": "2022-10-05 06:04+02:00",
          "actualTimeUtc": "2022-10-05 04:04Z",
          "airport": {
           "iata": "PRG",
           "icao": "LKPR",
           "name": "Prague"
          },
          "checkInDesk": "260-265",
          "gate": "C3",
          "quality": [
           "Basic",
           "Live"
          ],
          "revisedTime": {
           "local": "2022-10-05 06:04+02:00",
           "utc": "2022-10-05 04:04Z"
          },
          "scheduledTime": {
           "local": "2022-10-05 06:05+02:00",
           "utc": "2022-10-05 04:05Z"
          },
          "scheduledTimeLocal": "2022-10-05 06:05+02:00",
          "scheduledTimeUtc": "2022-10-05 04:05Z",
          "terminal": "2"
         },
         "isCargo": false,
         "number": "KL 1350",
         "status": "Arrived"
        },
        {
         "aircraft": {
          "modeS": "484559",
          "model": "Boeing 737-800 (winglets)",
          "reg": "PH-BGB"
         },
         "airline": {
          "name": "KLM"
         },
         "arrival": {
          "actualTimeLocal": "2022-10-05 07:32+02:00",
          "actualTimeUtc": "2022-10-05 05:32Z",
          "baggageBelt": "9",
          "quality": [
           "Basic",
           "Live"
          ],
          "revisedTime": {
           "local": "2022-10-05 07:32+02:00",
           "utc": "2022-10-05 05:32Z"
          },
          "runwayTime": {
           "local": "2022-10-05 07:32+02:00",
           "utc": "2022-10-05 05:32Z"
          },
          "runwayTimeLocal": "2022-10-05 07:32+02:00",
          "runwayTimeUtc": "2022-10-05 05:32Z",
          "scheduledTime": {
           "local": "2022-10-05 07:45+02:00",
           "utc": "2022-10-05 05:45Z"
          },
          "scheduledTimeLocal": "2022-10-05 07:45+02:00",
          "scheduledTimeUtc": "2022-10-05 05:45Z",
          "terminal": "2"
         },
         "callSign": "KLM1184",
         "codeshareStatus": "IsOperator",
         "departure": {
          "actualTimeLocal": "2022-10-05 06:04+02:00",
          "actualTimeUtc": "2022-10-05 04:04Z",
          "airport": {
           "iata": "BGO",
           "icao": "ENBR",
           "name": "Bergen"
          },
          "gate": "E25",
          "quality": [
           "Basic",
           "Live"
          ],
          "revisedTime": {
           "local": "2022-10-05 06:04+02:00",
           "utc": "2022-10-05 04:04Z"
          },
          "scheduledTime": {
           "local": "2022-10-05 06:05+02:00",
           "utc": "2022-10-05 04:05Z"
          },
          "scheduledTimeLocal": "2022-10-05 06:05+02:00",
          "scheduledTimeUtc": "2022-10-05 04:05Z"
         },
         "isCargo": false,
         "number": "KL 1184",
         "status": "Arrived"
        },
        {
         "aircraft": {
          "modeS": "4851F6",
          "model": "Boeing 777-300ER",
          "reg": "PH-BVS"
         },
         "airline": {
          "name": "KLM"
         },
         "arrival": {
          "actualTimeLocal": "2022-10-05 07:29+02:00",
          "actualTimeUtc": "2022-10-05 05:29Z",
          "baggageBelt": "19",
          "quality": [
           "Basic",
           "Live"
          ],
          "revisedTime": {
           "local": "2022-10-05 07:29+02:00",
           "utc": "2022-10-05 05:29Z"
          },
          "runwayTime": {
           "local": "2022-10-05 07:29+02:00",
           "utc": "2022-10-05 05:29Z"
          },
          "runwayTimeLocal": "2022-10-05 07:29+02:00",
          "runwayTimeUtc": "2022-10-05 05:29Z",
          "scheduledTime": {
           "local": "2022-10-05 07:15+02:00",
           "utc": "2022-10-05 05:15Z"
          },
          "scheduledTimeLocal": "2022-10-05 07:15+02:00",
          "scheduledTimeUtc": "2022-10-05 05:15Z",
          "terminal": "4"
         },
         "callSign": "KLM878",
         "codeshareStatus": "IsOperator",
         "departure": {
          "airport": {
           "iata": "BOM",
           "icao": "VABB",
           "name": "Mumbai"
          },
          "quality": [
           "Basic"
          ],
          "scheduledTime": {
           "local": "2022-10-05 01:45+05:30",
           "utc": "2022-10-04 20:15Z"
          },
          "scheduledTimeLocal": "2022-10-05 01:45+05:30",
          "scheduledTimeUtc": "2022-10-04 20:15Z",
          "terminal": "2"
         },
         "isCargo": false,
         "number": "KL 878",
         "status": "Arrived"
        },
        {
         "aircraft": {
          "modeS": "AB249E",
          "model": "Airbus A330-300",
          "reg": "N817NW"
         },
         "airline": {
          "name": "Delta Air Lines"
         },
         "arrival": {
          "actualTimeLocal": "2022-10-05 07:30+02:00",
          "actualTimeUtc": "2022-10-05 05:30Z",
          "baggageBelt": "16",
          "quality": [
           "Basic",
           "Live"
          ],
          "revisedTime": {
           "local": "2022-10-05 07:30+02:00",
           "utc": "2022-10-05 05:30Z"
          },
          "runwayTime": {
           "local": "2022-10-05 07:30+02:00",
           "utc": "2022-10-05 05:30Z"
          },
          "runwayTimeLocal": "2022-10-05 07:30+02:00",
          "runwayTimeUtc": "2022-10-05 05:30Z",
          "scheduledTime": {
           "local": "2022-10-05 05:55+02:00",
           "utc": "2022-10-05 03:55Z"
          },
          "scheduledTimeLocal": "2022-10-05 05:55+02:00",
          "scheduledTimeUtc": "2022-10-05 03:55Z",
          "terminal": "3"
         },
         "callSign": "DAL46",
         "codeshareStatus": "IsOperator",
         "departure": {
          "actualTimeLocal": "2022-10-04 19:08-04:00",
          "actualTimeUtc": "2022-10-04 23:08Z",
          "airport": {
           "iata": "JFK",
           "icao": "KJFK",
           "name": "New York"
          },
          "quality": [
           "Basic",
           "Live"
          ],
          "revisedTime": {
           "local": "2022-10-04 19:08-04:00",
           "utc": "2022-10-04 23:08Z"
          },
          "runwayTime": {
           "local": "2022-10-04 19:08-04:00",
           "utc": "2022-10-04 23:08Z"
          },
          "runwayTimeLocal": "2022-10-04 19:08-04:00",
          "runwayTimeUtc": "2022-10-04 23:08Z",
          "scheduledTime": {
           "local": "2022-10-04 16:25-04:00",
           "utc": "2022-10-04 20:25Z"
          },
          "scheduledTimeLocal": "2022-10-04 16:25-04:00",
          "scheduledTimeUtc": "2022-10-04 20:25Z",
          "terminal": "4"
         },
         "isCargo": false,
         "number": "DL 46",
         "status": "Arrived"
        },
        {
         "aircraft": {
          "modeS": "76CDA2",
          "model": "Airbus A350-900",
          "reg": "9V-SMB"
         },
         "airline": {
          "name": "Singapore"
         },
         "arrival": {
          "actualTimeLocal": "2022-10-05 07:24+02:00",
          "actualTimeUtc": "2022-10-05 05:24Z",
          "baggageBelt": "20",
          "quality": [
           "Basic",
           "Live"
          ],
          "revisedTime": {
           "local": "2022-10-05 07:24+02:00",
           "utc": "2022-10-05 05:24Z"
          },
          "runwayTime": {
           "local": "2022-10-05 07:24+02:00",
           "utc": "2022-10-05 05:24Z"
          },
          "runwayTimeLocal": "2022-10-05 07:24+02:00",
          "runwayTimeUtc": "2022-10-05 05:24Z",
          "scheduledTime": {
           "local": "2022-10-05 07:15+02:00",
           "utc": "2022-10-05 05:15Z"
          },
          "scheduledTimeLocal": "2022-10-05 07:15+02:00",
          "scheduledTimeUtc": "2022-10-05 05:15Z",
          "terminal": "4"
         },
         "callSign": "SIA324",
         "codeshareStatus": "IsOperator",
         "departure": {
          "actualTimeLocal": "2022-10-04 23:55+08:00",
          "actualTimeUtc": "2022-10-04 15:55Z",
          "airport": {
           "iata": "SIN",
           "icao": "WSSS",
           "name": "Singapore"
          },
          "checkInDesk": "03",
          "gate": "C22",
          "quality": [
           "Basic",
           "Live"
          ],
          "revisedTime": {
           "local": "2022-10-04 23:55+08:00",
           "utc": "2022-10-04 15:55Z"
          },
          "scheduledTime": {
           "local": "2022-10-04 23:55+08:00",
           "utc": "2022-10-04 15:55Z"
          },
          "scheduledTimeLocal": "2022-10-04 23:55+08:00",
          "scheduledTimeUtc": "2022-10-04 15:55Z",
          "terminal": "3"
         },
         "isCargo": false,
         "number": "SQ 324",
         "status": "Arrived"
        },
        {
         "aircraft": {
          "model": "Embraer 190"
         },
         "airline": {
          "name": "KLM"
         },
         "arrival": {
          "actualTimeLocal": "2022-10-05 07:34+02:00",
          "actualTimeUtc": "2022-10-05 05:34Z",
          "baggageBelt": "8",
          "quality": [
           "Basic",
           "Live"
          ],
          "revisedTime": {
           "local": "2022-10-05 07:34+02:00",
           "utc": "2022-10-05 05:34Z"
          },
          "runwayTime": {
           "local": "2022-10-05 07:34+02:00",
           "utc": "2022-10-05 05:34Z"
          },
          "runwayTimeLocal": "2022-10-05 07:34+02:00",
          "runwayTimeUtc": "2022-10-05 05:34Z",
          "scheduledTime": {
           "local": "2022-10-05 07:55+02:00",
           "utc": "2022-10-05 05:55Z"
          },
          "scheduledTimeLocal": "2022-10-05 07:55+02:00",
          "scheduledTimeUtc": "2022-10-05 05:55Z",
          "terminal": "2"
         },
         "codeshareStatus": "IsOperator",
         "departure": {
          "actualTimeLocal": "2022-10-05 06:17+02:00",
          "actualTimeUtc": "2022-10-05 04:17Z",
          "airport": {
           "iata": "SVG",
           "icao": "ENZV",
           "name": "Stavanger"
          },
          "gate": "12",
          "quality": [
           "Basic",
           "Live"
          ],
          "revisedTime": {
           "local": "2022-10-05 06:17+02:00",
           "utc": "2022-10-05 04:17Z"
          },
          "scheduledTime": {
           "local": "2022-10-05 06:20+02:00",
           "utc": "2022-10-05 04:20Z"
          },
          "scheduledTimeLocal": "2022-10-05 06:20+02:00",
          "scheduledTimeUtc": "2022-10-05 04:20Z"
         },
         "isCargo": false,
         "number": "KL 1196",
         "status": "Arrived"
        },
        {
         "aircraft": {
          "modeS": "484411",
          "model": "Airbus A330-200",
          "reg": "PH-AOC"
         },
         "airline": {
          "name": "KLM"
         },
         "arrival": {
          "actualTimeLocal": "2022-10-05 07:35+02:00",
          "actualTimeUtc": "2022-10-05 05:35Z",
          "baggageBelt": "11",
          "quality": [
           "Basic",
           "Live"
          ],
          "revisedTime": {
           "local": "2022-10-05 07:35+02:00",
           "utc": "2022-10-05 05:35Z"
          },
          "runwayTime": {
           "local": "2022-10-05 07:35+02:00",
           "utc": "2022-10-05 05:35Z"
          },
          "runwayTimeLocal": "2022-10-05 07:35+02:00",
          "runwayTimeUtc": "2022-10-05 05:35Z",
          "scheduledTime": {
           "local": "2022-10-05 07:10+02:00",
           "utc": "2022-10-05 05:10Z"
          },
          "scheduledTimeLocal": "2022-10-05 07:10+02:00",
          "scheduledTimeUtc": "2022-10-05 05:10Z",
          "terminal": "2"
         },
         "callSign": "KLM290",
         "codeshareStatus": "IsOperator",
         "departure": {
          "actualTimeLocal": "2022-10-04 18:52-04:00",
          "actualTimeUtc": "2022-10-04 22:52Z",
          "airport": {
           "iata": "IAD",
           "icao": "KIAD",
           "name": "District of Columbia"
          },
          "quality": [
           "Basic",
           "Live"
          ],
          "revisedTime": {
           "local": "2022-10-04 18:52-04:00",
           "utc": "2022-10-04 22:52Z"
          },
          "runwayTime": {
           "local": "2022-10-04 18:52-04:00",
           "utc": "2022-10-04 22:52Z"
          },
          "runwayTimeLocal": "2022-10-04 18:52-04:00",
          "runwayTimeUtc": "2022-10-04 22:52Z",
          "scheduledTime": {
           "local": "2022-10-04 17:25-04:00",
           "utc": "2022-10-04 21:25Z"
          },
          "scheduledTimeLocal": "2022-10-04 17:25-04:00",
          "scheduledTimeUtc": "2022-10-04 21:25Z"
         },
         "isCargo": false,
         "number": "KL 652",
         "status": "Arrived"
        },
        {
         "aircraft": {
          "model": "Embraer 190"
         },
         "airline": {
          "name": "KLM"
         },
         "arrival": {
          "actualTimeLocal": "2022-10-05 07:38+02:00",
          "actualTimeUtc": "2022-10-05 05:38Z",
          "baggageBelt": "12",
          "quality": [
           "Basic",
           "Live"
          ],
          "revisedTime": {
           "local": "2022-10-05 07:38+02:00",
           "utc": "2022-10-05 05:38Z"
          },
          "runwayTime": {
           "local": "2022-10-05 07:38+02:00",
           "utc": "2022-10-05 05:38Z"
          },
          "runwayTimeLocal": "2022-10-05 07:38+02:00",
          "runwayTimeUtc": "2022-10-05 05:38Z",
          "scheduledTime": {
           "local": "2022-10-05 07:50+02:00",
           "utc": "2022-10-05 05:50Z"
          },
          "scheduledTimeLocal": "2022-10-05 07:50+02:00",
          "scheduledTimeUtc": "2022-10-05 05:50Z",
          "terminal": "2"
         },
         "codeshareStatus": "IsOperator",
         "departure": {
          "airport": {
           "iata": "AAL",
           "icao": "EKYT",
           "name": "Aalborg"
          },
          "quality": [
           "Basic"
          ],
          "scheduledTime": {
           "local": "2022-10-05 06:30+02:00",
           "utc": "2022-10-05 04:30Z"
          },
          "scheduledTimeLocal": "2022-10-05 06:30+02:00",
          "scheduledTimeUtc": "2022-10-05 04:30Z"
         },
         "isCargo": false,
         "number": "KL 1328",
         "status": "Arrived"
        },
        {
         "aircraft": {
          "model": "Boeing 737-800 (winglets)"
         },
         "airline": {
          "name": "KLM"
         },
         "arrival": {
          "actualTimeLocal": "2022-10-05 07:40+02:00",
          "actualTimeUtc": "2022-10-05 05:40Z",
          "baggageBelt": "13",
          "quality": [
           "Basic",
           "Live"
          ],
          "revisedTime": {
           "local": "2022-10-05 07:40+02:00",
           "utc": "2022-10-05 05:40Z"
          },
          "runwayTime": {
           "local": "2022-10-05 07:40+02:00",
           "utc": "2022-10-05 05:40Z"
          },
          "runwayTimeLocal": "2022-10-05 07:40+02:00",
          "runwayTimeUtc": "2022-10-05 05:40Z",
          "scheduledTime": {
           "local": "2022-10-05 07:45+02:00",
           "utc": "2022-10-05 05:45Z"
          },
          "scheduledTimeLocal": "2022-10-05 07:45+02:00",
          "scheduledTimeUtc": "2022-10-05 05:45Z",
          "terminal": "2"
         },
         "codeshareStatus": "IsOperator",
         "departure": {
          "airport": {
           "iata": "ZAG",
           "icao": "LDZA",
           "name": "Zagreb"
          },
          "quality": [
           "Basic"
          ],
          "scheduledTime": {
           "local": "2022-10-05 05:45+02:00",
           "utc": "2022-10-05 03:45Z"
          },
          "scheduledTimeLocal": "2022-10-05 05:45+02:00",
          "scheduledTimeUtc": "2022-10-05 03:45Z"
         },
         "isCargo": false,
         "number": "KL 1938",
         "status": "Arrived"
        },
        {
         "aircraft": {
          "modeS": "485342",
          "model": "Boeing 787-9",
          "reg": "PH-BHH"
         },
         "airline": {
          "name": "KLM"
         },
         "arrival": {
          "actualTimeLocal": "2022-10-05 07:33+02:00",
          "actualTimeUtc": "2022-10-05 05:33Z",
          "baggageBelt": "12",
          "quality": [
           "Basic",
           "Live"
          ],
          "revisedTime": {
           "local": "2022-10-05 07:33+02:00",
           "utc": "2022-10-05 05:33Z"
          },
          "runwayTime": {
           "local": "2022-10-05 07:33+02:00",
           "utc": "2022-10-05 05:33Z"
          },
          "runwayTimeLocal": "2022-10-05 07:33+02:00",
          "runwayTimeUtc": "2022-10-05 05:33Z",
          "scheduledTime": {
           "local": "2022-10-05 07:50+02:00",
           "utc": "2022-10-05 05:50Z"
          },
          "scheduledTimeLocal": "2022-10-05 07:50+02:00",
          "scheduledTimeUtc": "2022-10-05 05:50Z",
          "terminal": "2"
         },
         "callSign": "KLM678",
         "codeshareStatus": "IsOperator",
         "departure": {
          "actualTimeLocal": "2022-10-04 15:25-06:00",
          "actualTimeUtc": "2022-10-04 21:25Z",
          "airport": {
           "iata": "YYC",
           "icao": "CYYC",
           "name": "Calgary"
          },
          "gate": "D78",
          "quality": [
           "Basic",
           "Live"
          ],
          "revisedTime": {
           "local": "2022-10-04 15:25-06:00",
           "utc": "2022-10-04 21:25Z"
          },
          "scheduledTime": {
           "local": "2022-10-04 15:20-06:00",
           "utc": "2022-10-04 21:20Z"
          },
          "scheduledTimeLocal": "2022-10-04 15:20-06:00",
          "scheduledTimeUtc": "2022-10-04 21:20Z",
          "terminal": "I"
         },
         "isCargo": false,
         "number": "KL 678",
         "status": "Arrived"
        },
        {
         "aircraft": {
          "modeS": "4855D0",
          "model": "Embraer 175",
          "reg": "PH-EXN"
         },
         "airline": {
          "name": "KLM"
         },
         "arrival": {
          "actualTimeLocal": "2022-10-05 07:42+02:00",
          "actualTimeUtc": "2022-10-05 05:42Z",
          "baggageBelt": "8",
          "quality": [
           "Basic",
           "Live"
          ],
          "revisedTime": {
           "local": "2022-10-05 07:42+02:00",
           "utc": "2022-10-05 05:42Z"
          },
          "runwayTime": {
           "local": "2022-10-05 07:42+02:00",
           "utc": "2022-10-05 05:42Z"
          },
          "runwayTimeLocal": "2022-10-05 07:42+02:00",
          "runwayTimeUtc": "2022-10-05 05:42Z",
          "scheduledTime": {
           "local": "2022-10-05 07:50+02:00",
           "utc": "2022-10-05 05:50Z"
          },
          "scheduledTimeLocal": "2022-10-05 07:50+02:00",
          "scheduledTimeUtc": "2022-10-05 05:50Z",
          "terminal": "2"
         },
         "callSign": "KLM1178",
         "codeshareStatus": "IsOperator",
         "departure": {
          "airport": {
           "iata": "LPI",
           "icao": "ESSL",
           "name": "Linköping"
          },
          "quality": [
           "Basic"
          ],
          "scheduledTime": {
           "local": "2022-10-05 06:05+02:00",
           "utc": "2022-10-05 04:05Z"
          },
          "scheduledTimeLocal": "2022-10-05 06:05+02:00",
          "scheduledTimeUtc": "2022-10-05 04:05Z"
         },
         "isCargo": false,
         "number": "KL 1178",
         "status": "Arrived"
        },
        {
         "aircraft": {
          "model": "Embraer 195-E2",
          "reg": "PH-NXM"
         },
         "airline": {
          "name": "KLM"
         },
         "arrival": {
          "actualTimeLocal": "2022-10-05 07:36+02:00",
          "actualTimeUtc": "2022-10-05 05:36Z",
          "baggageBelt": "10",
          "quality": [
           "Basic",
           "Live"
          ],
          "revisedTime": {
           "local": "2022-10-05 07:36+02:00",
           "utc": "2022-10-05 05:36Z"
          },
          "runwayTime": {
           "local": "2022-10-05 07:36+02:00",
           "utc": "2022-10-05 05:36Z"
          },
          "runwayTimeLocal": "2022-10-05 07:36+02:00",
          "runwayTimeUtc": "2022-10-05 05:36Z",
          "scheduledTime": {
           "local": "2022-10-05 07:40+02:00",
           "utc": "2022-10-05 05:40Z"
          },
          "scheduledTimeLocal": "2022-10-05 07:40+02:00",
          "scheduledTimeUtc": "2022-10-05 05:40Z",
          "terminal": "2"
         },
         "callSign": "KLM74L",
         "codeshareStatus": "IsOperator",
         "departure": {
          "actualTimeLocal": "2022-10-05 06:13+02:00",
          "actualTimeUtc": "2022-10-05 04:13Z",
          "airport": {
           "iata": "GOT",
           "icao": "ESGG",
           "name": "Goteborg"
          },
          "checkInDesk": "22-26",
          "gate": "20A",
          "quality": [
           "Basic",
           "Live"
          ],
          "revisedTime": {
           "local": "2022-10-05 06:13+02:00",
           "utc": "2022-10-05 04:13Z"
          },
          "scheduledTime": {
           "local": "2022-10-05 06:10+02:00",
           "utc": "2022-10-05 04:10Z"
          },
          "scheduledTimeLocal": "2022-10-05 06:10+02:00",
          "scheduledTimeUtc": "2022-10-05 04:10Z",
          "terminal": "1"
         },
         "isCargo": false,
         "number": "KL 1152",
         "status": "Arrived"
        },
        {
         "aircraft": {
          "model": "Boeing 737-700 (winglets)"
         },
         "airline": {
          "name": "KLM"
         },
         "arrival": {
          "actualTimeLocal": "2022-10-05 07:46+02:00",
          "actualTimeUtc": "2022-10-05 05:46Z",
          "baggageBelt": "9",
          "quality": [
           "Basic",
           "Live"
          ],
          "revisedTime": {
           "local": "2022-10-05 07:46+02:00",
           "utc": "2022-10-05 05:46Z"
          },
          "runwayTime": {
           "local": "2022-10-05 07:46+02:00",
           "utc": "2022-10-05 05:46Z"
          },
          "runwayTimeLocal": "2022-10-05 07:46+02:00",
          "runwayTimeUtc": "2022-10-05 05:46Z",
          "scheduledTime": {
           "local": "2022-10-05 07:50+02:00",
           "utc": "2022-10-05 05:50Z"
          },
          "scheduledTimeLocal": "2022-10-05 07:50+02:00",
          "scheduledTimeUtc": "2022-10-05 05:50Z",
          "terminal": "2"
         },
         "codeshareStatus": "IsOperator",
         "departure": {
          "airport": {
           "iata": "VCE",
           "icao": "LIPZ",
           "name": "Venice"
          },
          "quality": [
           "Basic"
          ],
          "scheduledTime": {
           "local": "2022-10-05 06:00+02:00",
           "utc": "2022-10-05 04:00Z"
          },
          "scheduledTimeLocal": "2022-10-05 06:00+02:00",
          "scheduledTimeUtc": "2022-10-05 04:00Z"
         },
         "isCargo": false,
         "number": "KL 1650",
         "status": "Arrived"
        },
        {
         "aircraft": {
          "model": "Embraer RJ145"
         },
         "airline": {
          "name": "8R"
         },
         "arrival": {
          "actualTimeLocal": "2022-10-05 07:48+02:00",
          "actualTimeUtc": "2022-10-05 05:48Z",
          "baggageBelt": "2",
          "quality": [
           "Basic",
           "Live"
          ],
          "revisedTime": {
           "local": "2022-10-05 07:48+02:00",
           "utc": "2022-10-05 05:48Z"
          },
          "runwayTime": {
           "local": "2022-10-05 07:48+02:00",
           "utc": "2022-10-05 05:48Z"
          },
          "runwayTimeLocal": "2022-10-05 07:48+02:00",
          "runwayTimeUtc": "2022-10-05 05:48Z",
          "scheduledTime": {
           "local": "2022-10-05 08:05+02:00",
           "utc": "2022-10-05 06:05Z"
          },
          "scheduledTimeLocal": "2022-10-05 08:05+02:00",
          "scheduledTimeUtc": "2022-10-05 06:05Z",
          "terminal": "1"
         },
         "codeshareStatus": "IsOperator",
         "departure": {
          "airport": {
           "iata": "SXB",
           "icao": "LFST",
           "name": "Strasbourg"
          },
          "quality": []
         },
         "isCargo": false,
         "number": "8R 6768",
         "status": "Arrived"
        },
        {
         "aircraft": {
          "model": "Embraer 175"
         },
         "airline": {
          "name": "KLM"
         },
         "arrival": {
          "actualTimeLocal": "2022-10-05 07:41+02:00",
          "actualTimeUtc": "2022-10-05 05:41Z",
          "baggageBelt": "11",
          "quality": [
           "Basic",
           "Live"
          ],
          "revisedTime": {
           "local": "2022-10-05 07:41+02:00",
           "utc": "2022-10-05 05:41Z"
          },
          "runwayTime": {
           "local": "2022-10-05 07:41+02:00",
           "utc": "2022-10-05 05:41Z"
          },
          "runwayTimeLocal": "2022-10-05 07:41+02:00",
          "runwayTimeUtc": "2022-10-05 05:41Z",
          "scheduledTime": {
           "local": "2022-10-05 08:00+02:00",
           "utc": "2022-10-05 06:00Z"
          },
          "scheduledTimeLocal": "2022-10-05 08:00+02:00",
          "scheduledTimeUtc": "2022-10-05 06:00Z",
          "terminal": "2"
         },
         "codeshareStatus": "IsOperator",
         "departure": {
          "airport": {
           "iata": "NWI",
           "icao": "EGSH",
           "name": "Norwich"
          },
          "quality": [
           "Basic"
          ],
          "scheduledTime": {
           "local": "2022-10-05 06:05+01:00",
           "utc": "2022-10-05 05:05Z"
          },
          "scheduledTimeLocal": "2022-10-05 06:05+01:00",
          "scheduledTimeUtc": "2022-10-05 05:05Z"
         },
         "isCargo": false,
         "number": "KL 1514",
         "status": "Arrived"
        },
        {
         "aircraft": {
          "model": "Boeing 737-800 (winglets)"
         },
         "airline": {
          "name": "KLM"
         },
         "arrival": {
          "actualTimeLocal": "2022-10-05 07:48+02:00",
          "actualTimeUtc": "2022-10-05 05:48Z",
          "baggageBelt": "10",
          "quality": [
           "Basic",
           "Live"
          ],
          "revisedTime": {
           "local": "2022-10-05 07:48+02:00",
           "utc": "2022-10-05 05:48Z"
          },
          "runwayTime": {
           "local": "2022-10-05 07:48+02:00",
           "utc": "2022-10-05 05:48Z"
          },
          "runwayTimeLocal": "2022-10-05 07:48+02:00",
          "runwayTimeUtc": "2022-10-05 05:48Z",
          "scheduledTime": {
           "local": "2022-10-05 08:00+02:00",
           "utc": "2022-10-05 06:00Z"
          },
          "scheduledTimeLocal": "2022-10-05 08:00+02:00",
          "scheduledTimeUtc": "2022-10-05 06:00Z",
          "terminal": "2"
         },
         "codeshareStatus": "IsOperator",
         "departure": {
          "airport": {
           "iata": "WAW",
           "icao": "EPWA",
           "name": "Warsaw"
          },
          "quality": [
           "Basic"
          ],
          "scheduledTime": {
           "local": "2022-10-05 06:00+02:00",
           "utc": "2022-10-05 04:00Z"
          },
          "scheduledTimeLocal": "2022-10-05 06:00+02:00",
          "scheduledTimeUtc": "2022-10-05 04:00Z"
         },
         "isCargo": false,
         "number": "KL 1362",
         "status": "Arrived"
        },
        {
         "aircraft": {
          "model": "Boeing 737-900 (winglets) "
         },
         "airline": {
          "name": "KLM"
         },
         "arrival": {
          "actualTimeLocal": "2022-10-05 07:44+02:00",
          "actualTimeUtc": "2022-10-05 05:44Z",
          "baggageBelt": "13",
          "quality": [
           "Basic",
           "Live"
          ],
          "revisedTime": {
           "local": "2022-10-05 07:44+02:00",
           "utc": "2022-10-05 05:44Z"
          },
          "runwayTime": {
           "local": "2022-10-05 07:44+02:00",
           "utc": "2022-10-05 05:44Z"
          },
          "runwayTimeLocal": "2022-10-05 07:44+02:00",
          "runwayTimeUtc": "2022-10-05 05:44Z",
          "scheduledTime": {
           "local": "2022-10-05 07:55+02:00",
           "utc": "2022-10-05 05:55Z"
          },
          "scheduledTimeLocal": "2022-10-05 07:55+02:00",
          "scheduledTimeUtc": "2022-10-05 05:55Z",
          "terminal": "2"
         },
         "codeshareStatus": "IsOperator",
         "departure": {
          "actualTimeLocal": "2022-10-05 07:00+03:00",
          "actualTimeUtc": "2022-10-05 04:00Z",
          "airport": {
           "iata": "OTP",
           "icao": "LROP",
           "name": "Bucharest"
          },
          "quality": [
           "Basic",
           "Live"
          ],
          "revisedTime": {
           "local": "2022-10-05 07:00+03:00",
           "utc": "2022-10-05 04:00Z"
          },
          "scheduledTime": {
           "local": "2022-10-05 07:00+03:00",
           "utc": "2022-10-05 04:00Z"
          },
          "scheduledTimeLocal": "2022-10-05 07:00+03:00",
          "scheduledTimeUtc": "2022-10-05 04:00Z"
         },
         "isCargo": false,
         "number": "KL 1372",
         "status": "Arrived"
        },
        {
         "aircraft": {
          "modeS": "484FFF",
          "model": "Airbus A330-300",
          "reg": "PH-AKE"
         },
         "airline": {
          "name": "KLM"
         },
         "arrival": {
          "actualTimeLocal": "2022-10-05 07:49+02:00",
          "actualTimeUtc": "2022-10-05 05:49Z",
          "baggageBelt": "22",
          "quality": [
           "Basic",
           "Live"
          ],
          "revisedTime": {
           "local": "2022-10-05 07:49+02:00",
           "utc": "2022-10-05 05:49Z"
          },
          "runwayTime": {
           "local": "2022-10-05 07:49+02:00",
           "utc": "2022-10-05 05:49Z"
          },
          "runwayTimeLocal": "2022-10-05 07:49+02:00",
          "runwayTimeUtc": "2022-10-05 05:49Z",
          "scheduledTime": {
           "local": "2022-10-05 08:30+02:00",
           "utc": "2022-10-05 06:30Z"
          },
          "scheduledTimeLocal": "2022-10-05 08:30+02:00",
          "scheduledTimeUtc": "2022-10-05 06:30Z",
          "terminal": "4"
         },
         "callSign": "KLM787",
         "codeshareStatus": "IsOperator",
         "departure": {
          "airport": {
           "iata": "POS",
           "icao": "TTPP",
           "name": "Port of Spain"
          },
          "quality": [
           "Basic"
          ],
          "scheduledTime": {
           "local": "2022-10-04 17:25-04:00",
           "utc": "2022-10-04 21:25Z"
          },
          "scheduledTimeLocal": "2022-10-04 17:25-04:00",
          "scheduledTimeUtc": "2022-10-04 21:25Z"
         },
         "isCargo": false,
         "number": "KL 787",
         "status": "Arrived"
        },
        {
         "aircraft": {
          "model": "Embraer 195-E2"
         },
         "airline": {
          "name": "KLM"
         },
         "arrival": {
          "actualTimeLocal": "2022-10-05 07:53+02:00",
          "actualTimeUtc": "2022-10-05 05:53Z",
          "baggageBelt": "12",
          "quality": [
           "Basic",
           "Live"
          ],
          "revisedTime": {
           "local": "2022-10-05 07:53+02:00",
           "utc": "2022-10-05 05:53Z"
          },
          "runwayTime": {
           "local": "2022-10-05 07:53+02:00",
           "utc": "2022-10-05 05:53Z"
          },
          "runwayTimeLocal": "2022-10-05 07:53+02:00",
          "runwayTimeUtc": "2022-10-05 05:53Z",
          "scheduledTime": {
           "local": "2022-10-05 07:55+02:00",
           "utc": "2022-10-05 05:55Z"
          },
          "scheduledTimeLocal": "2022-10-05 07:55+02:00",
          "scheduledTimeUtc": "2022-10-05 05:55Z",
          "terminal": "2"
         },
         "codeshareStatus": "IsOperator",
         "departure": {
          "airport": {
           "iata": "BOD",
           "icao": "LFBD",
           "name": "Bordeaux/Mérignac"
          },
          "quality": [
           "Basic"
          ],
          "scheduledTime": {
           "local": "2022-10-05 06:10+02:00",
           "utc": "2022-10-05 04:10Z"
          },
          "scheduledTimeLocal": "2022-10-05 06:10+02:00",
          "scheduledTimeUtc": "2022-10-05 04:10Z",
          "terminal": "B"
         },
         "isCargo": false,
         "number": "KL 1312",
         "status": "Arrived"
        },
        {
         "aircraft": {
          "modeS": "485E2D",
          "model": "Boeing 787-10",
          "reg": "PH-BKG"
         },
         "airline": {
          "name": "KLM"
         },
         "arrival": {
          "actualTimeLocal": "2022-10-05 07:50+02:00",
          "actualTimeUtc": "2022-10-05 05:50Z",
          "baggageBelt": "16",
          "quality": [
           "Basic",
           "Live"
          ],
          "revisedTime": {
           "local": "2022-10-05 07:50+02:00",
           "utc": "2022-10-05 05:50Z"
          },
          "runwayTime": {
           "local": "2022-10-05 07:50+02:00",
           "utc": "2022-10-05 05:50Z"
          },
          "runwayTimeLocal": "2022-10-05 07:50+02:00",
          "runwayTimeUtc": "2022-10-05 05:50Z",
          "scheduledTime": {
           "local": "2022-10-05 07:35+02:00",
           "utc": "2022-10-05 05:35Z"
          },
          "scheduledTimeLocal": "2022-10-05 07:35+02:00",
          "scheduledTimeUtc": "2022-10-05 05:35Z",
          "terminal": "3"
         },
         "callSign": "KLM571",
         "codeshareStatus": "IsOperator",
         "departure": {
          "airport": {
           "iata": "DAR",
           "icao": "HTDA",
           "name": "Dar es Salaam"
          },
          "quality": [
           "Basic"
          ],
          "scheduledTime": {
           "local": "2022-10-04 23:30+03:00",
           "utc": "2022-10-04 20:30Z"
          },
          "scheduledTimeLocal": "2022-10-04 23:30+03:00",
          "scheduledTimeUtc": "2022-10-04 20:30Z",
          "terminal": "3"
         },
         "isCargo": false,
         "number": "KL 571",
         "status": "Arrived"
        },
        {
         "aircraft": {
          "modeS": "48455F",
          "model": "Boeing 777-300ER",
          "reg": "PH-BVB"
         },
         "airline": {
          "name": "KLM"
         },
         "arrival": {
          "actualTimeLocal": "2022-10-05 07:52+02:00",
          "actualTimeUtc": "2022-10-05 05:52Z",
          "baggageBelt": "15",
          "quality": [
           "Basic",
           "Live"
          ],
          "revisedTime": {
           "local": "2022-10-05 07:52+02:00",
           "utc": "2022-10-05 05:52Z"
          },
          "runwayTime": {
           "local": "2022-10-05 07:52+02:00",
           "utc": "2022-10-05 05:52Z"
          },
          "runwayTimeLocal": "2022-10-05 07:52+02:00",
          "runwayTimeUtc": "2022-10-05 05:52Z",
          "scheduledTime": {
           "local": "2022-10-05 07:50+02:00",
           "utc": "2022-10-05 05:50Z"
          },
          "scheduledTimeLocal": "2022-10-05 07:50+02:00",
          "scheduledTimeUtc": "2022-10-05 05:50Z",
          "terminal": "3"
         },
         "callSign": "KLM836",
         "codeshareStatus": "IsOperator",
         "departure": {
          "actualTimeLocal": "2022-10-05 00:40+08:00",
          "actualTimeUtc": "2022-10-04 16:40Z",
          "airport": {
           "iata": "SIN",
           "icao": "WSSS",
           "name": "Singapore"
          },
          "checkInDesk": "01",
          "gate": "C25",
          "quality": [
           "Basic",
           "Live"
          ],
          "revisedTime": {
           "local": "2022-10-05 00:40+08:00",
           "utc": "2022-10-04 16:40Z"
          },
          "scheduledTime": {
           "local": "2022-10-05 00:40+08:00",
           "utc": "2022-10-04 16:40Z"
          },
          "scheduledTimeLocal": "2022-10-05 00:40+08:00",
          "scheduledTimeUtc": "2022-10-04 16:40Z",
          "terminal": "1"
         },
         "isCargo": false,
         "number": "KL 836",
         "status": "Arrived"
        },
        {
         "aircraft": {
          "model": "Embraer 190"
         },
         "airline": {
          "name": "KLM"
         },
         "arrival": {
          "actualTimeLocal": "2022-10-05 07:55+02:00",
          "actualTimeUtc": "2022-10-05 05:55Z",
          "baggageBelt": "13",
          "quality": [
           "Basic",
           "Live"
          ],
          "revisedTime": {
           "local": "2022-10-05 07:55+02:00",
           "utc": "2022-10-05 05:55Z"
          },
          "runwayTime": {
           "local": "2022-10-05 07:55+02:00",
           "utc": "2022-10-05 05:55Z"
          },
          "runwayTimeLocal": "2022-10-05 07:55+02:00",
          "runwayTimeUtc": "2022-10-05 05:55Z",
          "scheduledTime": {
           "local": "2022-10-05 07:55+02:00",
           "utc": "2022-10-05 05:55Z"
          },
          "scheduledTimeLocal": "2022-10-05 07:55+02:00",
          "scheduledTimeUtc": "2022-10-05 05:55Z",
          "terminal": "2"
         },
         "codeshareStatus": "IsOperator",
         "departure": {
          "airport": {
           "iata": "BLQ",
           "icao": "LIPE",
           "name": "Bologna"
          },
          "quality": [
           "Basic"
          ],
          "scheduledTime": {
           "local": "2022-10-05 06:00+02:00",
           "utc": "2022-10-05 04:00Z"
          },
          "scheduledTimeLocal": "2022-10-05 06:00+02:00",
          "scheduledTimeUtc": "2022-10-05 04:00Z"
         },
         "isCargo": false,
         "number": "KL 1582",
         "status": "Arrived"
        },
        {
         "aircraft": {
          "model": "Boeing 737-800 (winglets)"
         },
         "airline": {
          "name": "KLM"
         },
         "arrival": {
          "actualTimeLocal": "2022-10-05 07:52+02:00",
          "actualTimeUtc": "2022-10-05 05:52Z",
          "baggageBelt": "11",
          "quality": [
           "Basic",
           "Live"
          ],
          "revisedTime": {
           "local": "2022-10-05 07:52+02:00",
           "utc": "2022-10-05 05:52Z"
          },
          "runwayTime": {
           "local": "2022-10-05 07:52+02:00",
           "utc": "2022-10-05 05:52Z"
          },
          "runwayTimeLocal": "2022-10-05 07:52+02:00",
          "runwayTimeUtc": "2022-10-05 05:52Z",
          "scheduledTime": {
           "local": "2022-10-05 08:20+02:00",
           "utc": "2022-10-05 06:20Z"
          },
          "scheduledTimeLocal": "2022-10-05 08:20+02:00",
          "scheduledTimeUtc": "2022-10-05 06:20Z",
          "terminal": "2"
         },
         "codeshareStatus": "IsOperator",
         "departure": {
          "airport": {
           "iata": "BHX",
           "icao": "EGBB",
           "name": "Birmingham"
          },
          "quality": [
           "Basic"
          ],
          "runwayTime": {
           "local": "2022-10-05 06:07+01:00",
           "utc": "2022-10-05 05:07Z"
          },
          "runwayTimeLocal": "2022-10-05 06:07+01:00",
          "runwayTimeUtc": "2022-10-05 05:07Z",
          "scheduledTime": {
           "local": "2022-10-05 06:00+01:00",
           "utc": "2022-10-05 05:00Z"
          },
          "scheduledTimeLocal": "2022-10-05 06:00+01:00",
          "scheduledTimeUtc": "2022-10-05 05:00Z"
         },
         "isCargo": false,
         "number": "KL 1420",
         "status": "Arrived"
        },
        {
         "aircraft": {
          "model": "Airbus A321-200 (Sharklets)"
         },
         "airline": {
          "name": "EasyJet Europe"
         },
         "arrival": {
          "actualTimeLocal": "2022-10-05 07:57+02:00",
          "actualTimeUtc": "2022-10-05 05:57Z",
          "baggageBelt": "20",
          "quality": [
           "Basic",
           "Live"
          ],
          "revisedTime": {
           "local": "2022-10-05 07:57+02:00",
           "utc": "2022-10-05 05:57Z"
          },
          "runwayTime": {
           "local": "2022-10-05 07:57+02:00",
           "utc": "2022-10-05 05:57Z"
          },
          "runwayTimeLocal": "2022-10-05 07:57+02:00",
          "runwayTimeUtc": "2022-10-05 05:57Z",
          "scheduledTime": {
           "local": "2022-10-05 08:05+02:00",
           "utc": "2022-10-05 06:05Z"
          },
          "scheduledTimeLocal": "2022-10-05 08:05+02:00",
          "scheduledTimeUtc": "2022-10-05 06:05Z",
          "terminal": "4"
         },
         "codeshareStatus": "IsOperator",
         "departure": {
          "airport": {
           "iata": "MXP",
           "icao": "LIMC",
           "name": "Milan"
          },
          "quality": []
         },
         "isCargo": false,
         "number": "EC 2723",
         "status": "Arrived"
        },
        {
         "aircraft": {
          "modeS": "A4D838",
          "model": "Airbus A330-900 NEO",
          "reg": "N411DX"
         },
         "airline": {
          "name": "Delta Air Lines"
         },
         "arrival": {
          "actualTimeLocal": "2022-10-05 07:45+02:00",
          "actualTimeUtc": "2022-10-05 05:45Z",
          "baggageBelt": "15",
          "quality": [
           "Basic",
           "Live"
          ],
          "revisedTime": {
           "local": "2022-10-05 07:45+02:00",
           "utc": "2022-10-05 05:45Z"
          },
          "runwayTime": {
           "local": "2022-10-05 07:45+02:00",
           "utc": "2022-10-05 05:45Z"
          },
          "runwayTimeLocal": "2022-10-05 07:45+02:00",
          "runwayTimeUtc": "2022-10-05 05:45Z",
          "scheduledTime": {
           "local": "2022-10-05 08:10+02:00",
           "utc": "2022-10-05 06:10Z"
          },
          "scheduledTimeLocal": "2022-10-05 08:10+02:00",
          "scheduledTimeUtc": "2022-10-05 06:10Z",
          "terminal": "3"
         },
         "callSign": "DAL160",
         "codeshareStatus": "IsOperator",
         "departure": {
          "actualTimeLocal": "2022-10-04 17:33-05:00",
          "actualTimeUtc": "2022-10-04 22:33Z",
          "airport": {
           "iata": "MSP",
           "icao": "KMSP",
           "name": "Minneapolis"
          },
          "quality": [
           "Basic",
           "Live"
          ],
          "revisedTime": {
           "local": "2022-10-04 17:33-05:00",
           "utc": "2022-10-04 22:33Z"
          },
          "runwayTime": {
           "local": "2022-10-04 17:33-05:00",
           "utc": "2022-10-04 22:33Z"
          },
          "runwayTimeLocal": "2022-10-04 17:33-05:00",
          "runwayTimeUtc": "2022-10-04 22:33Z",
          "scheduledTime": {
           "local": "2022-10-04 17:05-05:00",
           "utc": "2022-10-04 22:05Z"
          },
          "scheduledTimeLocal": "2022-10-04 17:05-05:00",
          "scheduledTimeUtc": "2022-10-04 22:05Z",
          "terminal": "1"
         },
         "isCargo": false,
         "number": "DL 160",
         "status": "Arrived"
        },
        {
         "aircraft": {
          "modeS": "485873",
          "model": "Embraer 175",
          "reg": "PH-EXW"
         },
         "airline": {
          "name": "KLM"
         },
         "arrival": {
          "actualTimeLocal": "2022-10-05 07:59+02:00",
          "actualTimeUtc": "2022-10-05 05:59Z",
          "baggageBelt": "11",
          "quality": [
           "Basic",
           "Live"
          ],
          "revisedTime": {
           "local": "2022-10-05 07:59+02:00",
           "utc": "2022-10-05 05:59Z"
          },
          "runwayTime": {
           "local": "2022-10-05 07:59+02:00",
           "utc": "2022-10-05 05:59Z"
          },
          "runwayTimeLocal": "2022-10-05 07:59+02:00",
          "runwayTimeUtc": "2022-10-05 05:59Z",
          "scheduledTime": {
           "local": "2022-10-05 08:15+02:00",
           "utc": "2022-10-05 06:15Z"
          },
          "scheduledTimeLocal": "2022-10-05 08:15+02:00",
          "scheduledTimeUtc": "2022-10-05 06:15Z",
          "terminal": "2"
         },
         "callSign": "KLM1058",
         "codeshareStatus": "IsOperator",
         "departure": {
          "airport": {
           "iata": "CWL",
           "icao": "EGFF",
           "name": "Cardiff"
          },
          "quality": [
           "Basic"
          ],
          "scheduledTime": {
           "local": "2022-10-05 06:05+01:00",
           "utc": "2022-10-05 05:05Z"
          },
          "scheduledTimeLocal": "2022-10-05 06:05+01:00",
          "scheduledTimeUtc": "2022-10-05 05:05Z"
         },
         "isCargo": false,
         "number": "KL 1058",
         "status": "Arrived"
        },
        {
         "aircraft": {
          "model": "Airbus A319"
         },
         "airline": {
          "name": "easyJet"
         },
         "arrival": {
          "actualTimeLocal": "2022-10-05 07:55+02:00",
          "actualTimeUtc": "2022-10-05 05:55Z",
          "baggageBelt": "19",
          "quality": [
           "Basic",
           "Live"
          ],
          "revisedTime": {
           "local": "2022-10-05 07:55+02:00",
           "utc": "2022-10-05 05:55Z"
          },
          "runwayTime": {
           "local": "2022-10-05 07:55+02:00",
           "utc": "2022-10-05 05:55Z"
          },
          "runwayTimeLocal": "2022-10-05 07:55+02:00",
          "runwayTimeUtc": "2022-10-05 05:55Z",
          "scheduledTime": {
           "local": "2022-10-05 08:25+02:00",
           "utc": "2022-10-05 06:25Z"
          },
          "scheduledTimeLocal": "2022-10-05 08:25+02:00",
          "scheduledTimeUtc": "2022-10-05 06:25Z",
          "terminal": "4"
         },
         "codeshareStatus": "IsOperator",
         "departure": {
          "airport": {
           "iata": "LGW",
           "icao": "EGKK",
           "name": "London"
          },
          "gate": "560",
          "quality": [
           "Basic"
          ],
          "scheduledTime": {
           "local": "2022-10-05 06:00+01:00",
           "utc": "2022-10-05 05:00Z"
          },
          "scheduledTimeLocal": "2022-10-05 06:00+01:00",
          "scheduledTimeUtc": "2022-10-05 05:00Z",
          "terminal": "N"
         },
         "isCargo": false,
         "number": "U2 8869",
         "status": "Arrived"
        },
        {
         "aircraft": {
          "model": "Boeing 737-800 (winglets)"
         },
         "airline": {
          "name": "KLM"
         },
         "arrival": {
          "actualTimeLocal": "2022-10-05 07:56+02:00",
          "actualTimeUtc": "2022-10-05 05:56Z",
          "baggageBelt": "9",
          "quality": [
           "Basic",
           "Live"
          ],
          "revisedTime": {
           "local": "2022-10-05 07:56+02:00",
           "utc": "2022-10-05 05:56Z"
          },
          "runwayTime": {
           "local": "2022-10-05 07:56+02:00",
           "utc": "2022-10-05 05:56Z"
          },
          "runwayTimeLocal": "2022-10-05 07:56+02:00",
          "runwayTimeUtc": "2022-10-05 05:56Z",
          "scheduledTime": {
           "local": "2022-10-05 08:15+02:00",
           "utc": "2022-10-05 06:15Z"
          },
          "scheduledTimeLocal": "2022-10-05 08:15+02:00",
          "scheduledTimeUtc": "2022-10-05 06:15Z",
          "terminal": "2"
         },
         "codeshareStatus": "IsOperator",
         "departure": {
          "airport": {
           "iata": "MAN",
           "icao": "EGCC",
           "name": "Manchester"
          },
          "gate": "3",
          "quality": [
           "Basic"
          ],
          "scheduledTime": {
           "local": "2022-10-05 05:55+01:00",
           "utc": "2022-10-05 04:55Z"
          },
          "scheduledTimeLocal": "2022-10-05 05:55+01:00",
          "scheduledTimeUtc": "2022-10-05 04:55Z",
          "terminal": "2"
         },
         "isCargo": false,
         "number": "KL 1070",
         "status": "Arrived"
        },
        {
         "aircraft": {
          "model": "Airbus A320"
         },
         "airline": {
          "name": "easyJet"
         },
         "arrival": {
          "actualTimeLocal": "2022-10-05 07:43+02:00",
          "actualTimeUtc": "2022-10-05 05:43Z",
          "baggageBelt": "20",
          "quality": [
           "Basic",
           "Live"
          ],
          "revisedTime": {
           "local": "2022-10-05 07:43+02:00",
           "utc": "2022-10-05 05:43Z"
          },
          "runwayTime": {
           "local": "2022-10-05 07:43+02:00",
           "utc": "2022-10-05 05:43Z"
          },
          "runwayTimeLocal": "2022-10-05 07:43+02:00",
          "runwayTimeUtc": "2022-10-05 05:43Z",
          "scheduledTime": {
           "local": "2022-10-05 08:15+02:00",
           "utc": "2022-10-05 06:15Z"
          },
          "scheduledTimeLocal": "2022-10-05 08:15+02:00",
          "scheduledTimeUtc": "2022-10-05 06:15Z",
          "terminal": "4"
         },
         "codeshareStatus": "IsOperator",
         "departure": {
          "airport": {
           "iata": "LTN",
           "icao": "EGGW",
           "name": "London"
          },
          "quality": [
           "Basic"
          ],
          "scheduledTime": {
           "local": "2022-10-05 06:00+01:00",
           "utc": "2022-10-05 05:00Z"
          },
          "scheduledTimeLocal": "2022-10-05 06:00+01:00",
          "scheduledTimeUtc": "2022-10-05 05:00Z"
         },
         "isCargo": false,
         "number": "U2 2153",
         "status": "Arrived"
        },
        {
         "aircraft": {
          "modeS": "484C51",
          "model": "Embraer 190",
          "reg": "PH-EZM"
         },
         "airline": {
          "name": "KLM"
         },
         "arrival": {
          "actualTimeLocal": "2022-10-05 07:58+02:00",
          "actualTimeUtc": "2022-10-05 05:58Z",
          "baggageBelt": "8",
          "quality": [
           "Basic",
           "Live"
          ],
          "revisedTime": {
           "local": "2022-10-05 07:58+02:00",
           "utc": "2022-10-05 05:58Z"
          },
          "runwayTime": {
           "local": "2022-10-05 07:58+02:00",
           "utc": "2022-10-05 05:58Z"
          },
          "runwayTimeLocal": "2022-10-05 07:58+02:00",
          "runwayTimeUtc": "2022-10-05 05:58Z",
          "scheduledTime": {
           "local": "2022-10-05 08:15+02:00",
           "utc": "2022-10-05 06:15Z"
          },
          "scheduledTimeLocal": "2022-10-05 08:15+02:00",
          "scheduledTimeUtc": "2022-10-05 06:15Z",
          "terminal": "2"
         },
         "callSign": "KLM1916",
         "codeshareStatus": "IsOperator",
         "departure": {
          "airport": {
           "iata": "GDN",
           "icao": "EPGD",
           "name": "Gdańsk"
          },
          "quality": [
           "Basic"
          ],
          "scheduledTime": {
           "local": "2022-10-05 06:25+02:00",
           "utc": "2022-10-05 04:25Z"
          },
          "scheduledTimeLocal": "2022-10-05 06:25+02:00",
          "scheduledTimeUtc": "2022-10-05 04:25Z"
         },
         "isCargo": false,
         "number": "KL 1916",
         "status": "Arrived"
        }
       ]
      },
      "text/plain": [
       "<IPython.core.display.JSON object>"
      ]
     },
     "metadata": {
      "application/json": {
       "expanded": false,
       "root": "root"
      }
     },
     "output_type": "display_data"
    }
   ],
   "source": [
    "display(JSON(response.json()))"
   ]
  },
  {
   "cell_type": "code",
   "execution_count": 42,
   "metadata": {
    "tags": []
   },
   "outputs": [],
   "source": [
    "from datetime import datetime,date,timedelta\n",
    "from pytz import timezone"
   ]
  },
  {
   "cell_type": "code",
   "execution_count": 43,
   "metadata": {
    "tags": []
   },
   "outputs": [],
   "source": [
    "today = datetime.now().astimezone(timezone(\"Europe/Berlin\")).date()"
   ]
  },
  {
   "cell_type": "code",
   "execution_count": 44,
   "metadata": {
    "tags": []
   },
   "outputs": [
    {
     "data": {
      "text/plain": [
       "datetime.date(2023, 4, 13)"
      ]
     },
     "execution_count": 44,
     "metadata": {},
     "output_type": "execute_result"
    }
   ],
   "source": [
    "tomorrow = (today + timedelta(days=1))\n",
    "tomorrow"
   ]
  },
  {
   "cell_type": "code",
   "execution_count": 45,
   "metadata": {
    "tags": []
   },
   "outputs": [],
   "source": [
    "def tomorrows_flight_arrivals(icao_list):\n",
    "\n",
    "  today = datetime.now().astimezone(timezone('Europe/Berlin')).date()\n",
    "  today = datetime.now().astimezone(timezone('UTC')).date()\n",
    "  tomorrow = (today + timedelta(days=1))\n",
    "\n",
    "  list_for_df = []\n",
    "\n",
    "  for icao in icao_list:\n",
    "    times = [[\"00:00\",\"11:59\"],[\"12:00\",\"23:59\"]]\n",
    "\n",
    "    for time in times:\n",
    "      url = f\"https://aerodatabox.p.rapidapi.com/flights/airports/icao/{icao}/{tomorrow}T{time[0]}/{tomorrow}T{time[1]}\"\n",
    "      querystring = {\"withLeg\":\"true\",\"direction\":\"Arrival\",\"withCancelled\":\"false\",\"withCodeshared\":\"true\",\"withCargo\":\"false\",\"withPrivate\":\"false\"}\n",
    "      headers = {\n",
    "          'x-rapidapi-host': \"aerodatabox.p.rapidapi.com\",\n",
    "          'x-rapidapi-key': \"0c9614578fmsh8ee8e2e2dc7d010p1f952bjsn77ac9569fedc\"\n",
    "          }\n",
    "      response = requests.request(\"GET\", url, headers=headers, params=querystring)\n",
    "      flights_json = response.json()\n",
    "\n",
    "      for flight in flights_json['arrivals']:\n",
    "        flights_dict = {}\n",
    "        flights_dict['arrival_icao'] = icao\n",
    "        # .get() is another way of ensuring our code doesn't break\n",
    "        # in the previous 2 notebooks you learnt about 'if' (cities) and 'try/except' (weather)\n",
    "        # .get() works similar, it will get the text if possible, if there is no text a None value will be inserted instead\n",
    "        flights_dict['arrival_time_local'] = flight['arrival'].get('scheduledTimeLocal', None)\n",
    "        flights_dict['arrival_terminal'] = flight['arrival'].get('terminal', None)\n",
    "        flights_dict['departure_city'] = flight['departure']['airport'].get('name', None)\n",
    "        flights_dict['departure_icao'] = flight['departure']['airport'].get('icao', None)\n",
    "        flights_dict['departure_time_local'] = flight['departure'].get('scheduledTimeLocal', None)\n",
    "        flights_dict['airline'] = flight['airline'].get('name', None)\n",
    "        flights_dict['flight_number'] = flight.get('number', None)\n",
    "        flights_dict['data_retrieved_on'] = datetime.now().astimezone(timezone('Europe/Berlin')).date()\n",
    "        flights_dict['arrival_time_local'] = datetime.now().astimezone(timezone('UTC')).date()\n",
    "        list_for_df.append(flights_dict)\n",
    "\n",
    "  return pd.DataFrame(list_for_df)"
   ]
  },
  {
   "cell_type": "code",
   "execution_count": 46,
   "metadata": {
    "tags": []
   },
   "outputs": [
    {
     "data": {
      "text/html": [
       "<div>\n",
       "<style scoped>\n",
       "    .dataframe tbody tr th:only-of-type {\n",
       "        vertical-align: middle;\n",
       "    }\n",
       "\n",
       "    .dataframe tbody tr th {\n",
       "        vertical-align: top;\n",
       "    }\n",
       "\n",
       "    .dataframe thead th {\n",
       "        text-align: right;\n",
       "    }\n",
       "</style>\n",
       "<table border=\"1\" class=\"dataframe\">\n",
       "  <thead>\n",
       "    <tr style=\"text-align: right;\">\n",
       "      <th></th>\n",
       "      <th>arrival_icao</th>\n",
       "      <th>arrival_time_local</th>\n",
       "      <th>arrival_terminal</th>\n",
       "      <th>departure_city</th>\n",
       "      <th>departure_icao</th>\n",
       "      <th>departure_time_local</th>\n",
       "      <th>airline</th>\n",
       "      <th>flight_number</th>\n",
       "      <th>data_retrieved_on</th>\n",
       "    </tr>\n",
       "  </thead>\n",
       "  <tbody>\n",
       "    <tr>\n",
       "      <th>2452</th>\n",
       "      <td>EGLL</td>\n",
       "      <td>2023-04-12</td>\n",
       "      <td>4</td>\n",
       "      <td>Doha</td>\n",
       "      <td>OTHH</td>\n",
       "      <td>None</td>\n",
       "      <td>Oman Air</td>\n",
       "      <td>WY 6433</td>\n",
       "      <td>2023-04-12</td>\n",
       "    </tr>\n",
       "  </tbody>\n",
       "</table>\n",
       "</div>"
      ],
      "text/plain": [
       "     arrival_icao arrival_time_local arrival_terminal departure_city  \\\n",
       "2452         EGLL         2023-04-12                4           Doha   \n",
       "\n",
       "     departure_icao departure_time_local   airline flight_number  \\\n",
       "2452           OTHH                 None  Oman Air       WY 6433   \n",
       "\n",
       "     data_retrieved_on  \n",
       "2452        2023-04-12  "
      ]
     },
     "execution_count": 46,
     "metadata": {},
     "output_type": "execute_result"
    }
   ],
   "source": [
    "icaos = ['EDDB', 'EGLL']\n",
    "tomorrows_flight_arrivals(icaos).tail(1)"
   ]
  },
  {
   "cell_type": "code",
   "execution_count": 47,
   "metadata": {
    "tags": []
   },
   "outputs": [],
   "source": [
    "flight_arrivals_df = tomorrows_flight_arrivals(icaos)"
   ]
  },
  {
   "cell_type": "code",
   "execution_count": null,
   "metadata": {},
   "outputs": [],
   "source": [
    "!pip install pymysql"
   ]
  },
  {
   "cell_type": "code",
   "execution_count": null,
   "metadata": {},
   "outputs": [],
   "source": [
    "\n"
   ]
  },
  {
   "cell_type": "code",
   "execution_count": 49,
   "metadata": {
    "tags": []
   },
   "outputs": [
    {
     "name": "stderr",
     "output_type": "stream",
     "text": [
      "/var/folders/h8/kd6k0w0116jcc2334rqg7g900000gn/T/ipykernel_5984/426565471.py:25: DeprecationWarning: The 'text' argument to find()-type methods is deprecated. Use 'string' instead.\n",
      "  response_dict['population'] = soup.select_one('th.infobox-header:-soup-contains(\"Population\")').parent.find_next_sibling().find(text=re.compile(r'\\d+'))\n"
     ]
    }
   ],
   "source": [
    "# begin a for loop to create a dictionary of information for each city\n",
    "cities = ['Berlin', 'Hamburg', 'London', 'Manchester', 'Barcelona']\n",
    "\n",
    "# empty list that will be filled with one dictionary of information per city\n",
    "list_for_df = []\n",
    "\n",
    "for city in cities:\n",
    "    # we can use the universal nature of wikipedias urls to our advantage here\n",
    "    # all of the urls are the same besides the city name\n",
    "    url = f'https://en.wikipedia.org/wiki/{city}'\n",
    "\n",
    "    # here we make our soup for the city\n",
    "    r = requests.get(url)\n",
    "    soup = BeautifulSoup(r.content, 'html.parser')\n",
    "\n",
    "    # here we initialise our empty dictionary for the city\n",
    "    response_dict = {}\n",
    "\n",
    "    # here we fill the dictionary with information using the ids, classes, and selectors that we found in the html\n",
    "    response_dict['city'] = soup.select(\".firstHeading\")[0].get_text()\n",
    "    response_dict['country'] = soup.select(\".infobox-data\")[0].get_text()\n",
    "    \n",
    "    # Not for all cities the info for the population is on the same spot\n",
    "    if soup.select_one('th.infobox-header:-soup-contains(\"Population\")'):\n",
    "        response_dict['population'] = soup.select_one('th.infobox-header:-soup-contains(\"Population\")').parent.find_next_sibling().find(text=re.compile(r'\\d+'))\n",
    "    response_dict['lat'] = soup.select(\".latitude\")[0].get_text()\n",
    "    response_dict['long'] = soup.select(\".longitude\")[0].get_text()\n",
    "    \n",
    "    \n",
    "    # add our dictionary for the city to list_for_df\n",
    "    list_for_df.append(response_dict)\n",
    "\n",
    "# make the DataFrame\n",
    "cities_df = pd.DataFrame(list_for_df)\n",
    "\n",
    "# fixing latitude\n",
    "cities_df['lat'] = cities_df['lat'].str.split('″').str[0].str.replace('°', '.', regex=False).str.replace('′', '', regex=False).str.replace('N', '00', regex=False)\n",
    "# fixing longitude\n",
    "cities_df['long'] = cities_df['long'].str.split('″').str[0].str.replace('°', '.', regex=False).str.replace('′', '', regex=False).str.replace('E', '00', regex=False)"
   ]
  },
  {
   "cell_type": "code",
   "execution_count": 50,
   "metadata": {
    "tags": []
   },
   "outputs": [
    {
     "data": {
      "text/html": [
       "<div>\n",
       "<style scoped>\n",
       "    .dataframe tbody tr th:only-of-type {\n",
       "        vertical-align: middle;\n",
       "    }\n",
       "\n",
       "    .dataframe tbody tr th {\n",
       "        vertical-align: top;\n",
       "    }\n",
       "\n",
       "    .dataframe thead th {\n",
       "        text-align: right;\n",
       "    }\n",
       "</style>\n",
       "<table border=\"1\" class=\"dataframe\">\n",
       "  <thead>\n",
       "    <tr style=\"text-align: right;\">\n",
       "      <th></th>\n",
       "      <th>city</th>\n",
       "      <th>country</th>\n",
       "      <th>population</th>\n",
       "      <th>lat</th>\n",
       "      <th>long</th>\n",
       "    </tr>\n",
       "  </thead>\n",
       "  <tbody>\n",
       "    <tr>\n",
       "      <th>0</th>\n",
       "      <td>Berlin</td>\n",
       "      <td>Germany</td>\n",
       "      <td>3,677,472</td>\n",
       "      <td>52.3112</td>\n",
       "      <td>13.2418</td>\n",
       "    </tr>\n",
       "    <tr>\n",
       "      <th>1</th>\n",
       "      <td>Hamburg</td>\n",
       "      <td>Germany</td>\n",
       "      <td>1,906,411</td>\n",
       "      <td>53.3300</td>\n",
       "      <td>10.0000</td>\n",
       "    </tr>\n",
       "    <tr>\n",
       "      <th>2</th>\n",
       "      <td>London</td>\n",
       "      <td>United Kingdom</td>\n",
       "      <td>8,799,800</td>\n",
       "      <td>51.3026</td>\n",
       "      <td>0.739</td>\n",
       "    </tr>\n",
       "    <tr>\n",
       "      <th>3</th>\n",
       "      <td>Manchester</td>\n",
       "      <td>United Kingdom</td>\n",
       "      <td>551,938</td>\n",
       "      <td>53.2846</td>\n",
       "      <td>2.1443</td>\n",
       "    </tr>\n",
       "    <tr>\n",
       "      <th>4</th>\n",
       "      <td>Barcelona</td>\n",
       "      <td>Spain</td>\n",
       "      <td>1,620,343</td>\n",
       "      <td>41.2300</td>\n",
       "      <td>2.1100</td>\n",
       "    </tr>\n",
       "  </tbody>\n",
       "</table>\n",
       "</div>"
      ],
      "text/plain": [
       "         city          country population      lat     long\n",
       "0      Berlin          Germany  3,677,472  52.3112  13.2418\n",
       "1     Hamburg          Germany  1,906,411  53.3300  10.0000\n",
       "2      London   United Kingdom  8,799,800  51.3026    0.739\n",
       "3  Manchester   United Kingdom    551,938  53.2846   2.1443\n",
       "4   Barcelona            Spain  1,620,343  41.2300   2.1100"
      ]
     },
     "execution_count": 50,
     "metadata": {},
     "output_type": "execute_result"
    }
   ],
   "source": [
    "cities_df"
   ]
  },
  {
   "cell_type": "code",
   "execution_count": 51,
   "metadata": {
    "tags": []
   },
   "outputs": [],
   "source": [
    "cities_df['population'] = cities_df['population'].str.replace(',', '', regex=False)\n",
    "cities_df['lat'] = cities_df['lat'].astype(float)\n",
    "cities_df['long'] = cities_df['long'].astype(float)"
   ]
  },
  {
   "cell_type": "code",
   "execution_count": 52,
   "metadata": {
    "tags": []
   },
   "outputs": [],
   "source": [
    "cities_df['population'] = cities_df['population'].astype(int)"
   ]
  },
  {
   "cell_type": "code",
   "execution_count": null,
   "metadata": {},
   "outputs": [],
   "source": [
    "host = 'xx'\n",
    "schema = 'gans_local\n",
    "user = 'admin'\n",
    "password = 'xx'\n",
    "port = 3306\n",
    "con = f'mysql+pymysql://{user}:{password}@{host}:{port}/{schema}'"
   ]
  },
  {
   "cell_type": "code",
   "execution_count": null,
   "metadata": {},
   "outputs": [],
   "source": [
    "cities_df.to_sql('cities',con=con,if_exists='append',index=False)"
   ]
  },
  {
   "cell_type": "code",
   "execution_count": null,
   "metadata": {},
   "outputs": [],
   "source": [
    "city_df = pd.read_sql('cities',con=con)\n",
    "city_df"
   ]
  },
  {
   "cell_type": "code",
   "execution_count": null,
   "metadata": {},
   "outputs": [],
   "source": [
    "API_key = '8194d44d7c480cb9934f928a232574b4'"
   ]
  },
  {
   "cell_type": "code",
   "execution_count": null,
   "metadata": {},
   "outputs": [],
   "source": [
    "weather_dict = {'city_id':[],\n",
    "                'time':[],\n",
    "                'temp':[],\n",
    "                'wind_speed':[]}"
   ]
  },
  {
   "cell_type": "code",
   "execution_count": null,
   "metadata": {},
   "outputs": [],
   "source": [
    "for i, city in enumerate(city_df['city_id']):\n",
    "    url = f\"http://api.openweathermap.org/data/2.5/forecast?lat={city_df.iloc[i]['lat']}&lon={city_df.iloc[i]['long']}&appid={API_key}&units=metric\"\n",
    "    response = requests.get(url)\n",
    "    weather_json = response.json()\n",
    "    for time in weather_json['list'][:9]:\n",
    "        weather_dict['city_id'].append(city)\n",
    "        weather_dict['time'].append(time['dt_txt'])\n",
    "        weather_dict['temp'].append(time['main']['temp'])\n",
    "        weather_dict['wind_speed'].append(time['wind']['speed'])"
   ]
  },
  {
   "cell_type": "code",
   "execution_count": null,
   "metadata": {},
   "outputs": [],
   "source": [
    "weather_df = pd.DataFrame(weather_dict)"
   ]
  },
  {
   "cell_type": "code",
   "execution_count": null,
   "metadata": {},
   "outputs": [],
   "source": [
    "weather_df.to_sql('weather',con=con,if_exists='append',index=False)"
   ]
  },
  {
   "cell_type": "code",
   "execution_count": null,
   "metadata": {},
   "outputs": [],
   "source": [
    "weather_check = pd.read_sql('weather',con=con)\n",
    "weather_check"
   ]
  }
 ],
 "metadata": {
  "colab": {
   "provenance": []
  },
  "kernelspec": {
   "display_name": "Python 3 (ipykernel)",
   "language": "python",
   "name": "python3"
  },
  "language_info": {
   "codemirror_mode": {
    "name": "ipython",
    "version": 3
   },
   "file_extension": ".py",
   "mimetype": "text/x-python",
   "name": "python",
   "nbconvert_exporter": "python",
   "pygments_lexer": "ipython3",
   "version": "3.9.13"
  }
 },
 "nbformat": 4,
 "nbformat_minor": 4
}
